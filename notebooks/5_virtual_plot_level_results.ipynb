{
 "cells": [
  {
   "cell_type": "raw",
   "id": "ee80acb2-d1f1-4668-9156-706b7daf1d1c",
   "metadata": {},
   "source": [
    "---\n",
    "title: Virtual plot level results\n",
    "author: Janne Mäyrä\n",
    "date: last-modified\n",
    "format:\n",
    "  html:\n",
    "    code-fold: true\n",
    "    toc: true\n",
    "    toc-depth: 3\n",
    "    number-sections: true\n",
    "    smooth-scroll: true\n",
    "---"
   ]
  },
  {
   "cell_type": "code",
   "execution_count": 1,
   "id": "01cee4ec",
   "metadata": {
    "ExecuteTime": {
     "end_time": "2022-04-28T06:17:19.810771Z",
     "start_time": "2022-04-28T06:17:17.766578Z"
    }
   },
   "outputs": [],
   "source": [
    "from drone_detector.utils import *\n",
    "from drone_detector.imports import *\n",
    "import os\n",
    "from drone_detector.metrics import *\n",
    "import warnings\n",
    "warnings.filterwarnings(\"ignore\")\n",
    "sys.path.append('..')\n",
    "from src.postproc_functions import *\n",
    "from tqdm.auto import tqdm\n",
    "tqdm.pandas()"
   ]
  },
  {
   "cell_type": "markdown",
   "id": "6b23928f-744e-40fe-81f4-15a99ac0d67f",
   "metadata": {},
   "source": [
    "As patch-level data and results are not really useful for our purposes, here we run the predictions for larger virtual plots. Each plot is tiled to 512x512px patches, possibly with 256px overlap and afterwards the predictions are collated and optionally cleaned so that the amount of overlapping predictions is lower."
   ]
  },
  {
   "cell_type": "markdown",
   "id": "3610fd9c",
   "metadata": {},
   "source": [
    "# Hiidenportti test set"
   ]
  },
  {
   "cell_type": "markdown",
   "id": "c7183fa2",
   "metadata": {},
   "source": [
    "As Hiidenportti test set is so small, we can run predictions here if needed."
   ]
  },
  {
   "cell_type": "markdown",
   "id": "860a8c75",
   "metadata": {},
   "source": [
    "## No overlap, no post-processing"
   ]
  },
  {
   "cell_type": "code",
   "execution_count": 2,
   "id": "aa605f8f",
   "metadata": {
    "ExecuteTime": {
     "end_time": "2022-04-28T06:17:21.667373Z",
     "start_time": "2022-04-28T06:17:19.813034Z"
    }
   },
   "outputs": [],
   "source": [
    "from drone_detector.engines.detectron2.predict import predict_instance_masks\n",
    "raw_path = Path('../../data/raw/hiidenportti/virtual_plots/buffered_test/images')\n",
    "test_rasters = [raw_path/f for f in os.listdir(raw_path) if f.endswith('tif')]"
   ]
  },
  {
   "cell_type": "markdown",
   "id": "a8a0ffa1",
   "metadata": {},
   "source": [
    "Template folder has the following structure:\n",
    "\n",
    "```\n",
    "template_folder\n",
    "|-predicted_vectors\n",
    "|-raster_tiles\n",
    "|-vector_tiles\n",
    "|-raw_preds\n",
    "```\n",
    "\n",
    "Where `raster_tiles` and `vector_tiles` are symbolic links pointing to corresponding data directories, and `predicted_vectors` and `raw_preds` are empty folders for predictions."
   ]
  },
  {
   "cell_type": "code",
   "execution_count": 3,
   "id": "3125c860",
   "metadata": {
    "ExecuteTime": {
     "end_time": "2022-04-28T06:17:21.696999Z",
     "start_time": "2022-04-28T06:17:21.668531Z"
    }
   },
   "outputs": [],
   "source": [
    "pred_outpath = Path('../results/hp_unprocessed/')\n",
    "if not os.path.exists(pred_outpath):\n",
    "    shutil.copytree('../results/template_folder/', pred_outpath, symlinks=True)"
   ]
  },
  {
   "cell_type": "code",
   "execution_count": 4,
   "id": "fd2885f5",
   "metadata": {
    "ExecuteTime": {
     "end_time": "2022-04-28T06:22:28.919695Z",
     "start_time": "2022-04-28T06:17:30.538185Z"
    }
   },
   "outputs": [
    {
     "name": "stdout",
     "output_type": "stream",
     "text": [
      "Reading and tiling ../../data/raw/hiidenportti/virtual_plots/buffered_test/images/104_49_Hiidenportti_Chunk5_orto.tif to 512x512 tiles with overlap of 0px\n"
     ]
    },
    {
     "data": {
      "application/vnd.jupyter.widget-view+json": {
       "model_id": "9e55fb022f0a45809aa618f1679d5548",
       "version_major": 2,
       "version_minor": 0
      },
      "text/plain": [
       "0it [00:00, ?it/s]"
      ]
     },
     "metadata": {},
     "output_type": "display_data"
    },
    {
     "name": "stdout",
     "output_type": "stream",
     "text": [
      "Loading model\n",
      "Starting predictions\n"
     ]
    },
    {
     "data": {
      "application/vnd.jupyter.widget-view+json": {
       "model_id": "27c0ae27a3b74a2eb5be7aa46ef0363d",
       "version_major": 2,
       "version_minor": 0
      },
      "text/plain": [
       "  0%|          | 0/72 [00:00<?, ?it/s]"
      ]
     },
     "metadata": {},
     "output_type": "display_data"
    },
    {
     "data": {
      "application/vnd.jupyter.widget-view+json": {
       "model_id": "d6c05bf830434542b8e01d85d391d814",
       "version_major": 2,
       "version_minor": 0
      },
      "text/plain": [
       "  0%|          | 0/72 [00:00<?, ?it/s]"
      ]
     },
     "metadata": {},
     "output_type": "display_data"
    },
    {
     "data": {
      "application/vnd.jupyter.widget-view+json": {
       "model_id": "5756c799dcbb440caeb1ed7638cbf379",
       "version_major": 2,
       "version_minor": 0
      },
      "text/plain": [
       "  0%|          | 0/72 [00:00<?, ?it/s]"
      ]
     },
     "metadata": {},
     "output_type": "display_data"
    },
    {
     "name": "stdout",
     "output_type": "stream",
     "text": [
      "1172 polygons before non-max suppression\n",
      "1172 polygons after non-max suppression\n",
      "Removing intermediate files\n",
      "Reading and tiling ../../data/raw/hiidenportti/virtual_plots/buffered_test/images/104_73_Hiidenportti_Chunk9_orto.tif to 512x512 tiles with overlap of 0px\n"
     ]
    },
    {
     "data": {
      "application/vnd.jupyter.widget-view+json": {
       "model_id": "d83f80fbb68840aaab483762e7b7151c",
       "version_major": 2,
       "version_minor": 0
      },
      "text/plain": [
       "0it [00:00, ?it/s]"
      ]
     },
     "metadata": {},
     "output_type": "display_data"
    },
    {
     "name": "stdout",
     "output_type": "stream",
     "text": [
      "Loading model\n",
      "Starting predictions\n"
     ]
    },
    {
     "data": {
      "application/vnd.jupyter.widget-view+json": {
       "model_id": "f6979dc368be4e0681db3a02be328dc1",
       "version_major": 2,
       "version_minor": 0
      },
      "text/plain": [
       "  0%|          | 0/25 [00:00<?, ?it/s]"
      ]
     },
     "metadata": {},
     "output_type": "display_data"
    },
    {
     "data": {
      "application/vnd.jupyter.widget-view+json": {
       "model_id": "8700db58eefe40ffaf21fd0f829387d1",
       "version_major": 2,
       "version_minor": 0
      },
      "text/plain": [
       "  0%|          | 0/25 [00:00<?, ?it/s]"
      ]
     },
     "metadata": {},
     "output_type": "display_data"
    },
    {
     "data": {
      "application/vnd.jupyter.widget-view+json": {
       "model_id": "3eb02e159bcd47dfbc1eda94f6a38aa7",
       "version_major": 2,
       "version_minor": 0
      },
      "text/plain": [
       "  0%|          | 0/22 [00:00<?, ?it/s]"
      ]
     },
     "metadata": {},
     "output_type": "display_data"
    },
    {
     "name": "stdout",
     "output_type": "stream",
     "text": [
      "266 polygons before non-max suppression\n",
      "266 polygons after non-max suppression\n",
      "Removing intermediate files\n",
      "Reading and tiling ../../data/raw/hiidenportti/virtual_plots/buffered_test/images/104_28_Hiidenportti_Chunk1_orto.tif to 512x512 tiles with overlap of 0px\n"
     ]
    },
    {
     "data": {
      "application/vnd.jupyter.widget-view+json": {
       "model_id": "8e5b066c621840f199b651c421acc8af",
       "version_major": 2,
       "version_minor": 0
      },
      "text/plain": [
       "0it [00:00, ?it/s]"
      ]
     },
     "metadata": {},
     "output_type": "display_data"
    },
    {
     "name": "stdout",
     "output_type": "stream",
     "text": [
      "Loading model\n",
      "Starting predictions\n"
     ]
    },
    {
     "data": {
      "application/vnd.jupyter.widget-view+json": {
       "model_id": "c9d46201070642c18d7e5361d4d478ed",
       "version_major": 2,
       "version_minor": 0
      },
      "text/plain": [
       "  0%|          | 0/144 [00:00<?, ?it/s]"
      ]
     },
     "metadata": {},
     "output_type": "display_data"
    },
    {
     "data": {
      "application/vnd.jupyter.widget-view+json": {
       "model_id": "773b831d5b7d40118802d989e89d396c",
       "version_major": 2,
       "version_minor": 0
      },
      "text/plain": [
       "  0%|          | 0/144 [00:00<?, ?it/s]"
      ]
     },
     "metadata": {},
     "output_type": "display_data"
    },
    {
     "data": {
      "application/vnd.jupyter.widget-view+json": {
       "model_id": "a8e6735d30eb495d80d94905d1effb8e",
       "version_major": 2,
       "version_minor": 0
      },
      "text/plain": [
       "  0%|          | 0/143 [00:00<?, ?it/s]"
      ]
     },
     "metadata": {},
     "output_type": "display_data"
    },
    {
     "name": "stdout",
     "output_type": "stream",
     "text": [
      "1486 polygons before non-max suppression\n",
      "1486 polygons after non-max suppression\n",
      "Removing intermediate files\n",
      "Reading and tiling ../../data/raw/hiidenportti/virtual_plots/buffered_test/images/104_41_Hiidenportti_Chunk8_orto.tif to 512x512 tiles with overlap of 0px\n"
     ]
    },
    {
     "data": {
      "application/vnd.jupyter.widget-view+json": {
       "model_id": "030c39c34c8c4960a556f622d964004e",
       "version_major": 2,
       "version_minor": 0
      },
      "text/plain": [
       "0it [00:00, ?it/s]"
      ]
     },
     "metadata": {},
     "output_type": "display_data"
    },
    {
     "name": "stdout",
     "output_type": "stream",
     "text": [
      "Loading model\n",
      "Starting predictions\n"
     ]
    },
    {
     "data": {
      "application/vnd.jupyter.widget-view+json": {
       "model_id": "f15d5bcc69bb4f8d94572071fb8f71a7",
       "version_major": 2,
       "version_minor": 0
      },
      "text/plain": [
       "  0%|          | 0/42 [00:00<?, ?it/s]"
      ]
     },
     "metadata": {},
     "output_type": "display_data"
    },
    {
     "data": {
      "application/vnd.jupyter.widget-view+json": {
       "model_id": "d1468054526d4a0bb5632d0f136816ba",
       "version_major": 2,
       "version_minor": 0
      },
      "text/plain": [
       "  0%|          | 0/42 [00:00<?, ?it/s]"
      ]
     },
     "metadata": {},
     "output_type": "display_data"
    },
    {
     "data": {
      "application/vnd.jupyter.widget-view+json": {
       "model_id": "d1cc11bdeef14aa7a2b93b0039889a01",
       "version_major": 2,
       "version_minor": 0
      },
      "text/plain": [
       "  0%|          | 0/42 [00:00<?, ?it/s]"
      ]
     },
     "metadata": {},
     "output_type": "display_data"
    },
    {
     "name": "stdout",
     "output_type": "stream",
     "text": [
      "548 polygons before non-max suppression\n",
      "548 polygons after non-max suppression\n",
      "Removing intermediate files\n",
      "Reading and tiling ../../data/raw/hiidenportti/virtual_plots/buffered_test/images/104_32_Hiidenportti_Chunk5_orto.tif to 512x512 tiles with overlap of 0px\n"
     ]
    },
    {
     "data": {
      "application/vnd.jupyter.widget-view+json": {
       "model_id": "5bc460b6157347369f17ba343ad1e4a0",
       "version_major": 2,
       "version_minor": 0
      },
      "text/plain": [
       "0it [00:00, ?it/s]"
      ]
     },
     "metadata": {},
     "output_type": "display_data"
    },
    {
     "name": "stdout",
     "output_type": "stream",
     "text": [
      "Loading model\n",
      "Starting predictions\n"
     ]
    },
    {
     "data": {
      "application/vnd.jupyter.widget-view+json": {
       "model_id": "c75a8772d6744128a11e3df7336d95c8",
       "version_major": 2,
       "version_minor": 0
      },
      "text/plain": [
       "  0%|          | 0/25 [00:00<?, ?it/s]"
      ]
     },
     "metadata": {},
     "output_type": "display_data"
    },
    {
     "data": {
      "application/vnd.jupyter.widget-view+json": {
       "model_id": "dda8038d36a74ab6896af084ca6312fb",
       "version_major": 2,
       "version_minor": 0
      },
      "text/plain": [
       "  0%|          | 0/25 [00:00<?, ?it/s]"
      ]
     },
     "metadata": {},
     "output_type": "display_data"
    },
    {
     "data": {
      "application/vnd.jupyter.widget-view+json": {
       "model_id": "bc766a437cd54886a4f08d2e96379f95",
       "version_major": 2,
       "version_minor": 0
      },
      "text/plain": [
       "  0%|          | 0/25 [00:00<?, ?it/s]"
      ]
     },
     "metadata": {},
     "output_type": "display_data"
    },
    {
     "name": "stdout",
     "output_type": "stream",
     "text": [
      "199 polygons before non-max suppression\n",
      "199 polygons after non-max suppression\n",
      "Removing intermediate files\n"
     ]
    }
   ],
   "source": [
    "#| output: false\n",
    "\n",
    "for t in test_rasters:\n",
    "    outfile_name = pred_outpath/f'raw_preds/{str(t).split(\"/\")[-1][:-4]}.geojson'\n",
    "    predict_instance_masks(path_to_model_config='../models/hiidenportti/mask_rcnn_R_101_FPN_3x/config.yaml', \n",
    "                           path_to_image=str(t),\n",
    "                           outfile=str(outfile_name),\n",
    "                           processing_dir='temp',\n",
    "                           tile_size=512,\n",
    "                           tile_overlap=0,\n",
    "                           smooth_preds=False,\n",
    "                           use_tta=True,\n",
    "                           coco_set='../../data/processed/hiidenportti/hiidenportti_valid.json',\n",
    "                           postproc_results=False)"
   ]
  },
  {
   "cell_type": "code",
   "execution_count": 5,
   "id": "45bec7c9",
   "metadata": {
    "ExecuteTime": {
     "end_time": "2022-04-28T06:22:57.303651Z",
     "start_time": "2022-04-28T06:22:57.297778Z"
    }
   },
   "outputs": [],
   "source": [
    "raw_res_path = pred_outpath\n",
    "truth_shps = sorted([raw_res_path/'vector_tiles'/f for f in os.listdir(raw_res_path/'vector_tiles')])\n",
    "raw_shps = sorted([raw_res_path/'raw_preds'/f for f in os.listdir(raw_res_path/'raw_preds')])\n",
    "rasters = sorted([raw_res_path/'raster_tiles'/f for f in os.listdir(raw_res_path/'raster_tiles')])"
   ]
  },
  {
   "cell_type": "markdown",
   "id": "785a056a",
   "metadata": {},
   "source": [
    "\"Raw\" predictions are modified as such:\n",
    "1. Invalid polygons are fixed to be valid polygons. MultiPolygon masks are replaced with the largest single polygon of the multipoly.\n",
    "2. Extent is clipped to be same as the corresponding ground truth data\n",
    "3. Label numbering is adjusted\n",
    "4. Polygons with area less than 16² pixels are discarded"
   ]
  },
  {
   "cell_type": "code",
   "execution_count": 6,
   "id": "3e385b70",
   "metadata": {
    "ExecuteTime": {
     "end_time": "2022-04-28T06:23:04.891258Z",
     "start_time": "2022-04-28T06:22:58.953040Z"
    }
   },
   "outputs": [],
   "source": [
    "for p, t in zip(raw_shps, truth_shps):\n",
    "    temp_pred = gpd.read_file(p)\n",
    "    temp_truth = gpd.read_file(t)\n",
    "    temp_pred['geometry'] = temp_pred.apply(lambda row: fix_multipolys(row.geometry) \n",
    "                                            if row.geometry.type == 'MultiPolygon' \n",
    "                                            else shapely.geometry.Polygon(row.geometry.exterior), axis=1)\n",
    "    temp_pred['label'] += 1\n",
    "    temp_pred = gpd.clip(temp_pred, box(*temp_truth.total_bounds))\n",
    "    temp_pred = temp_pred[temp_pred.geometry.area > 16*0.04**2]\n",
    "    temp_pred.to_file(raw_res_path/'predicted_vectors'/p.name)"
   ]
  },
  {
   "cell_type": "code",
   "execution_count": 7,
   "id": "7152246b",
   "metadata": {
    "ExecuteTime": {
     "end_time": "2022-04-28T06:23:04.894980Z",
     "start_time": "2022-04-28T06:23:04.892472Z"
    }
   },
   "outputs": [],
   "source": [
    "pred_shps = sorted([raw_res_path/'predicted_vectors'/f for f in os.listdir(raw_res_path/'predicted_vectors')])"
   ]
  },
  {
   "cell_type": "markdown",
   "id": "587337e1-52b9-463a-ae55-f1c0e1d208a7",
   "metadata": {},
   "source": [
    "Collate predictions and annotations so that IoU and such is easy to compute."
   ]
  },
  {
   "cell_type": "code",
   "execution_count": 8,
   "id": "54e45c59",
   "metadata": {
    "ExecuteTime": {
     "end_time": "2022-04-28T06:23:06.328927Z",
     "start_time": "2022-04-28T06:23:04.896237Z"
    }
   },
   "outputs": [],
   "source": [
    "truths = None\n",
    "preds = None\n",
    "\n",
    "for p, t in zip(pred_shps, truth_shps):\n",
    "    temp_pred = gpd.read_file(p)\n",
    "    temp_truth = gpd.read_file(t)\n",
    "    if truths is None:\n",
    "        truths = temp_truth\n",
    "        preds = temp_pred\n",
    "    else:\n",
    "        truths = pd.concat((truths, temp_truth))\n",
    "        preds = pd.concat((preds, temp_pred))"
   ]
  },
  {
   "cell_type": "markdown",
   "id": "834919cb-ade7-4f8f-b36f-e7074a24d986",
   "metadata": {},
   "source": [
    "Fix labeling."
   ]
  },
  {
   "cell_type": "code",
   "execution_count": 9,
   "id": "6164e6d1",
   "metadata": {
    "ExecuteTime": {
     "end_time": "2022-04-28T06:23:06.357251Z",
     "start_time": "2022-04-28T06:23:06.330092Z"
    }
   },
   "outputs": [],
   "source": [
    "preds['layer'] = preds.apply(lambda row: 'groundwood' if row.label == 2 else 'uprightwood', axis=1)"
   ]
  },
  {
   "cell_type": "markdown",
   "id": "0ef1d4fb-74dc-48b7-9b07-98bf7e949d89",
   "metadata": {},
   "source": [
    "Check the number of predictions. The models have found almost 1500 more deadwood instances at this point."
   ]
  },
  {
   "cell_type": "code",
   "execution_count": 10,
   "id": "f28838fa",
   "metadata": {
    "ExecuteTime": {
     "end_time": "2022-04-28T06:23:06.367321Z",
     "start_time": "2022-04-28T06:23:06.358209Z"
    }
   },
   "outputs": [
    {
     "data": {
      "text/plain": [
       "((3179, 4), (1741, 6))"
      ]
     },
     "execution_count": 10,
     "metadata": {},
     "output_type": "execute_result"
    }
   ],
   "source": [
    "preds.shape, truths.shape"
   ]
  },
  {
   "cell_type": "code",
   "execution_count": 11,
   "id": "d8f1ed44",
   "metadata": {
    "ExecuteTime": {
     "end_time": "2022-04-28T06:23:06.377227Z",
     "start_time": "2022-04-28T06:23:06.368238Z"
    }
   },
   "outputs": [
    {
     "data": {
      "text/plain": [
       "2    2832\n",
       "1     347\n",
       "Name: label, dtype: int64"
      ]
     },
     "execution_count": 11,
     "metadata": {},
     "output_type": "execute_result"
    }
   ],
   "source": [
    "preds.label.value_counts()"
   ]
  },
  {
   "cell_type": "code",
   "execution_count": 12,
   "id": "a128e76d",
   "metadata": {
    "ExecuteTime": {
     "end_time": "2022-04-28T06:23:10.444566Z",
     "start_time": "2022-04-28T06:23:08.570576Z"
    }
   },
   "outputs": [],
   "source": [
    "dis_truths = truths.dissolve(by='layer')\n",
    "dis_preds = preds.dissolve(by='layer')"
   ]
  },
  {
   "cell_type": "markdown",
   "id": "643d14ad-2772-45ef-bc74-ffddbc25462b",
   "metadata": {},
   "source": [
    "Check IoU-score."
   ]
  },
  {
   "cell_type": "code",
   "execution_count": 13,
   "id": "b334cd43",
   "metadata": {
    "ExecuteTime": {
     "end_time": "2022-04-28T06:23:11.217134Z",
     "start_time": "2022-04-28T06:23:10.445798Z"
    }
   },
   "outputs": [
    {
     "data": {
      "text/plain": [
       "layer\n",
       "groundwood     0.473983\n",
       "uprightwood    0.497028\n",
       "dtype: float64"
      ]
     },
     "execution_count": 13,
     "metadata": {},
     "output_type": "execute_result"
    }
   ],
   "source": [
    "poly_IoU(dis_truths, dis_preds)"
   ]
  },
  {
   "cell_type": "markdown",
   "id": "58253252-1dd3-49e3-8104-79c5df68dae9",
   "metadata": {},
   "source": [
    "Run GisCOCOeval, which converts georeferenced vector files to COCO-annotations and runs the metrics."
   ]
  },
  {
   "cell_type": "code",
   "execution_count": 14,
   "id": "5b822685",
   "metadata": {
    "ExecuteTime": {
     "end_time": "2022-04-28T06:23:11.220484Z",
     "start_time": "2022-04-28T06:23:11.218370Z"
    }
   },
   "outputs": [],
   "source": [
    "deadwood_categories = [{'supercategory': 'deadwood', 'id':1, 'name':'uprightwood'},\n",
    "                 \n",
    "                       {'supercategory': 'deadwood', 'id':2, 'name':'groundwood'}]\n",
    "\n",
    "raw_coco_eval = GisCOCOeval(raw_res_path, raw_res_path, \n",
    "                            None, None, deadwood_categories)"
   ]
  },
  {
   "cell_type": "code",
   "execution_count": 15,
   "id": "56a6633d",
   "metadata": {
    "ExecuteTime": {
     "end_time": "2022-04-28T06:23:17.426832Z",
     "start_time": "2022-04-28T06:23:11.221631Z"
    }
   },
   "outputs": [
    {
     "data": {
      "application/vnd.jupyter.widget-view+json": {
       "model_id": "7ae2983fe2bf47f2b3eddabebb2c7051",
       "version_major": 2,
       "version_minor": 0
      },
      "text/plain": [
       "0it [00:00, ?it/s]"
      ]
     },
     "metadata": {},
     "output_type": "display_data"
    },
    {
     "data": {
      "application/vnd.jupyter.widget-view+json": {
       "model_id": "ca5c6606385d46e68a2be690d205024f",
       "version_major": 2,
       "version_minor": 0
      },
      "text/plain": [
       "  0%|          | 0/5 [00:00<?, ?it/s]"
      ]
     },
     "metadata": {},
     "output_type": "display_data"
    }
   ],
   "source": [
    "raw_coco_eval.prepare_data(gt_label_col='layer')"
   ]
  },
  {
   "cell_type": "code",
   "execution_count": 16,
   "id": "5578e2fb",
   "metadata": {
    "ExecuteTime": {
     "end_time": "2022-04-28T06:23:17.586833Z",
     "start_time": "2022-04-28T06:23:17.428032Z"
    }
   },
   "outputs": [
    {
     "name": "stdout",
     "output_type": "stream",
     "text": [
      "loading annotations into memory...\n",
      "Done (t=0.03s)\n",
      "creating index...\n",
      "index created!\n",
      "Loading and preparing results...\n",
      "DONE (t=0.12s)\n",
      "creating index...\n",
      "index created!\n"
     ]
    }
   ],
   "source": [
    "raw_coco_eval.prepare_eval()"
   ]
  },
  {
   "cell_type": "markdown",
   "id": "6dbde45f-bdab-4888-90f9-cef7e95145da",
   "metadata": {},
   "source": [
    "As the virtual plots can contain more than 1000 annotations, set `maxDets` to larger values than default."
   ]
  },
  {
   "cell_type": "code",
   "execution_count": 17,
   "id": "b43be11e",
   "metadata": {
    "ExecuteTime": {
     "end_time": "2022-04-28T06:23:17.589825Z",
     "start_time": "2022-04-28T06:23:17.588041Z"
    }
   },
   "outputs": [],
   "source": [
    "raw_coco_eval.coco_eval.params.maxDets = [1000, 10000]"
   ]
  },
  {
   "cell_type": "code",
   "execution_count": 18,
   "id": "ac31ea92",
   "metadata": {
    "ExecuteTime": {
     "end_time": "2022-04-28T06:23:54.256698Z",
     "start_time": "2022-04-28T06:23:17.590880Z"
    }
   },
   "outputs": [
    {
     "name": "stdout",
     "output_type": "stream",
     "text": [
      "\n",
      "Evaluating for category uprightwood\n",
      "Running per image evaluation...\n",
      "Evaluate annotation type *segm*\n",
      "DONE (t=0.73s).\n",
      "Accumulating evaluation results...\n",
      "DONE (t=0.01s).\n",
      " Average Precision  (AP) @[ IoU=0.50:0.95 | area=   all | maxDets=10000 ] = 0.255\n",
      " Average Precision  (AP) @[ IoU=0.50      | area=   all | maxDets=10000 ] = 0.528\n",
      " Average Precision  (AP) @[ IoU=0.75      | area=   all | maxDets=10000 ] = 0.223\n",
      " Average Precision  (AP) @[ IoU=0.50:0.95 | area= small | maxDets=10000 ] = 0.110\n",
      " Average Precision  (AP) @[ IoU=0.50:0.95 | area=medium | maxDets=10000 ] = 0.315\n",
      " Average Precision  (AP) @[ IoU=0.50:0.95 | area= large | maxDets=10000 ] = 1.000\n",
      " Average Recall     (AR) @[ IoU=0.50:0.95 | area=   all | maxDets=1000 ] = 0.351\n",
      " Average Recall     (AR) @[ IoU=0.50:0.95 | area= small | maxDets=1000 ] = 0.204\n",
      " Average Recall     (AR) @[ IoU=0.50:0.95 | area=medium | maxDets=1000 ] = 0.408\n",
      " Average Recall     (AR) @[ IoU=0.50:0.95 | area= large | maxDets=1000 ] = 1.000\n",
      "\n",
      "Evaluating for category groundwood\n",
      "Running per image evaluation...\n",
      "Evaluate annotation type *segm*\n",
      "DONE (t=17.54s).\n",
      "Accumulating evaluation results...\n",
      "DONE (t=0.02s).\n",
      " Average Precision  (AP) @[ IoU=0.50:0.95 | area=   all | maxDets=10000 ] = 0.206\n",
      " Average Precision  (AP) @[ IoU=0.50      | area=   all | maxDets=10000 ] = 0.540\n",
      " Average Precision  (AP) @[ IoU=0.75      | area=   all | maxDets=10000 ] = 0.106\n",
      " Average Precision  (AP) @[ IoU=0.50:0.95 | area= small | maxDets=10000 ] = 0.209\n",
      " Average Precision  (AP) @[ IoU=0.50:0.95 | area=medium | maxDets=10000 ] = 0.155\n",
      " Average Precision  (AP) @[ IoU=0.50:0.95 | area= large | maxDets=10000 ] = -1.000\n",
      " Average Recall     (AR) @[ IoU=0.50:0.95 | area=   all | maxDets=1000 ] = 0.345\n",
      " Average Recall     (AR) @[ IoU=0.50:0.95 | area= small | maxDets=1000 ] = 0.352\n",
      " Average Recall     (AR) @[ IoU=0.50:0.95 | area=medium | maxDets=1000 ] = 0.185\n",
      " Average Recall     (AR) @[ IoU=0.50:0.95 | area= large | maxDets=1000 ] = -1.000\n",
      "\n",
      "Evaluating for full data...\n",
      "Running per image evaluation...\n",
      "Evaluate annotation type *segm*\n",
      "DONE (t=18.31s).\n",
      "Accumulating evaluation results...\n",
      "DONE (t=0.03s).\n",
      " Average Precision  (AP) @[ IoU=0.50:0.95 | area=   all | maxDets=10000 ] = 0.231\n",
      " Average Precision  (AP) @[ IoU=0.50      | area=   all | maxDets=10000 ] = 0.534\n",
      " Average Precision  (AP) @[ IoU=0.75      | area=   all | maxDets=10000 ] = 0.165\n",
      " Average Precision  (AP) @[ IoU=0.50:0.95 | area= small | maxDets=10000 ] = 0.160\n",
      " Average Precision  (AP) @[ IoU=0.50:0.95 | area=medium | maxDets=10000 ] = 0.235\n",
      " Average Precision  (AP) @[ IoU=0.50:0.95 | area= large | maxDets=10000 ] = 1.000\n",
      " Average Recall     (AR) @[ IoU=0.50:0.95 | area=   all | maxDets=1000 ] = 0.348\n",
      " Average Recall     (AR) @[ IoU=0.50:0.95 | area= small | maxDets=1000 ] = 0.278\n",
      " Average Recall     (AR) @[ IoU=0.50:0.95 | area=medium | maxDets=1000 ] = 0.297\n",
      " Average Recall     (AR) @[ IoU=0.50:0.95 | area= large | maxDets=1000 ] = 1.000\n"
     ]
    }
   ],
   "source": [
    "raw_coco_eval.evaluate()"
   ]
  },
  {
   "cell_type": "markdown",
   "id": "61e18891-3d39-4235-b9a4-47b6d487c2b9",
   "metadata": {},
   "source": [
    "Compared to the patch-level results, the AP50 score is around 0.2 lower than patch-level results. However, edges are not handled in any way in this processing level."
   ]
  },
  {
   "cell_type": "markdown",
   "id": "0091722e-8a08-47d4-b3f1-3a898b363404",
   "metadata": {
    "ExecuteTime": {
     "end_time": "2022-04-28T06:23:54.260420Z",
     "start_time": "2022-04-28T06:23:54.258149Z"
    }
   },
   "source": [
    "Get the number of false positives (FP), true positives (TP) and false negatives (FN). Object detection has infinite number of true negatives so we are not interested in them."
   ]
  },
  {
   "cell_type": "code",
   "execution_count": 20,
   "id": "9f4cf30a",
   "metadata": {
    "ExecuteTime": {
     "end_time": "2022-04-28T06:24:26.328230Z",
     "start_time": "2022-04-28T06:23:54.261593Z"
    }
   },
   "outputs": [
    {
     "data": {
      "application/vnd.jupyter.widget-view+json": {
       "model_id": "a53db004b230447bb3eba59f496cbf0f",
       "version_major": 2,
       "version_minor": 0
      },
      "text/plain": [
       "  0%|          | 0/1741 [00:00<?, ?it/s]"
      ]
     },
     "metadata": {},
     "output_type": "display_data"
    },
    {
     "data": {
      "application/vnd.jupyter.widget-view+json": {
       "model_id": "e2cfeef4340f416189631fc3fa16b7a2",
       "version_major": 2,
       "version_minor": 0
      },
      "text/plain": [
       "  0%|          | 0/3179 [00:00<?, ?it/s]"
      ]
     },
     "metadata": {},
     "output_type": "display_data"
    }
   ],
   "source": [
    "fp_cols = [f'FP_{np.round(i, 2)}' for i in np.arange(0.5, 1.04, 0.05)]\n",
    "tp_cols = [f'TP_{np.round(i, 2)}' for i in np.arange(0.5, 1.03, 0.05)]\n",
    "tp_truths = truths.copy()\n",
    "tp_truths.rename(columns={'groundwood':'label'}, inplace=True)\n",
    "truth_sindex = tp_truths.sindex\n",
    "fp_preds = preds.copy()\n",
    "pred_sindex = fp_preds.sindex\n",
    "tp_truths[tp_cols] = tp_truths.progress_apply(lambda row: is_true_positive(row, fp_preds, pred_sindex), \n",
    "                                              axis=1, result_type='expand')\n",
    "fp_preds[fp_cols] = fp_preds.progress_apply(lambda row: is_false_positive(row, tp_truths, truth_sindex,\n",
    "                                                                            fp_preds, pred_sindex),\n",
    "                                            axis=1, result_type='expand')"
   ]
  },
  {
   "cell_type": "code",
   "execution_count": 21,
   "id": "45b9d799",
   "metadata": {
    "ExecuteTime": {
     "end_time": "2022-04-28T06:24:26.350924Z",
     "start_time": "2022-04-28T06:24:26.329317Z"
    }
   },
   "outputs": [
    {
     "data": {
      "text/html": [
       "<div>\n",
       "<style scoped>\n",
       "    .dataframe tbody tr th:only-of-type {\n",
       "        vertical-align: middle;\n",
       "    }\n",
       "\n",
       "    .dataframe tbody tr th {\n",
       "        vertical-align: top;\n",
       "    }\n",
       "\n",
       "    .dataframe thead th {\n",
       "        text-align: right;\n",
       "    }\n",
       "</style>\n",
       "<table border=\"1\" class=\"dataframe\">\n",
       "  <thead>\n",
       "    <tr style=\"text-align: right;\">\n",
       "      <th>FP_0.5</th>\n",
       "      <th>FP</th>\n",
       "      <th>TP</th>\n",
       "      <th>All</th>\n",
       "    </tr>\n",
       "    <tr>\n",
       "      <th>layer</th>\n",
       "      <th></th>\n",
       "      <th></th>\n",
       "      <th></th>\n",
       "    </tr>\n",
       "  </thead>\n",
       "  <tbody>\n",
       "    <tr>\n",
       "      <th>groundwood</th>\n",
       "      <td>1856</td>\n",
       "      <td>976</td>\n",
       "      <td>2832</td>\n",
       "    </tr>\n",
       "    <tr>\n",
       "      <th>uprightwood</th>\n",
       "      <td>135</td>\n",
       "      <td>212</td>\n",
       "      <td>347</td>\n",
       "    </tr>\n",
       "    <tr>\n",
       "      <th>All</th>\n",
       "      <td>1991</td>\n",
       "      <td>1188</td>\n",
       "      <td>3179</td>\n",
       "    </tr>\n",
       "  </tbody>\n",
       "</table>\n",
       "</div>"
      ],
      "text/plain": [
       "FP_0.5         FP    TP   All\n",
       "layer                        \n",
       "groundwood   1856   976  2832\n",
       "uprightwood   135   212   347\n",
       "All          1991  1188  3179"
      ]
     },
     "execution_count": 21,
     "metadata": {},
     "output_type": "execute_result"
    }
   ],
   "source": [
    "pd.crosstab(fp_preds.layer, fp_preds['FP_0.5'], margins=True)"
   ]
  },
  {
   "cell_type": "code",
   "execution_count": 22,
   "id": "9a6770e9",
   "metadata": {
    "ExecuteTime": {
     "end_time": "2022-04-28T06:24:26.397360Z",
     "start_time": "2022-04-28T06:24:26.351933Z"
    }
   },
   "outputs": [
    {
     "data": {
      "text/html": [
       "<div>\n",
       "<style scoped>\n",
       "    .dataframe tbody tr th:only-of-type {\n",
       "        vertical-align: middle;\n",
       "    }\n",
       "\n",
       "    .dataframe tbody tr th {\n",
       "        vertical-align: top;\n",
       "    }\n",
       "\n",
       "    .dataframe thead th {\n",
       "        text-align: right;\n",
       "    }\n",
       "</style>\n",
       "<table border=\"1\" class=\"dataframe\">\n",
       "  <thead>\n",
       "    <tr style=\"text-align: right;\">\n",
       "      <th>TP_0.5</th>\n",
       "      <th>FN</th>\n",
       "      <th>TP</th>\n",
       "      <th>All</th>\n",
       "    </tr>\n",
       "    <tr>\n",
       "      <th>layer</th>\n",
       "      <th></th>\n",
       "      <th></th>\n",
       "      <th></th>\n",
       "    </tr>\n",
       "  </thead>\n",
       "  <tbody>\n",
       "    <tr>\n",
       "      <th>groundwood</th>\n",
       "      <td>425</td>\n",
       "      <td>976</td>\n",
       "      <td>1401</td>\n",
       "    </tr>\n",
       "    <tr>\n",
       "      <th>uprightwood</th>\n",
       "      <td>128</td>\n",
       "      <td>212</td>\n",
       "      <td>340</td>\n",
       "    </tr>\n",
       "    <tr>\n",
       "      <th>All</th>\n",
       "      <td>553</td>\n",
       "      <td>1188</td>\n",
       "      <td>1741</td>\n",
       "    </tr>\n",
       "  </tbody>\n",
       "</table>\n",
       "</div>"
      ],
      "text/plain": [
       "TP_0.5        FN    TP   All\n",
       "layer                       \n",
       "groundwood   425   976  1401\n",
       "uprightwood  128   212   340\n",
       "All          553  1188  1741"
      ]
     },
     "execution_count": 22,
     "metadata": {},
     "output_type": "execute_result"
    }
   ],
   "source": [
    "pd.crosstab(tp_truths.layer, tp_truths['TP_0.5'], margins=True)"
   ]
  },
  {
   "cell_type": "markdown",
   "id": "23911867",
   "metadata": {},
   "source": [
    "From these we can get both precision and recall: $Precision = \\frac{tp}{tp+fp}, Recall = \\frac{tp}{tp+fn}$"
   ]
  },
  {
   "cell_type": "code",
   "execution_count": 23,
   "id": "1a47dcf3",
   "metadata": {
    "ExecuteTime": {
     "end_time": "2022-04-28T06:25:04.325967Z",
     "start_time": "2022-04-28T06:25:04.323729Z"
    }
   },
   "outputs": [
    {
     "name": "stdout",
     "output_type": "stream",
     "text": [
      "Precision for fallen deadwood with IoU threshold of 0.5 is 0.34\n",
      "Recall for fallen deadwood with IoU threshold of 0.5 is 0.70\n"
     ]
    }
   ],
   "source": [
    "print(f'Precision for fallen deadwood with IoU threshold of 0.5 is {(976/2832):.2f}')\n",
    "print(f'Recall for fallen deadwood with IoU threshold of 0.5 is {(976/1401):.2f}')"
   ]
  },
  {
   "cell_type": "code",
   "execution_count": 24,
   "id": "de3612b6",
   "metadata": {
    "ExecuteTime": {
     "end_time": "2022-04-28T06:25:21.801014Z",
     "start_time": "2022-04-28T06:25:21.798737Z"
    }
   },
   "outputs": [
    {
     "name": "stdout",
     "output_type": "stream",
     "text": [
      "Precision for standing deadwood with IoU threshold of 0.5 is 0.61\n",
      "Recall for standing deadwood with IoU threshold of 0.5 is 0.62\n"
     ]
    }
   ],
   "source": [
    "print(f'Precision for standing deadwood with IoU threshold of 0.5 is {(212/347):.2f}')\n",
    "print(f'Recall for standing deadwood with IoU threshold of 0.5 is {(212/340):.2f}')"
   ]
  },
  {
   "cell_type": "code",
   "execution_count": 26,
   "id": "eaee9475",
   "metadata": {
    "ExecuteTime": {
     "end_time": "2022-04-28T06:25:48.328469Z",
     "start_time": "2022-04-28T06:25:48.326307Z"
    }
   },
   "outputs": [
    {
     "name": "stdout",
     "output_type": "stream",
     "text": [
      "Overall precision with IoU threshold of 0.5 is 0.37\n",
      "Overall recall with IoU threshold of 0.5 is 0.68\n"
     ]
    }
   ],
   "source": [
    "print(f'Overall precision with IoU threshold of 0.5 is {(1188/3179):.2f}')\n",
    "print(f'Overall recall with IoU threshold of 0.5 is {(1188/1741):.2f}')"
   ]
  },
  {
   "cell_type": "markdown",
   "id": "6a74b385",
   "metadata": {},
   "source": [
    "## Half patch overlap and edge filtering"
   ]
  },
  {
   "cell_type": "markdown",
   "id": "56b80997",
   "metadata": {},
   "source": [
    "For this postprocessing method, mosaics are tiled so that the sliding window moves half tile lenght. For example, when moving row-wise, the first bottom-left coordinates are (0,0), and next ones (256,0), (512,0)... and same  is done column-wise. We discard all predicted polygons whose centroid point is not within the half-overlap area. For instance, for first tile (bottom left (0,0)), the x-coordinate must be between 128 and 384, for second tile (256,0) between 384 and 640, and likewise for y-coordinates. This method discards almost 75% of all predictions in the virtual plots as they are either overlapping or cut in half in the patch borders.\n",
    "\n",
    "The images used for predictions are buffered so that the whole area is covered, considering the discarding process. "
   ]
  },
  {
   "cell_type": "code",
   "execution_count": 27,
   "id": "5993df7d",
   "metadata": {
    "ExecuteTime": {
     "end_time": "2022-04-28T06:26:32.997288Z",
     "start_time": "2022-04-28T06:26:32.965997Z"
    }
   },
   "outputs": [],
   "source": [
    "pred_outpath = Path('../results/hp_overlap_filter/')\n",
    "if not os.path.exists(pred_outpath):\n",
    "    shutil.copytree('../results/template_folder/', pred_outpath, symlinks=True)"
   ]
  },
  {
   "cell_type": "code",
   "execution_count": 28,
   "id": "ff263433",
   "metadata": {
    "ExecuteTime": {
     "end_time": "2022-04-28T06:42:49.935791Z",
     "start_time": "2022-04-28T06:26:34.831277Z"
    }
   },
   "outputs": [
    {
     "name": "stdout",
     "output_type": "stream",
     "text": [
      "Reading and tiling ../../data/raw/hiidenportti/virtual_plots/buffered_test/images/104_49_Hiidenportti_Chunk5_orto.tif to 512x512 tiles with overlap of 256px\n"
     ]
    },
    {
     "data": {
      "application/vnd.jupyter.widget-view+json": {
       "model_id": "97b14eedac174d6592603d586fc52c48",
       "version_major": 2,
       "version_minor": 0
      },
      "text/plain": [
       "0it [00:00, ?it/s]"
      ]
     },
     "metadata": {},
     "output_type": "display_data"
    },
    {
     "name": "stdout",
     "output_type": "stream",
     "text": [
      "Loading model\n",
      "Starting predictions\n"
     ]
    },
    {
     "data": {
      "application/vnd.jupyter.widget-view+json": {
       "model_id": "52a08f991b274f5eaa146a4f332ffede",
       "version_major": 2,
       "version_minor": 0
      },
      "text/plain": [
       "  0%|          | 0/276 [00:00<?, ?it/s]"
      ]
     },
     "metadata": {},
     "output_type": "display_data"
    },
    {
     "data": {
      "application/vnd.jupyter.widget-view+json": {
       "model_id": "659ae0376a054e4f854600d98ac4f145",
       "version_major": 2,
       "version_minor": 0
      },
      "text/plain": [
       "  0%|          | 0/276 [00:00<?, ?it/s]"
      ]
     },
     "metadata": {},
     "output_type": "display_data"
    },
    {
     "name": "stdout",
     "output_type": "stream",
     "text": [
      "4642 polygons before edge area removal\n"
     ]
    },
    {
     "data": {
      "application/vnd.jupyter.widget-view+json": {
       "model_id": "5507e8f3d9d94d27976a359f970d0be0",
       "version_major": 2,
       "version_minor": 0
      },
      "text/plain": [
       "  0%|          | 0/240 [00:00<?, ?it/s]"
      ]
     },
     "metadata": {},
     "output_type": "display_data"
    },
    {
     "name": "stdout",
     "output_type": "stream",
     "text": [
      "1068 polygons before non-max suppression\n",
      "1068 polygons after non-max suppression\n",
      "Removing intermediate files\n",
      "Reading and tiling ../../data/raw/hiidenportti/virtual_plots/buffered_test/images/104_73_Hiidenportti_Chunk9_orto.tif to 512x512 tiles with overlap of 256px\n"
     ]
    },
    {
     "data": {
      "application/vnd.jupyter.widget-view+json": {
       "model_id": "16cde99970e1409397057a9c301878cb",
       "version_major": 2,
       "version_minor": 0
      },
      "text/plain": [
       "0it [00:00, ?it/s]"
      ]
     },
     "metadata": {},
     "output_type": "display_data"
    },
    {
     "name": "stdout",
     "output_type": "stream",
     "text": [
      "Loading model\n",
      "Starting predictions\n"
     ]
    },
    {
     "data": {
      "application/vnd.jupyter.widget-view+json": {
       "model_id": "11355203398c4b2d9a41f0ae198392e6",
       "version_major": 2,
       "version_minor": 0
      },
      "text/plain": [
       "  0%|          | 0/81 [00:00<?, ?it/s]"
      ]
     },
     "metadata": {},
     "output_type": "display_data"
    },
    {
     "data": {
      "application/vnd.jupyter.widget-view+json": {
       "model_id": "f9437d425e674e94884cbc4882344922",
       "version_major": 2,
       "version_minor": 0
      },
      "text/plain": [
       "  0%|          | 0/81 [00:00<?, ?it/s]"
      ]
     },
     "metadata": {},
     "output_type": "display_data"
    },
    {
     "name": "stdout",
     "output_type": "stream",
     "text": [
      "797 polygons before edge area removal\n"
     ]
    },
    {
     "data": {
      "application/vnd.jupyter.widget-view+json": {
       "model_id": "094a58c7fa10493ea19acaf81e76c755",
       "version_major": 2,
       "version_minor": 0
      },
      "text/plain": [
       "  0%|          | 0/45 [00:00<?, ?it/s]"
      ]
     },
     "metadata": {},
     "output_type": "display_data"
    },
    {
     "name": "stdout",
     "output_type": "stream",
     "text": [
      "182 polygons before non-max suppression\n",
      "182 polygons after non-max suppression\n",
      "Removing intermediate files\n",
      "Reading and tiling ../../data/raw/hiidenportti/virtual_plots/buffered_test/images/104_28_Hiidenportti_Chunk1_orto.tif to 512x512 tiles with overlap of 256px\n"
     ]
    },
    {
     "data": {
      "application/vnd.jupyter.widget-view+json": {
       "model_id": "b850f035891347de88f8c9ff7063742a",
       "version_major": 2,
       "version_minor": 0
      },
      "text/plain": [
       "0it [00:00, ?it/s]"
      ]
     },
     "metadata": {},
     "output_type": "display_data"
    },
    {
     "name": "stdout",
     "output_type": "stream",
     "text": [
      "Loading model\n",
      "Starting predictions\n"
     ]
    },
    {
     "data": {
      "application/vnd.jupyter.widget-view+json": {
       "model_id": "90c0a33bdebe4fa4ac56270c4411e487",
       "version_major": 2,
       "version_minor": 0
      },
      "text/plain": [
       "  0%|          | 0/558 [00:00<?, ?it/s]"
      ]
     },
     "metadata": {},
     "output_type": "display_data"
    },
    {
     "data": {
      "application/vnd.jupyter.widget-view+json": {
       "model_id": "02e1fa16a5684b33b7e27d48218a863e",
       "version_major": 2,
       "version_minor": 0
      },
      "text/plain": [
       "  0%|          | 0/558 [00:00<?, ?it/s]"
      ]
     },
     "metadata": {},
     "output_type": "display_data"
    },
    {
     "name": "stdout",
     "output_type": "stream",
     "text": [
      "5668 polygons before edge area removal\n"
     ]
    },
    {
     "data": {
      "application/vnd.jupyter.widget-view+json": {
       "model_id": "af2b477a3f894f05bae01046cfa2652b",
       "version_major": 2,
       "version_minor": 0
      },
      "text/plain": [
       "  0%|          | 0/433 [00:00<?, ?it/s]"
      ]
     },
     "metadata": {},
     "output_type": "display_data"
    },
    {
     "name": "stdout",
     "output_type": "stream",
     "text": [
      "1310 polygons before non-max suppression\n",
      "1310 polygons after non-max suppression\n",
      "Removing intermediate files\n",
      "Reading and tiling ../../data/raw/hiidenportti/virtual_plots/buffered_test/images/104_41_Hiidenportti_Chunk8_orto.tif to 512x512 tiles with overlap of 256px\n"
     ]
    },
    {
     "data": {
      "application/vnd.jupyter.widget-view+json": {
       "model_id": "1b09460b7e7148f4b56d7094838cec5e",
       "version_major": 2,
       "version_minor": 0
      },
      "text/plain": [
       "0it [00:00, ?it/s]"
      ]
     },
     "metadata": {},
     "output_type": "display_data"
    },
    {
     "name": "stdout",
     "output_type": "stream",
     "text": [
      "Loading model\n",
      "Starting predictions\n"
     ]
    },
    {
     "data": {
      "application/vnd.jupyter.widget-view+json": {
       "model_id": "fe47c5a23eed4e62879196286ab0a686",
       "version_major": 2,
       "version_minor": 0
      },
      "text/plain": [
       "  0%|          | 0/143 [00:00<?, ?it/s]"
      ]
     },
     "metadata": {},
     "output_type": "display_data"
    },
    {
     "data": {
      "application/vnd.jupyter.widget-view+json": {
       "model_id": "aa9d37fa22694bf589221bad2933711c",
       "version_major": 2,
       "version_minor": 0
      },
      "text/plain": [
       "  0%|          | 0/143 [00:00<?, ?it/s]"
      ]
     },
     "metadata": {},
     "output_type": "display_data"
    },
    {
     "name": "stdout",
     "output_type": "stream",
     "text": [
      "1835 polygons before edge area removal\n"
     ]
    },
    {
     "data": {
      "application/vnd.jupyter.widget-view+json": {
       "model_id": "4f35ae1e567043c289a3f291c6ce7289",
       "version_major": 2,
       "version_minor": 0
      },
      "text/plain": [
       "  0%|          | 0/113 [00:00<?, ?it/s]"
      ]
     },
     "metadata": {},
     "output_type": "display_data"
    },
    {
     "name": "stdout",
     "output_type": "stream",
     "text": [
      "433 polygons before non-max suppression\n",
      "433 polygons after non-max suppression\n",
      "Removing intermediate files\n",
      "Reading and tiling ../../data/raw/hiidenportti/virtual_plots/buffered_test/images/104_32_Hiidenportti_Chunk5_orto.tif to 512x512 tiles with overlap of 256px\n"
     ]
    },
    {
     "data": {
      "application/vnd.jupyter.widget-view+json": {
       "model_id": "8b5499c7dd9e4c24a4fb4103f5d7d6ea",
       "version_major": 2,
       "version_minor": 0
      },
      "text/plain": [
       "0it [00:00, ?it/s]"
      ]
     },
     "metadata": {},
     "output_type": "display_data"
    },
    {
     "name": "stdout",
     "output_type": "stream",
     "text": [
      "Loading model\n",
      "Starting predictions\n"
     ]
    },
    {
     "data": {
      "application/vnd.jupyter.widget-view+json": {
       "model_id": "99325f62fbee4061ad907e0c0bb71524",
       "version_major": 2,
       "version_minor": 0
      },
      "text/plain": [
       "  0%|          | 0/81 [00:00<?, ?it/s]"
      ]
     },
     "metadata": {},
     "output_type": "display_data"
    },
    {
     "data": {
      "application/vnd.jupyter.widget-view+json": {
       "model_id": "8e3933bc62dc41b1a307d55f6d643560",
       "version_major": 2,
       "version_minor": 0
      },
      "text/plain": [
       "  0%|          | 0/81 [00:00<?, ?it/s]"
      ]
     },
     "metadata": {},
     "output_type": "display_data"
    },
    {
     "name": "stdout",
     "output_type": "stream",
     "text": [
      "698 polygons before edge area removal\n"
     ]
    },
    {
     "data": {
      "application/vnd.jupyter.widget-view+json": {
       "model_id": "8114a4eea31a46269633a8b0550b26fe",
       "version_major": 2,
       "version_minor": 0
      },
      "text/plain": [
       "  0%|          | 0/55 [00:00<?, ?it/s]"
      ]
     },
     "metadata": {},
     "output_type": "display_data"
    },
    {
     "name": "stdout",
     "output_type": "stream",
     "text": [
      "159 polygons before non-max suppression\n",
      "159 polygons after non-max suppression\n",
      "Removing intermediate files\n"
     ]
    }
   ],
   "source": [
    "#| output: false\n",
    "\n",
    "raw_path = Path('../../data/raw/hiidenportti/virtual_plots/buffered_test/images')\n",
    "test_rasters = [raw_path/f for f in os.listdir(raw_path) if f.endswith('tif')]\n",
    "\n",
    "for t in test_rasters:\n",
    "    outfile_name = pred_outpath/f'raw_preds/{str(t).split(\"/\")[-1][:-4]}.geojson'\n",
    "    predict_instance_masks(path_to_model_config='../models/hiidenportti/mask_rcnn_R_101_FPN_3x/config.yaml', \n",
    "                           path_to_image=str(t),\n",
    "                           outfile=str(outfile_name),\n",
    "                           processing_dir='temp',\n",
    "                           tile_size=512,\n",
    "                           tile_overlap=256,\n",
    "                           smooth_preds=False,\n",
    "                           use_tta=True,\n",
    "                           coco_set='../../data/processed/hiidenportti/hiidenportti_valid.json',\n",
    "                           postproc_results=True)"
   ]
  },
  {
   "cell_type": "markdown",
   "id": "25bccfe4",
   "metadata": {},
   "source": [
    "Modify as previously."
   ]
  },
  {
   "cell_type": "code",
   "execution_count": 29,
   "id": "b351f9b5",
   "metadata": {
    "ExecuteTime": {
     "end_time": "2022-04-28T06:44:04.110216Z",
     "start_time": "2022-04-28T06:44:04.105769Z"
    }
   },
   "outputs": [],
   "source": [
    "hp_res_path = pred_outpath\n",
    "truth_shps = sorted([hp_res_path/'vector_tiles'/f for f in os.listdir(hp_res_path/'vector_tiles')])\n",
    "hp_raw_shps = sorted([hp_res_path/'raw_preds'/f for f in os.listdir(hp_res_path/'raw_preds')])\n",
    "rasters = sorted([hp_res_path/'raster_tiles'/f for f in os.listdir(hp_res_path/'raster_tiles')])"
   ]
  },
  {
   "cell_type": "code",
   "execution_count": 30,
   "id": "c72ea27a",
   "metadata": {
    "ExecuteTime": {
     "end_time": "2022-04-28T06:44:10.115185Z",
     "start_time": "2022-04-28T06:44:04.375872Z"
    }
   },
   "outputs": [],
   "source": [
    "for p, t in zip(hp_raw_shps, truth_shps):\n",
    "    temp_pred = gpd.read_file(p)\n",
    "    temp_truth = gpd.read_file(t)\n",
    "    temp_pred['geometry'] = temp_pred.apply(lambda row: fix_multipolys(row.geometry) \n",
    "                                            if row.geometry.type == 'MultiPolygon' \n",
    "                                            else shapely.geometry.Polygon(row.geometry.exterior), axis=1)\n",
    "    temp_pred['label'] += 1\n",
    "    temp_pred = gpd.clip(temp_pred, box(*temp_truth.total_bounds))\n",
    "    temp_pred = temp_pred[temp_pred.geometry.area > 16*0.04**2]\n",
    "    temp_pred.to_file(hp_res_path/'predicted_vectors'/p.name)"
   ]
  },
  {
   "cell_type": "code",
   "execution_count": 31,
   "id": "fe326bf6",
   "metadata": {
    "ExecuteTime": {
     "end_time": "2022-04-28T06:44:10.118905Z",
     "start_time": "2022-04-28T06:44:10.116409Z"
    }
   },
   "outputs": [],
   "source": [
    "pred_shps = sorted([hp_res_path/'predicted_vectors'/f for f in os.listdir(hp_res_path/'predicted_vectors')])"
   ]
  },
  {
   "cell_type": "markdown",
   "id": "d1141552",
   "metadata": {},
   "source": [
    "Collate all predictions into single dataframes"
   ]
  },
  {
   "cell_type": "code",
   "execution_count": 32,
   "id": "1429878c",
   "metadata": {
    "ExecuteTime": {
     "end_time": "2022-04-28T06:44:11.628226Z",
     "start_time": "2022-04-28T06:44:10.120253Z"
    }
   },
   "outputs": [],
   "source": [
    "truths = None\n",
    "preds = None\n",
    "\n",
    "for p, t in zip(pred_shps, truth_shps):\n",
    "    temp_pred = gpd.read_file(p)\n",
    "    temp_truth = gpd.read_file(t)\n",
    "    if truths is None:\n",
    "        truths = temp_truth\n",
    "        preds = temp_pred\n",
    "    else:\n",
    "        truths = pd.concat((truths, temp_truth))\n",
    "        preds = pd.concat((preds, temp_pred))"
   ]
  },
  {
   "cell_type": "code",
   "execution_count": 33,
   "id": "9b30fb48",
   "metadata": {
    "ExecuteTime": {
     "end_time": "2022-04-28T06:44:11.655461Z",
     "start_time": "2022-04-28T06:44:11.629389Z"
    }
   },
   "outputs": [],
   "source": [
    "preds['layer'] = preds.apply(lambda row: 'groundwood' if row.label == 2 else 'uprightwood', axis=1)"
   ]
  },
  {
   "cell_type": "markdown",
   "id": "fd6f70d5-a070-42a4-b2ba-5fc159f3207f",
   "metadata": {},
   "source": [
    "The total amount after cleaning is similar than before."
   ]
  },
  {
   "cell_type": "code",
   "execution_count": 34,
   "id": "b6e8e75e",
   "metadata": {
    "ExecuteTime": {
     "end_time": "2022-04-28T06:44:18.779753Z",
     "start_time": "2022-04-28T06:44:11.656438Z"
    }
   },
   "outputs": [
    {
     "data": {
      "text/plain": [
       "groundwood     2737\n",
       "uprightwood     318\n",
       "Name: layer, dtype: int64"
      ]
     },
     "execution_count": 34,
     "metadata": {},
     "output_type": "execute_result"
    }
   ],
   "source": [
    "preds.layer.value_counts()"
   ]
  },
  {
   "cell_type": "code",
   "execution_count": 35,
   "id": "720294bd",
   "metadata": {
    "ExecuteTime": {
     "end_time": "2022-04-28T06:44:24.981846Z",
     "start_time": "2022-04-28T06:44:23.045716Z"
    }
   },
   "outputs": [],
   "source": [
    "dis_truths = truths.dissolve(by='layer')\n",
    "dis_preds = preds.dissolve(by='layer')"
   ]
  },
  {
   "cell_type": "markdown",
   "id": "5c54c8ae-a3ff-4632-9297-a9265d9ed372",
   "metadata": {},
   "source": [
    "But IoU, especially for standing deadwood increases."
   ]
  },
  {
   "cell_type": "code",
   "execution_count": 36,
   "id": "5c7747c6",
   "metadata": {
    "ExecuteTime": {
     "end_time": "2022-04-28T06:44:25.774120Z",
     "start_time": "2022-04-28T06:44:24.983393Z"
    }
   },
   "outputs": [
    {
     "data": {
      "text/plain": [
       "layer\n",
       "groundwood     0.484690\n",
       "uprightwood    0.535325\n",
       "dtype: float64"
      ]
     },
     "execution_count": 36,
     "metadata": {},
     "output_type": "execute_result"
    }
   ],
   "source": [
    "poly_IoU(dis_truths, dis_preds)"
   ]
  },
  {
   "cell_type": "code",
   "execution_count": 37,
   "id": "4b7dd10b",
   "metadata": {
    "ExecuteTime": {
     "end_time": "2022-04-28T06:44:30.119468Z",
     "start_time": "2022-04-28T06:44:30.117248Z"
    }
   },
   "outputs": [],
   "source": [
    "deadwood_categories = [{'supercategory': 'deadwood', 'id':1, 'name':'uprightwood'},\n",
    "                 \n",
    "                       {'supercategory': 'deadwood', 'id':2, 'name':'groundwood'}]\n",
    "\n",
    "hp_coco_eval = GisCOCOeval(hp_res_path, hp_res_path, \n",
    "                            None, None, deadwood_categories)"
   ]
  },
  {
   "cell_type": "code",
   "execution_count": 38,
   "id": "15f5b970",
   "metadata": {
    "ExecuteTime": {
     "end_time": "2022-04-28T06:44:35.571246Z",
     "start_time": "2022-04-28T06:44:30.432925Z"
    }
   },
   "outputs": [
    {
     "data": {
      "application/vnd.jupyter.widget-view+json": {
       "model_id": "24f8b50dbf6940a9af7a0f8d916dbd0d",
       "version_major": 2,
       "version_minor": 0
      },
      "text/plain": [
       "0it [00:00, ?it/s]"
      ]
     },
     "metadata": {},
     "output_type": "display_data"
    },
    {
     "data": {
      "application/vnd.jupyter.widget-view+json": {
       "model_id": "254bf2eb02784c1eb6eb3375f15a205e",
       "version_major": 2,
       "version_minor": 0
      },
      "text/plain": [
       "  0%|          | 0/5 [00:00<?, ?it/s]"
      ]
     },
     "metadata": {},
     "output_type": "display_data"
    }
   ],
   "source": [
    "hp_coco_eval.prepare_data(gt_label_col='layer')"
   ]
  },
  {
   "cell_type": "code",
   "execution_count": 39,
   "id": "d8e47cb4",
   "metadata": {
    "ExecuteTime": {
     "end_time": "2022-04-28T06:44:35.635371Z",
     "start_time": "2022-04-28T06:44:35.572750Z"
    }
   },
   "outputs": [
    {
     "name": "stdout",
     "output_type": "stream",
     "text": [
      "loading annotations into memory...\n",
      "Done (t=0.03s)\n",
      "creating index...\n",
      "index created!\n",
      "Loading and preparing results...\n",
      "DONE (t=0.03s)\n",
      "creating index...\n",
      "index created!\n"
     ]
    }
   ],
   "source": [
    "hp_coco_eval.prepare_eval()"
   ]
  },
  {
   "cell_type": "code",
   "execution_count": 40,
   "id": "3c67cca5",
   "metadata": {
    "ExecuteTime": {
     "end_time": "2022-04-28T06:44:35.638408Z",
     "start_time": "2022-04-28T06:44:35.636693Z"
    }
   },
   "outputs": [],
   "source": [
    "hp_coco_eval.coco_eval.params.maxDets = [1000, 10000]"
   ]
  },
  {
   "cell_type": "code",
   "execution_count": 41,
   "id": "490f7555",
   "metadata": {
    "ExecuteTime": {
     "end_time": "2022-04-28T06:45:11.231925Z",
     "start_time": "2022-04-28T06:44:35.639712Z"
    }
   },
   "outputs": [
    {
     "name": "stdout",
     "output_type": "stream",
     "text": [
      "\n",
      "Evaluating for category uprightwood\n",
      "Running per image evaluation...\n",
      "Evaluate annotation type *segm*\n",
      "DONE (t=0.67s).\n",
      "Accumulating evaluation results...\n",
      "DONE (t=0.01s).\n",
      " Average Precision  (AP) @[ IoU=0.50:0.95 | area=   all | maxDets=10000 ] = 0.327\n",
      " Average Precision  (AP) @[ IoU=0.50      | area=   all | maxDets=10000 ] = 0.593\n",
      " Average Precision  (AP) @[ IoU=0.75      | area=   all | maxDets=10000 ] = 0.337\n",
      " Average Precision  (AP) @[ IoU=0.50:0.95 | area= small | maxDets=10000 ] = 0.167\n",
      " Average Precision  (AP) @[ IoU=0.50:0.95 | area=medium | maxDets=10000 ] = 0.392\n",
      " Average Precision  (AP) @[ IoU=0.50:0.95 | area= large | maxDets=10000 ] = 1.000\n",
      " Average Recall     (AR) @[ IoU=0.50:0.95 | area=   all | maxDets=1000 ] = 0.406\n",
      " Average Recall     (AR) @[ IoU=0.50:0.95 | area= small | maxDets=1000 ] = 0.233\n",
      " Average Recall     (AR) @[ IoU=0.50:0.95 | area=medium | maxDets=1000 ] = 0.474\n",
      " Average Recall     (AR) @[ IoU=0.50:0.95 | area= large | maxDets=1000 ] = 1.000\n",
      "\n",
      "Evaluating for category groundwood\n",
      "Running per image evaluation...\n",
      "Evaluate annotation type *segm*\n",
      "DONE (t=17.21s).\n",
      "Accumulating evaluation results...\n",
      "DONE (t=0.02s).\n",
      " Average Precision  (AP) @[ IoU=0.50:0.95 | area=   all | maxDets=10000 ] = 0.265\n",
      " Average Precision  (AP) @[ IoU=0.50      | area=   all | maxDets=10000 ] = 0.648\n",
      " Average Precision  (AP) @[ IoU=0.75      | area=   all | maxDets=10000 ] = 0.152\n",
      " Average Precision  (AP) @[ IoU=0.50:0.95 | area= small | maxDets=10000 ] = 0.267\n",
      " Average Precision  (AP) @[ IoU=0.50:0.95 | area=medium | maxDets=10000 ] = 0.221\n",
      " Average Precision  (AP) @[ IoU=0.50:0.95 | area= large | maxDets=10000 ] = -1.000\n",
      " Average Recall     (AR) @[ IoU=0.50:0.95 | area=   all | maxDets=1000 ] = 0.389\n",
      " Average Recall     (AR) @[ IoU=0.50:0.95 | area= small | maxDets=1000 ] = 0.394\n",
      " Average Recall     (AR) @[ IoU=0.50:0.95 | area=medium | maxDets=1000 ] = 0.273\n",
      " Average Recall     (AR) @[ IoU=0.50:0.95 | area= large | maxDets=1000 ] = -1.000\n",
      "\n",
      "Evaluating for full data...\n",
      "Running per image evaluation...\n",
      "Evaluate annotation type *segm*\n",
      "DONE (t=17.64s).\n",
      "Accumulating evaluation results...\n",
      "DONE (t=0.03s).\n",
      " Average Precision  (AP) @[ IoU=0.50:0.95 | area=   all | maxDets=10000 ] = 0.296\n",
      " Average Precision  (AP) @[ IoU=0.50      | area=   all | maxDets=10000 ] = 0.621\n",
      " Average Precision  (AP) @[ IoU=0.75      | area=   all | maxDets=10000 ] = 0.244\n",
      " Average Precision  (AP) @[ IoU=0.50:0.95 | area= small | maxDets=10000 ] = 0.217\n",
      " Average Precision  (AP) @[ IoU=0.50:0.95 | area=medium | maxDets=10000 ] = 0.306\n",
      " Average Precision  (AP) @[ IoU=0.50:0.95 | area= large | maxDets=10000 ] = 1.000\n",
      " Average Recall     (AR) @[ IoU=0.50:0.95 | area=   all | maxDets=1000 ] = 0.397\n",
      " Average Recall     (AR) @[ IoU=0.50:0.95 | area= small | maxDets=1000 ] = 0.313\n",
      " Average Recall     (AR) @[ IoU=0.50:0.95 | area=medium | maxDets=1000 ] = 0.373\n",
      " Average Recall     (AR) @[ IoU=0.50:0.95 | area= large | maxDets=1000 ] = 1.000\n"
     ]
    }
   ],
   "source": [
    "hp_coco_eval.evaluate()"
   ]
  },
  {
   "cell_type": "markdown",
   "id": "e53945a5-2da1-4939-9803-80847dbe32c9",
   "metadata": {},
   "source": [
    "Overall AP50 increases by around 0.1 with this kind of post-processing."
   ]
  },
  {
   "cell_type": "code",
   "execution_count": 42,
   "id": "67d4383b",
   "metadata": {
    "ExecuteTime": {
     "end_time": "2022-04-28T06:45:46.936629Z",
     "start_time": "2022-04-28T06:45:11.233056Z"
    }
   },
   "outputs": [
    {
     "data": {
      "application/vnd.jupyter.widget-view+json": {
       "model_id": "2934c211e76d4c6099fd26f09b284edb",
       "version_major": 2,
       "version_minor": 0
      },
      "text/plain": [
       "  0%|          | 0/1741 [00:00<?, ?it/s]"
      ]
     },
     "metadata": {},
     "output_type": "display_data"
    },
    {
     "data": {
      "application/vnd.jupyter.widget-view+json": {
       "model_id": "a2b367c1b47d4a8794c8f0c13b64f6ee",
       "version_major": 2,
       "version_minor": 0
      },
      "text/plain": [
       "  0%|          | 0/3055 [00:00<?, ?it/s]"
      ]
     },
     "metadata": {},
     "output_type": "display_data"
    }
   ],
   "source": [
    "tp_truths = truths.copy()\n",
    "tp_truths.rename(columns={'groundwood':'label'}, inplace=True)\n",
    "truth_sindex = tp_truths.sindex\n",
    "fp_preds = preds.copy()\n",
    "pred_sindex = fp_preds.sindex\n",
    "tp_truths[tp_cols] = tp_truths.progress_apply(lambda row: is_true_positive(row, fp_preds, pred_sindex), \n",
    "                                              axis=1, result_type='expand')\n",
    "fp_preds[fp_cols] = fp_preds.progress_apply(lambda row: is_false_positive(row, tp_truths, truth_sindex,\n",
    "                                                                            fp_preds, pred_sindex),\n",
    "                                            axis=1, result_type='expand')"
   ]
  },
  {
   "cell_type": "code",
   "execution_count": 43,
   "id": "739e0b56",
   "metadata": {
    "ExecuteTime": {
     "end_time": "2022-04-28T06:45:46.958479Z",
     "start_time": "2022-04-28T06:45:46.937662Z"
    }
   },
   "outputs": [
    {
     "data": {
      "text/html": [
       "<div>\n",
       "<style scoped>\n",
       "    .dataframe tbody tr th:only-of-type {\n",
       "        vertical-align: middle;\n",
       "    }\n",
       "\n",
       "    .dataframe tbody tr th {\n",
       "        vertical-align: top;\n",
       "    }\n",
       "\n",
       "    .dataframe thead th {\n",
       "        text-align: right;\n",
       "    }\n",
       "</style>\n",
       "<table border=\"1\" class=\"dataframe\">\n",
       "  <thead>\n",
       "    <tr style=\"text-align: right;\">\n",
       "      <th>FP_0.5</th>\n",
       "      <th>FP</th>\n",
       "      <th>TP</th>\n",
       "      <th>All</th>\n",
       "    </tr>\n",
       "    <tr>\n",
       "      <th>layer</th>\n",
       "      <th></th>\n",
       "      <th></th>\n",
       "      <th></th>\n",
       "    </tr>\n",
       "  </thead>\n",
       "  <tbody>\n",
       "    <tr>\n",
       "      <th>groundwood</th>\n",
       "      <td>1673</td>\n",
       "      <td>1064</td>\n",
       "      <td>2737</td>\n",
       "    </tr>\n",
       "    <tr>\n",
       "      <th>uprightwood</th>\n",
       "      <td>91</td>\n",
       "      <td>227</td>\n",
       "      <td>318</td>\n",
       "    </tr>\n",
       "    <tr>\n",
       "      <th>All</th>\n",
       "      <td>1764</td>\n",
       "      <td>1291</td>\n",
       "      <td>3055</td>\n",
       "    </tr>\n",
       "  </tbody>\n",
       "</table>\n",
       "</div>"
      ],
      "text/plain": [
       "FP_0.5         FP    TP   All\n",
       "layer                        \n",
       "groundwood   1673  1064  2737\n",
       "uprightwood    91   227   318\n",
       "All          1764  1291  3055"
      ]
     },
     "execution_count": 43,
     "metadata": {},
     "output_type": "execute_result"
    }
   ],
   "source": [
    "pd.crosstab(fp_preds.layer, fp_preds['FP_0.5'], margins=True)"
   ]
  },
  {
   "cell_type": "code",
   "execution_count": 44,
   "id": "83d4efbf",
   "metadata": {
    "ExecuteTime": {
     "end_time": "2022-04-28T06:45:46.988331Z",
     "start_time": "2022-04-28T06:45:46.959393Z"
    }
   },
   "outputs": [
    {
     "data": {
      "text/html": [
       "<div>\n",
       "<style scoped>\n",
       "    .dataframe tbody tr th:only-of-type {\n",
       "        vertical-align: middle;\n",
       "    }\n",
       "\n",
       "    .dataframe tbody tr th {\n",
       "        vertical-align: top;\n",
       "    }\n",
       "\n",
       "    .dataframe thead th {\n",
       "        text-align: right;\n",
       "    }\n",
       "</style>\n",
       "<table border=\"1\" class=\"dataframe\">\n",
       "  <thead>\n",
       "    <tr style=\"text-align: right;\">\n",
       "      <th>TP_0.5</th>\n",
       "      <th>FN</th>\n",
       "      <th>TP</th>\n",
       "      <th>All</th>\n",
       "    </tr>\n",
       "    <tr>\n",
       "      <th>layer</th>\n",
       "      <th></th>\n",
       "      <th></th>\n",
       "      <th></th>\n",
       "    </tr>\n",
       "  </thead>\n",
       "  <tbody>\n",
       "    <tr>\n",
       "      <th>groundwood</th>\n",
       "      <td>337</td>\n",
       "      <td>1064</td>\n",
       "      <td>1401</td>\n",
       "    </tr>\n",
       "    <tr>\n",
       "      <th>uprightwood</th>\n",
       "      <td>113</td>\n",
       "      <td>227</td>\n",
       "      <td>340</td>\n",
       "    </tr>\n",
       "    <tr>\n",
       "      <th>All</th>\n",
       "      <td>450</td>\n",
       "      <td>1291</td>\n",
       "      <td>1741</td>\n",
       "    </tr>\n",
       "  </tbody>\n",
       "</table>\n",
       "</div>"
      ],
      "text/plain": [
       "TP_0.5        FN    TP   All\n",
       "layer                       \n",
       "groundwood   337  1064  1401\n",
       "uprightwood  113   227   340\n",
       "All          450  1291  1741"
      ]
     },
     "execution_count": 44,
     "metadata": {},
     "output_type": "execute_result"
    }
   ],
   "source": [
    "pd.crosstab(tp_truths.layer, tp_truths['TP_0.5'], margins=True)"
   ]
  },
  {
   "cell_type": "markdown",
   "id": "fb088497",
   "metadata": {},
   "source": [
    "$Precision = \\frac{tp}{tp+fp}, Recall = \\frac{tp}{tp+fn}$"
   ]
  },
  {
   "cell_type": "code",
   "execution_count": 45,
   "id": "7654526f",
   "metadata": {
    "ExecuteTime": {
     "end_time": "2022-04-28T06:46:08.545957Z",
     "start_time": "2022-04-28T06:46:08.543748Z"
    }
   },
   "outputs": [
    {
     "name": "stdout",
     "output_type": "stream",
     "text": [
      "Precision for fallen deadwood with IoU threshold of 0.5 is 0.39\n",
      "Recall for fallen deadwood with IoU threshold of 0.5 is 0.76\n"
     ]
    }
   ],
   "source": [
    "print(f'Precision for fallen deadwood with IoU threshold of 0.5 is {(1064/2737):.2f}')\n",
    "print(f'Recall for fallen deadwood with IoU threshold of 0.5 is {(1064/1401):.2f}')"
   ]
  },
  {
   "cell_type": "code",
   "execution_count": 46,
   "id": "675bf83d",
   "metadata": {
    "ExecuteTime": {
     "end_time": "2022-04-28T06:46:18.123814Z",
     "start_time": "2022-04-28T06:46:18.121635Z"
    }
   },
   "outputs": [
    {
     "name": "stdout",
     "output_type": "stream",
     "text": [
      "Precision for standing deadwood with IoU threshold of 0.5 is 0.71\n",
      "Recall for standing deadwood with IoU threshold of 0.5 is 0.71\n"
     ]
    }
   ],
   "source": [
    "print(f'Precision for standing deadwood with IoU threshold of 0.5 is {(227/318):.2f}')\n",
    "print(f'Recall for standing deadwood with IoU threshold of 0.5 is {(227/318):.2f}')"
   ]
  },
  {
   "cell_type": "code",
   "execution_count": 47,
   "id": "42060208",
   "metadata": {
    "ExecuteTime": {
     "end_time": "2022-04-28T06:46:34.627546Z",
     "start_time": "2022-04-28T06:46:34.625243Z"
    }
   },
   "outputs": [
    {
     "name": "stdout",
     "output_type": "stream",
     "text": [
      "Overall precision with IoU threshold of 0.5 is 0.42\n",
      "Overall recall with IoU threshold of 0.5 is 0.74\n"
     ]
    }
   ],
   "source": [
    "print(f'Overall precision with IoU threshold of 0.5 is {(1291/3055):.2f}')\n",
    "print(f'Overall recall with IoU threshold of 0.5 is {(1291/1741):.2f}')"
   ]
  },
  {
   "cell_type": "markdown",
   "id": "f52dfa29",
   "metadata": {},
   "source": [
    "## Overlap, edge filtering and mask merging"
   ]
  },
  {
   "cell_type": "markdown",
   "id": "8a6d6974",
   "metadata": {},
   "source": [
    "Mask merging is built on previous predictions. In this step, for each polygon we check whether the ratio between intersection with any other polygon of the same class and the area of the polygon is more than 0.2. If yes, the polygon is merged to the other polygon with which it had intersection-over-area ratio."
   ]
  },
  {
   "cell_type": "code",
   "execution_count": 48,
   "id": "f12e62e5",
   "metadata": {
    "ExecuteTime": {
     "end_time": "2022-04-28T06:46:41.221067Z",
     "start_time": "2022-04-28T06:46:41.172860Z"
    }
   },
   "outputs": [],
   "source": [
    "merge_outpath = Path('../results/hp_merge/')\n",
    "if not os.path.exists(merge_outpath):\n",
    "    shutil.copytree('../results/template_folder/', merge_outpath, symlinks=True)"
   ]
  },
  {
   "cell_type": "markdown",
   "id": "12259966",
   "metadata": {},
   "source": [
    "Two iterations of merging is usually enough."
   ]
  },
  {
   "cell_type": "code",
   "execution_count": 49,
   "id": "a3fd7a81",
   "metadata": {
    "ExecuteTime": {
     "end_time": "2022-04-28T06:47:08.587059Z",
     "start_time": "2022-04-28T06:46:43.016586Z"
    }
   },
   "outputs": [
    {
     "name": "stderr",
     "output_type": "stream",
     "text": [
      "175it [00:00, 432.85it/s]\n",
      "1124it [00:05, 209.10it/s]\n",
      "163it [00:00, 496.21it/s]\n",
      "848it [00:02, 299.31it/s]\n",
      "16it [00:00, 502.27it/s]\n",
      "131it [00:00, 351.82it/s]\n",
      "15it [00:00, 614.55it/s]\n",
      "98it [00:00, 544.72it/s]\n",
      "20it [00:00, 495.00it/s]\n",
      "389it [00:01, 288.98it/s]\n",
      "19it [00:00, 591.11it/s]\n",
      "304it [00:00, 374.01it/s]\n",
      "103it [00:00, 529.07it/s]\n",
      "945it [00:04, 233.92it/s]\n",
      "101it [00:00, 569.06it/s]\n",
      "750it [00:02, 298.61it/s]\n",
      "4it [00:00, 583.82it/s]\n",
      "148it [00:00, 377.84it/s]\n",
      "4it [00:00, 606.35it/s]\n",
      "122it [00:00, 544.98it/s]\n"
     ]
    }
   ],
   "source": [
    "#| output: false\n",
    "\n",
    "for r in pred_shps:\n",
    "    gdf_temp = gpd.read_file(r)\n",
    "    standing = gdf_temp[gdf_temp.label==1].copy()\n",
    "    fallen = gdf_temp[gdf_temp.label==2].copy()\n",
    "    standing = merge_polys(standing, 0.2)\n",
    "    fallen = merge_polys(fallen, 0.2)\n",
    "    standing = merge_polys(standing, 0.2)\n",
    "    fallen = merge_polys(fallen, 0.2)\n",
    "    gdf_merged = pd.concat((standing, fallen))\n",
    "    gdf_merged.to_file(merge_outpath/'predicted_vectors'/r.name, driver='GeoJSON')\n",
    "    gdf_merged = None\n",
    "    gdf_temp = None"
   ]
  },
  {
   "cell_type": "code",
   "execution_count": 50,
   "id": "a8c02158",
   "metadata": {
    "ExecuteTime": {
     "end_time": "2022-04-28T06:48:06.861713Z",
     "start_time": "2022-04-28T06:47:34.223252Z"
    }
   },
   "outputs": [
    {
     "data": {
      "application/vnd.jupyter.widget-view+json": {
       "model_id": "6110e61c5c284e1e828bf1258298ff06",
       "version_major": 2,
       "version_minor": 0
      },
      "text/plain": [
       "0it [00:00, ?it/s]"
      ]
     },
     "metadata": {},
     "output_type": "display_data"
    },
    {
     "data": {
      "application/vnd.jupyter.widget-view+json": {
       "model_id": "87ca7953ff164a17bb563ac5106f444d",
       "version_major": 2,
       "version_minor": 0
      },
      "text/plain": [
       "  0%|          | 0/5 [00:00<?, ?it/s]"
      ]
     },
     "metadata": {},
     "output_type": "display_data"
    },
    {
     "name": "stdout",
     "output_type": "stream",
     "text": [
      "loading annotations into memory...\n",
      "Done (t=0.03s)\n",
      "creating index...\n",
      "index created!\n",
      "Loading and preparing results...\n",
      "DONE (t=0.02s)\n",
      "creating index...\n",
      "index created!\n",
      "\n",
      "Evaluating for category uprightwood\n",
      "Running per image evaluation...\n",
      "Evaluate annotation type *segm*\n",
      "DONE (t=0.63s).\n",
      "Accumulating evaluation results...\n",
      "DONE (t=0.01s).\n",
      " Average Precision  (AP) @[ IoU=0.50:0.95 | area=   all | maxDets=1000 ] = 0.324\n",
      " Average Precision  (AP) @[ IoU=0.50      | area=   all | maxDets=1000 ] = 0.597\n",
      " Average Precision  (AP) @[ IoU=0.75      | area=   all | maxDets=1000 ] = 0.326\n",
      " Average Precision  (AP) @[ IoU=0.50:0.95 | area= small | maxDets=1000 ] = 0.164\n",
      " Average Precision  (AP) @[ IoU=0.50:0.95 | area=medium | maxDets=1000 ] = 0.390\n",
      " Average Precision  (AP) @[ IoU=0.50:0.95 | area= large | maxDets=1000 ] = 1.000\n",
      " Average Recall     (AR) @[ IoU=0.50:0.95 | area=   all | maxDets=100 ] = 0.347\n",
      " Average Recall     (AR) @[ IoU=0.50:0.95 | area= small | maxDets=100 ] = 0.189\n",
      " Average Recall     (AR) @[ IoU=0.50:0.95 | area=medium | maxDets=100 ] = 0.410\n",
      " Average Recall     (AR) @[ IoU=0.50:0.95 | area= large | maxDets=100 ] = 1.000\n",
      "\n",
      "Evaluating for category groundwood\n",
      "Running per image evaluation...\n",
      "Evaluate annotation type *segm*\n",
      "DONE (t=13.09s).\n",
      "Accumulating evaluation results...\n",
      "DONE (t=0.01s).\n",
      " Average Precision  (AP) @[ IoU=0.50:0.95 | area=   all | maxDets=1000 ] = 0.244\n",
      " Average Precision  (AP) @[ IoU=0.50      | area=   all | maxDets=1000 ] = 0.596\n",
      " Average Precision  (AP) @[ IoU=0.75      | area=   all | maxDets=1000 ] = 0.135\n",
      " Average Precision  (AP) @[ IoU=0.50:0.95 | area= small | maxDets=1000 ] = 0.245\n",
      " Average Precision  (AP) @[ IoU=0.50:0.95 | area=medium | maxDets=1000 ] = 0.211\n",
      " Average Precision  (AP) @[ IoU=0.50:0.95 | area= large | maxDets=1000 ] = -1.000\n",
      " Average Recall     (AR) @[ IoU=0.50:0.95 | area=   all | maxDets=100 ] = 0.156\n",
      " Average Recall     (AR) @[ IoU=0.50:0.95 | area= small | maxDets=100 ] = 0.158\n",
      " Average Recall     (AR) @[ IoU=0.50:0.95 | area=medium | maxDets=100 ] = 0.109\n",
      " Average Recall     (AR) @[ IoU=0.50:0.95 | area= large | maxDets=100 ] = -1.000\n",
      "\n",
      "Evaluating for full data...\n",
      "Running per image evaluation...\n",
      "Evaluate annotation type *segm*\n",
      "DONE (t=13.81s).\n",
      "Accumulating evaluation results...\n",
      "DONE (t=0.02s).\n",
      " Average Precision  (AP) @[ IoU=0.50:0.95 | area=   all | maxDets=1000 ] = 0.284\n",
      " Average Precision  (AP) @[ IoU=0.50      | area=   all | maxDets=1000 ] = 0.596\n",
      " Average Precision  (AP) @[ IoU=0.75      | area=   all | maxDets=1000 ] = 0.231\n",
      " Average Precision  (AP) @[ IoU=0.50:0.95 | area= small | maxDets=1000 ] = 0.205\n",
      " Average Precision  (AP) @[ IoU=0.50:0.95 | area=medium | maxDets=1000 ] = 0.301\n",
      " Average Precision  (AP) @[ IoU=0.50:0.95 | area= large | maxDets=1000 ] = 1.000\n",
      " Average Recall     (AR) @[ IoU=0.50:0.95 | area=   all | maxDets=100 ] = 0.252\n",
      " Average Recall     (AR) @[ IoU=0.50:0.95 | area= small | maxDets=100 ] = 0.173\n",
      " Average Recall     (AR) @[ IoU=0.50:0.95 | area=medium | maxDets=100 ] = 0.259\n",
      " Average Recall     (AR) @[ IoU=0.50:0.95 | area= large | maxDets=100 ] = 1.000\n"
     ]
    }
   ],
   "source": [
    "merged_coco_eval = GisCOCOeval(merge_outpath, merge_outpath, None, None, deadwood_categories)\n",
    "merged_coco_eval.prepare_data(gt_label_col='layer')\n",
    "merged_coco_eval.prepare_eval()\n",
    "merged_coco_eval.evaluate()"
   ]
  },
  {
   "cell_type": "markdown",
   "id": "ae530d8f",
   "metadata": {},
   "source": [
    "This usually worsens the results a bit, but the produced results are better suited for deriving forest charasteristics, as the number of overlapping detected instances decrease significantly."
   ]
  },
  {
   "cell_type": "code",
   "execution_count": 51,
   "id": "8a716a22",
   "metadata": {
    "ExecuteTime": {
     "end_time": "2022-04-28T06:48:43.905072Z",
     "start_time": "2022-04-28T06:48:06.862966Z"
    }
   },
   "outputs": [
    {
     "name": "stderr",
     "output_type": "stream",
     "text": [
      "318it [00:00, 405.32it/s]\n",
      "2737it [00:21, 129.54it/s]\n",
      "302it [00:00, 449.91it/s]\n",
      "2122it [00:12, 172.92it/s]\n"
     ]
    }
   ],
   "source": [
    "preds.reset_index(drop=True, inplace=True)\n",
    "standing = merge_polys(preds[preds.label == 1].copy(), 0.2)\n",
    "fallen = merge_polys(preds[preds.label == 2].copy(), 0.2)\n",
    "standing = merge_polys(standing, 0.2)\n",
    "fallen = merge_polys(fallen, 0.2)\n",
    "preds_merged = pd.concat((standing, fallen))"
   ]
  },
  {
   "cell_type": "code",
   "execution_count": 52,
   "id": "b1ccab6b",
   "metadata": {
    "ExecuteTime": {
     "end_time": "2022-04-28T06:48:43.928137Z",
     "start_time": "2022-04-28T06:48:43.906402Z"
    }
   },
   "outputs": [
    {
     "data": {
      "text/plain": [
       "groundwood     2042\n",
       "uprightwood     300\n",
       "Name: layer, dtype: int64"
      ]
     },
     "execution_count": 52,
     "metadata": {},
     "output_type": "execute_result"
    }
   ],
   "source": [
    "preds_merged['layer'] = preds_merged.apply(lambda row: 'groundwood' if row.label == 2 else 'uprightwood', axis=1)\n",
    "preds_merged.layer.value_counts()"
   ]
  },
  {
   "cell_type": "code",
   "execution_count": 53,
   "id": "8f182904",
   "metadata": {
    "ExecuteTime": {
     "end_time": "2022-04-28T06:49:12.643060Z",
     "start_time": "2022-04-28T06:48:43.929216Z"
    }
   },
   "outputs": [
    {
     "data": {
      "application/vnd.jupyter.widget-view+json": {
       "model_id": "3caf86cca4e448c7b94eff1e2cd724ef",
       "version_major": 2,
       "version_minor": 0
      },
      "text/plain": [
       "  0%|          | 0/1741 [00:00<?, ?it/s]"
      ]
     },
     "metadata": {},
     "output_type": "display_data"
    },
    {
     "data": {
      "application/vnd.jupyter.widget-view+json": {
       "model_id": "cf53a564eb7443cbb87beabd49ca0acb",
       "version_major": 2,
       "version_minor": 0
      },
      "text/plain": [
       "  0%|          | 0/2342 [00:00<?, ?it/s]"
      ]
     },
     "metadata": {},
     "output_type": "display_data"
    }
   ],
   "source": [
    "tp_truths = truths.copy()\n",
    "tp_truths.rename(columns={'groundwood':'label'}, inplace=True)\n",
    "truth_sindex = tp_truths.sindex\n",
    "fp_preds_merged = preds_merged.copy()\n",
    "pred_sindex = fp_preds_merged.sindex\n",
    "tp_truths[tp_cols] = tp_truths.progress_apply(lambda row: is_true_positive(row, fp_preds_merged, pred_sindex), \n",
    "                                              axis=1, result_type='expand')\n",
    "fp_preds_merged[fp_cols] = fp_preds_merged.progress_apply(lambda row: is_false_positive(row, tp_truths, truth_sindex,\n",
    "                                                                            fp_preds_merged, pred_sindex),\n",
    "                                            axis=1, result_type='expand')"
   ]
  },
  {
   "cell_type": "code",
   "execution_count": 54,
   "id": "8ad9948e",
   "metadata": {
    "ExecuteTime": {
     "end_time": "2022-04-28T06:49:12.664182Z",
     "start_time": "2022-04-28T06:49:12.644132Z"
    }
   },
   "outputs": [
    {
     "data": {
      "text/html": [
       "<div>\n",
       "<style scoped>\n",
       "    .dataframe tbody tr th:only-of-type {\n",
       "        vertical-align: middle;\n",
       "    }\n",
       "\n",
       "    .dataframe tbody tr th {\n",
       "        vertical-align: top;\n",
       "    }\n",
       "\n",
       "    .dataframe thead th {\n",
       "        text-align: right;\n",
       "    }\n",
       "</style>\n",
       "<table border=\"1\" class=\"dataframe\">\n",
       "  <thead>\n",
       "    <tr style=\"text-align: right;\">\n",
       "      <th>FP_0.5</th>\n",
       "      <th>FP</th>\n",
       "      <th>TP</th>\n",
       "      <th>All</th>\n",
       "    </tr>\n",
       "    <tr>\n",
       "      <th>layer</th>\n",
       "      <th></th>\n",
       "      <th></th>\n",
       "      <th></th>\n",
       "    </tr>\n",
       "  </thead>\n",
       "  <tbody>\n",
       "    <tr>\n",
       "      <th>groundwood</th>\n",
       "      <td>1079</td>\n",
       "      <td>963</td>\n",
       "      <td>2042</td>\n",
       "    </tr>\n",
       "    <tr>\n",
       "      <th>uprightwood</th>\n",
       "      <td>74</td>\n",
       "      <td>226</td>\n",
       "      <td>300</td>\n",
       "    </tr>\n",
       "    <tr>\n",
       "      <th>All</th>\n",
       "      <td>1153</td>\n",
       "      <td>1189</td>\n",
       "      <td>2342</td>\n",
       "    </tr>\n",
       "  </tbody>\n",
       "</table>\n",
       "</div>"
      ],
      "text/plain": [
       "FP_0.5         FP    TP   All\n",
       "layer                        \n",
       "groundwood   1079   963  2042\n",
       "uprightwood    74   226   300\n",
       "All          1153  1189  2342"
      ]
     },
     "execution_count": 54,
     "metadata": {},
     "output_type": "execute_result"
    }
   ],
   "source": [
    "pd.crosstab(fp_preds_merged.layer, fp_preds_merged['FP_0.5'], margins=True)"
   ]
  },
  {
   "cell_type": "code",
   "execution_count": 55,
   "id": "2dde5257",
   "metadata": {
    "ExecuteTime": {
     "end_time": "2022-04-28T06:49:12.687281Z",
     "start_time": "2022-04-28T06:49:12.665203Z"
    }
   },
   "outputs": [
    {
     "data": {
      "text/html": [
       "<div>\n",
       "<style scoped>\n",
       "    .dataframe tbody tr th:only-of-type {\n",
       "        vertical-align: middle;\n",
       "    }\n",
       "\n",
       "    .dataframe tbody tr th {\n",
       "        vertical-align: top;\n",
       "    }\n",
       "\n",
       "    .dataframe thead th {\n",
       "        text-align: right;\n",
       "    }\n",
       "</style>\n",
       "<table border=\"1\" class=\"dataframe\">\n",
       "  <thead>\n",
       "    <tr style=\"text-align: right;\">\n",
       "      <th>TP_0.5</th>\n",
       "      <th>FN</th>\n",
       "      <th>TP</th>\n",
       "      <th>All</th>\n",
       "    </tr>\n",
       "    <tr>\n",
       "      <th>layer</th>\n",
       "      <th></th>\n",
       "      <th></th>\n",
       "      <th></th>\n",
       "    </tr>\n",
       "  </thead>\n",
       "  <tbody>\n",
       "    <tr>\n",
       "      <th>groundwood</th>\n",
       "      <td>438</td>\n",
       "      <td>963</td>\n",
       "      <td>1401</td>\n",
       "    </tr>\n",
       "    <tr>\n",
       "      <th>uprightwood</th>\n",
       "      <td>114</td>\n",
       "      <td>226</td>\n",
       "      <td>340</td>\n",
       "    </tr>\n",
       "    <tr>\n",
       "      <th>All</th>\n",
       "      <td>552</td>\n",
       "      <td>1189</td>\n",
       "      <td>1741</td>\n",
       "    </tr>\n",
       "  </tbody>\n",
       "</table>\n",
       "</div>"
      ],
      "text/plain": [
       "TP_0.5        FN    TP   All\n",
       "layer                       \n",
       "groundwood   438   963  1401\n",
       "uprightwood  114   226   340\n",
       "All          552  1189  1741"
      ]
     },
     "execution_count": 55,
     "metadata": {},
     "output_type": "execute_result"
    }
   ],
   "source": [
    "pd.crosstab(tp_truths.layer, tp_truths['TP_0.5'], margins=True)"
   ]
  },
  {
   "cell_type": "markdown",
   "id": "c8c52e12",
   "metadata": {},
   "source": [
    "$Precision = \\frac{tp}{tp+fp}, Recall = \\frac{tp}{tp+fn}$"
   ]
  },
  {
   "cell_type": "code",
   "execution_count": 56,
   "id": "27d1076b",
   "metadata": {
    "ExecuteTime": {
     "end_time": "2022-04-28T06:49:23.993848Z",
     "start_time": "2022-04-28T06:49:23.991625Z"
    }
   },
   "outputs": [
    {
     "name": "stdout",
     "output_type": "stream",
     "text": [
      "Precision for fallen deadwood with IoU threshold of 0.5 is 0.47\n",
      "Recall for fallen deadwood with IoU threshold of 0.5 is 0.69\n"
     ]
    }
   ],
   "source": [
    "print(f'Precision for fallen deadwood with IoU threshold of 0.5 is {(963/2042):.2f}')\n",
    "print(f'Recall for fallen deadwood with IoU threshold of 0.5 is {(963/1401):.2f}')"
   ]
  },
  {
   "cell_type": "code",
   "execution_count": 57,
   "id": "20d16753",
   "metadata": {
    "ExecuteTime": {
     "end_time": "2022-04-28T06:49:24.222474Z",
     "start_time": "2022-04-28T06:49:24.220537Z"
    }
   },
   "outputs": [
    {
     "name": "stdout",
     "output_type": "stream",
     "text": [
      "Precision for standing deadwood with IoU threshold of 0.5 is 0.75\n",
      "Recall for standing deadwood with IoU threshold of 0.5 is 0.66\n"
     ]
    }
   ],
   "source": [
    "print(f'Precision for standing deadwood with IoU threshold of 0.5 is {(226/300):.2f}')\n",
    "print(f'Recall for standing deadwood with IoU threshold of 0.5 is {(226/340):.2f}')"
   ]
  },
  {
   "cell_type": "code",
   "execution_count": 58,
   "id": "ef395fdc",
   "metadata": {
    "ExecuteTime": {
     "end_time": "2022-04-28T06:49:24.477909Z",
     "start_time": "2022-04-28T06:49:24.475928Z"
    }
   },
   "outputs": [
    {
     "name": "stdout",
     "output_type": "stream",
     "text": [
      "Overall precision with IoU threshold of 0.5 is 0.51\n",
      "Overall recall with IoU threshold of 0.5 is 0.68\n"
     ]
    }
   ],
   "source": [
    "print(f'Overall precision with IoU threshold of 0.5 is {(1189/2342):.2f}')\n",
    "print(f'Overall recall with IoU threshold of 0.5 is {(1189/1741):.2f}')"
   ]
  },
  {
   "cell_type": "markdown",
   "id": "a28f3219",
   "metadata": {},
   "source": [
    "As the postprocessing merges data instead of dropping less certain predictions, total area and IoU remain the same as in previous step."
   ]
  },
  {
   "cell_type": "code",
   "execution_count": 59,
   "id": "508260b9",
   "metadata": {
    "ExecuteTime": {
     "end_time": "2022-04-28T06:49:29.034941Z",
     "start_time": "2022-04-28T06:49:26.300651Z"
    }
   },
   "outputs": [],
   "source": [
    "preds_merged.to_file('../results/hiidenportti/merged_all_new.geojson')"
   ]
  },
  {
   "cell_type": "markdown",
   "id": "d4f06361",
   "metadata": {},
   "source": [
    "# Full Evo dataset"
   ]
  },
  {
   "cell_type": "markdown",
   "id": "810f7e35",
   "metadata": {},
   "source": [
    "Running predictions for Evo dataset takes so much time that it has been done separately. "
   ]
  },
  {
   "cell_type": "markdown",
   "id": "7be8fe26",
   "metadata": {},
   "source": [
    "## No overlap, no post-processing"
   ]
  },
  {
   "cell_type": "code",
   "execution_count": 60,
   "id": "3c1714ab",
   "metadata": {
    "ExecuteTime": {
     "end_time": "2022-04-28T06:49:44.743055Z",
     "start_time": "2022-04-28T06:49:44.735731Z"
    }
   },
   "outputs": [],
   "source": [
    "spk_raw_res_path = Path('../results/spk_raw/')\n",
    "truth_shps = sorted([spk_raw_res_path/'vector_tiles'/f for f in os.listdir(spk_raw_res_path/'vector_tiles')])\n",
    "spk_raw_shps = sorted([spk_raw_res_path/'raw_preds'/f for f in os.listdir(spk_raw_res_path/'raw_preds')])\n",
    "rasters = sorted([spk_raw_res_path/'raster_tiles'/f for f in os.listdir(spk_raw_res_path/'raster_tiles')])"
   ]
  },
  {
   "cell_type": "code",
   "execution_count": 61,
   "id": "b3a00928",
   "metadata": {
    "ExecuteTime": {
     "end_time": "2022-04-28T06:50:10.881522Z",
     "start_time": "2022-04-28T06:49:48.380745Z"
    }
   },
   "outputs": [],
   "source": [
    "for p, t in zip(spk_raw_shps, truth_shps):\n",
    "    temp_pred = gpd.read_file(p)\n",
    "    temp_truth = gpd.read_file(t)\n",
    "    temp_pred['geometry'] = temp_pred.apply(lambda row: fix_multipolys(row.geometry) \n",
    "                                            if row.geometry.type == 'MultiPolygon' \n",
    "                                            else shapely.geometry.Polygon(row.geometry.exterior), axis=1)\n",
    "    temp_pred['label'] += 1\n",
    "    temp_pred = gpd.clip(temp_pred, box(*temp_truth.total_bounds))\n",
    "    temp_pred = temp_pred[temp_pred.geometry.area > 16*0.0485**2]\n",
    "    temp_pred.to_file(spk_raw_res_path/'predicted_vectors'/p.name)"
   ]
  },
  {
   "cell_type": "code",
   "execution_count": 62,
   "id": "28ead968",
   "metadata": {
    "ExecuteTime": {
     "end_time": "2022-04-28T06:50:10.885782Z",
     "start_time": "2022-04-28T06:50:10.882755Z"
    }
   },
   "outputs": [],
   "source": [
    "pred_shps = sorted([spk_raw_res_path/'predicted_vectors'/f for f in os.listdir(spk_raw_res_path/'predicted_vectors')])"
   ]
  },
  {
   "cell_type": "code",
   "execution_count": 63,
   "id": "fb93fc2c",
   "metadata": {
    "ExecuteTime": {
     "end_time": "2022-04-28T06:50:15.657335Z",
     "start_time": "2022-04-28T06:50:10.887014Z"
    }
   },
   "outputs": [],
   "source": [
    "truths = None\n",
    "preds = None\n",
    "\n",
    "for p, t in zip(pred_shps, truth_shps):\n",
    "    temp_pred = gpd.read_file(p)\n",
    "    temp_truth = gpd.read_file(t)\n",
    "    if truths is None:\n",
    "        truths = temp_truth\n",
    "        preds = temp_pred\n",
    "    else:\n",
    "        truths = pd.concat((truths, temp_truth))\n",
    "        preds = pd.concat((preds, temp_pred))"
   ]
  },
  {
   "cell_type": "code",
   "execution_count": 64,
   "id": "03789bca",
   "metadata": {
    "ExecuteTime": {
     "end_time": "2022-04-28T06:50:15.708306Z",
     "start_time": "2022-04-28T06:50:15.658539Z"
    }
   },
   "outputs": [],
   "source": [
    "preds['layer'] = preds.apply(lambda row: 'groundwood' if row.label == 2 else 'uprightwood', axis=1)"
   ]
  },
  {
   "cell_type": "code",
   "execution_count": 65,
   "id": "c424f986",
   "metadata": {
    "ExecuteTime": {
     "end_time": "2022-04-28T06:50:15.942545Z",
     "start_time": "2022-04-28T06:50:15.709333Z"
    }
   },
   "outputs": [
    {
     "data": {
      "text/plain": [
       "((6079, 4), (5334, 4))"
      ]
     },
     "execution_count": 65,
     "metadata": {},
     "output_type": "execute_result"
    }
   ],
   "source": [
    "preds.shape, truths.shape"
   ]
  },
  {
   "cell_type": "code",
   "execution_count": 66,
   "id": "24508a22",
   "metadata": {
    "ExecuteTime": {
     "end_time": "2022-04-28T06:50:15.968814Z",
     "start_time": "2022-04-28T06:50:15.943595Z"
    }
   },
   "outputs": [
    {
     "data": {
      "text/plain": [
       "groundwood     4761\n",
       "uprightwood    1318\n",
       "Name: layer, dtype: int64"
      ]
     },
     "execution_count": 66,
     "metadata": {},
     "output_type": "execute_result"
    }
   ],
   "source": [
    "preds.layer.value_counts()"
   ]
  },
  {
   "cell_type": "code",
   "execution_count": 67,
   "id": "602425b3",
   "metadata": {
    "ExecuteTime": {
     "end_time": "2022-04-28T06:50:18.764827Z",
     "start_time": "2022-04-28T06:50:18.762478Z"
    }
   },
   "outputs": [],
   "source": [
    "truths.rename(columns={'label':'layer'}, inplace=True)"
   ]
  },
  {
   "cell_type": "code",
   "execution_count": 68,
   "id": "ce556c7d",
   "metadata": {
    "ExecuteTime": {
     "end_time": "2022-04-28T06:50:24.785309Z",
     "start_time": "2022-04-28T06:50:19.044794Z"
    }
   },
   "outputs": [],
   "source": [
    "dis_truths = truths.dissolve(by='layer')\n",
    "dis_preds = preds.dissolve(by='layer')"
   ]
  },
  {
   "cell_type": "markdown",
   "id": "82aba4e9-9cc2-4401-9aad-2d5470de69fb",
   "metadata": {},
   "source": [
    "IoU for standing deadwood is good already for this preprocessing level."
   ]
  },
  {
   "cell_type": "code",
   "execution_count": 69,
   "id": "635bf9f7",
   "metadata": {
    "ExecuteTime": {
     "end_time": "2022-04-28T06:50:27.113675Z",
     "start_time": "2022-04-28T06:50:24.786528Z"
    }
   },
   "outputs": [
    {
     "data": {
      "text/plain": [
       "layer\n",
       "groundwood     0.447793\n",
       "uprightwood    0.588185\n",
       "dtype: float64"
      ]
     },
     "execution_count": 69,
     "metadata": {},
     "output_type": "execute_result"
    }
   ],
   "source": [
    "poly_IoU(dis_truths, dis_preds)"
   ]
  },
  {
   "cell_type": "code",
   "execution_count": 70,
   "id": "dd4dae9d",
   "metadata": {
    "ExecuteTime": {
     "end_time": "2022-04-28T06:51:20.541476Z",
     "start_time": "2022-04-28T06:50:27.114961Z"
    }
   },
   "outputs": [
    {
     "data": {
      "application/vnd.jupyter.widget-view+json": {
       "model_id": "2ea893364c1f4f12b76b09f5613df5e5",
       "version_major": 2,
       "version_minor": 0
      },
      "text/plain": [
       "0it [00:00, ?it/s]"
      ]
     },
     "metadata": {},
     "output_type": "display_data"
    },
    {
     "data": {
      "application/vnd.jupyter.widget-view+json": {
       "model_id": "b6006af692854c2599832319032fef5c",
       "version_major": 2,
       "version_minor": 0
      },
      "text/plain": [
       "  0%|          | 0/71 [00:00<?, ?it/s]"
      ]
     },
     "metadata": {},
     "output_type": "display_data"
    },
    {
     "name": "stdout",
     "output_type": "stream",
     "text": [
      "loading annotations into memory...\n",
      "Done (t=0.19s)\n",
      "creating index...\n",
      "index created!\n",
      "Loading and preparing results...\n",
      "DONE (t=0.05s)\n",
      "creating index...\n",
      "index created!\n",
      "\n",
      "Evaluating for category uprightwood\n",
      "Running per image evaluation...\n",
      "Evaluate annotation type *segm*\n",
      "DONE (t=1.10s).\n",
      "Accumulating evaluation results...\n",
      "DONE (t=0.02s).\n",
      " Average Precision  (AP) @[ IoU=0.50:0.95 | area=   all | maxDets=10000 ] = 0.233\n",
      " Average Precision  (AP) @[ IoU=0.50      | area=   all | maxDets=10000 ] = 0.478\n",
      " Average Precision  (AP) @[ IoU=0.75      | area=   all | maxDets=10000 ] = 0.205\n",
      " Average Precision  (AP) @[ IoU=0.50:0.95 | area= small | maxDets=10000 ] = 0.087\n",
      " Average Precision  (AP) @[ IoU=0.50:0.95 | area=medium | maxDets=10000 ] = 0.311\n",
      " Average Precision  (AP) @[ IoU=0.50:0.95 | area= large | maxDets=10000 ] = 0.420\n",
      " Average Recall     (AR) @[ IoU=0.50:0.95 | area=   all | maxDets=1000 ] = 0.331\n",
      " Average Recall     (AR) @[ IoU=0.50:0.95 | area= small | maxDets=1000 ] = 0.182\n",
      " Average Recall     (AR) @[ IoU=0.50:0.95 | area=medium | maxDets=1000 ] = 0.419\n",
      " Average Recall     (AR) @[ IoU=0.50:0.95 | area= large | maxDets=1000 ] = 0.707\n",
      "\n",
      "Evaluating for category groundwood\n",
      "Running per image evaluation...\n",
      "Evaluate annotation type *segm*\n",
      "DONE (t=11.54s).\n",
      "Accumulating evaluation results...\n",
      "DONE (t=0.04s).\n",
      " Average Precision  (AP) @[ IoU=0.50:0.95 | area=   all | maxDets=10000 ] = 0.122\n",
      " Average Precision  (AP) @[ IoU=0.50      | area=   all | maxDets=10000 ] = 0.357\n",
      " Average Precision  (AP) @[ IoU=0.75      | area=   all | maxDets=10000 ] = 0.050\n",
      " Average Precision  (AP) @[ IoU=0.50:0.95 | area= small | maxDets=10000 ] = 0.119\n",
      " Average Precision  (AP) @[ IoU=0.50:0.95 | area=medium | maxDets=10000 ] = 0.185\n",
      " Average Precision  (AP) @[ IoU=0.50:0.95 | area= large | maxDets=10000 ] = -1.000\n",
      " Average Recall     (AR) @[ IoU=0.50:0.95 | area=   all | maxDets=1000 ] = 0.212\n",
      " Average Recall     (AR) @[ IoU=0.50:0.95 | area= small | maxDets=1000 ] = 0.211\n",
      " Average Recall     (AR) @[ IoU=0.50:0.95 | area=medium | maxDets=1000 ] = 0.227\n",
      " Average Recall     (AR) @[ IoU=0.50:0.95 | area= large | maxDets=1000 ] = -1.000\n",
      "\n",
      "Evaluating for full data...\n",
      "Running per image evaluation...\n",
      "Evaluate annotation type *segm*\n",
      "DONE (t=12.18s).\n",
      "Accumulating evaluation results...\n",
      "DONE (t=0.06s).\n",
      " Average Precision  (AP) @[ IoU=0.50:0.95 | area=   all | maxDets=10000 ] = 0.178\n",
      " Average Precision  (AP) @[ IoU=0.50      | area=   all | maxDets=10000 ] = 0.417\n",
      " Average Precision  (AP) @[ IoU=0.75      | area=   all | maxDets=10000 ] = 0.128\n",
      " Average Precision  (AP) @[ IoU=0.50:0.95 | area= small | maxDets=10000 ] = 0.103\n",
      " Average Precision  (AP) @[ IoU=0.50:0.95 | area=medium | maxDets=10000 ] = 0.248\n",
      " Average Precision  (AP) @[ IoU=0.50:0.95 | area= large | maxDets=10000 ] = 0.420\n",
      " Average Recall     (AR) @[ IoU=0.50:0.95 | area=   all | maxDets=1000 ] = 0.271\n",
      " Average Recall     (AR) @[ IoU=0.50:0.95 | area= small | maxDets=1000 ] = 0.196\n",
      " Average Recall     (AR) @[ IoU=0.50:0.95 | area=medium | maxDets=1000 ] = 0.323\n",
      " Average Recall     (AR) @[ IoU=0.50:0.95 | area= large | maxDets=1000 ] = 0.707\n"
     ]
    }
   ],
   "source": [
    "deadwood_categories = [{'supercategory': 'deadwood', 'id':1, 'name':'uprightwood'},\n",
    "                 \n",
    "                       {'supercategory': 'deadwood', 'id':2, 'name':'groundwood'}]\n",
    "\n",
    "spk_raw_coco_eval = GisCOCOeval(spk_raw_res_path, spk_raw_res_path, \n",
    "                           None, None, deadwood_categories)\n",
    "spk_raw_coco_eval.prepare_data(gt_label_col='label')\n",
    "spk_raw_coco_eval.prepare_eval()\n",
    "spk_raw_coco_eval.coco_eval.params.maxDets = [1000, 10000]\n",
    "spk_raw_coco_eval.evaluate()"
   ]
  },
  {
   "cell_type": "code",
   "execution_count": 71,
   "id": "299ba95f",
   "metadata": {
    "ExecuteTime": {
     "end_time": "2022-04-28T06:52:35.770247Z",
     "start_time": "2022-04-28T06:51:20.542686Z"
    }
   },
   "outputs": [
    {
     "data": {
      "application/vnd.jupyter.widget-view+json": {
       "model_id": "d91660524d504183995dcf5782f7c32f",
       "version_major": 2,
       "version_minor": 0
      },
      "text/plain": [
       "  0%|          | 0/5334 [00:00<?, ?it/s]"
      ]
     },
     "metadata": {},
     "output_type": "display_data"
    },
    {
     "data": {
      "application/vnd.jupyter.widget-view+json": {
       "model_id": "1971128d77ab4550b9992d4b42c5e6af",
       "version_major": 2,
       "version_minor": 0
      },
      "text/plain": [
       "  0%|          | 0/6079 [00:00<?, ?it/s]"
      ]
     },
     "metadata": {},
     "output_type": "display_data"
    }
   ],
   "source": [
    "#| output: false\n",
    "\n",
    "tp_truths = truths.copy()\n",
    "tp_truths['label'] = tp_truths.layer.apply(lambda row: 1 if row=='uprightwood' else 2)\n",
    "truth_sindex = tp_truths.sindex\n",
    "fp_preds = preds.copy()\n",
    "pred_sindex = fp_preds.sindex\n",
    "tp_truths[tp_cols] = tp_truths.progress_apply(lambda row: is_true_positive(row, fp_preds, pred_sindex), \n",
    "                                              axis=1, result_type='expand')\n",
    "fp_preds[fp_cols] = fp_preds.progress_apply(lambda row: is_false_positive(row, tp_truths, truth_sindex,\n",
    "                                                                            fp_preds, pred_sindex),\n",
    "                                            axis=1, result_type='expand')"
   ]
  },
  {
   "cell_type": "code",
   "execution_count": 72,
   "id": "d88eff7c",
   "metadata": {
    "ExecuteTime": {
     "end_time": "2022-04-28T06:52:35.793650Z",
     "start_time": "2022-04-28T06:52:35.771300Z"
    }
   },
   "outputs": [
    {
     "data": {
      "text/html": [
       "<div>\n",
       "<style scoped>\n",
       "    .dataframe tbody tr th:only-of-type {\n",
       "        vertical-align: middle;\n",
       "    }\n",
       "\n",
       "    .dataframe tbody tr th {\n",
       "        vertical-align: top;\n",
       "    }\n",
       "\n",
       "    .dataframe thead th {\n",
       "        text-align: right;\n",
       "    }\n",
       "</style>\n",
       "<table border=\"1\" class=\"dataframe\">\n",
       "  <thead>\n",
       "    <tr style=\"text-align: right;\">\n",
       "      <th>FP_0.5</th>\n",
       "      <th>FP</th>\n",
       "      <th>TP</th>\n",
       "      <th>All</th>\n",
       "    </tr>\n",
       "    <tr>\n",
       "      <th>layer</th>\n",
       "      <th></th>\n",
       "      <th></th>\n",
       "      <th></th>\n",
       "    </tr>\n",
       "  </thead>\n",
       "  <tbody>\n",
       "    <tr>\n",
       "      <th>groundwood</th>\n",
       "      <td>2873</td>\n",
       "      <td>1888</td>\n",
       "      <td>4761</td>\n",
       "    </tr>\n",
       "    <tr>\n",
       "      <th>uprightwood</th>\n",
       "      <td>501</td>\n",
       "      <td>817</td>\n",
       "      <td>1318</td>\n",
       "    </tr>\n",
       "    <tr>\n",
       "      <th>All</th>\n",
       "      <td>3374</td>\n",
       "      <td>2705</td>\n",
       "      <td>6079</td>\n",
       "    </tr>\n",
       "  </tbody>\n",
       "</table>\n",
       "</div>"
      ],
      "text/plain": [
       "FP_0.5         FP    TP   All\n",
       "layer                        \n",
       "groundwood   2873  1888  4761\n",
       "uprightwood   501   817  1318\n",
       "All          3374  2705  6079"
      ]
     },
     "execution_count": 72,
     "metadata": {},
     "output_type": "execute_result"
    }
   ],
   "source": [
    "pd.crosstab(fp_preds.layer, fp_preds['FP_0.5'], margins=True)"
   ]
  },
  {
   "cell_type": "code",
   "execution_count": 73,
   "id": "8db064a9",
   "metadata": {
    "ExecuteTime": {
     "end_time": "2022-04-28T06:52:35.816596Z",
     "start_time": "2022-04-28T06:52:35.794739Z"
    }
   },
   "outputs": [
    {
     "data": {
      "text/html": [
       "<div>\n",
       "<style scoped>\n",
       "    .dataframe tbody tr th:only-of-type {\n",
       "        vertical-align: middle;\n",
       "    }\n",
       "\n",
       "    .dataframe tbody tr th {\n",
       "        vertical-align: top;\n",
       "    }\n",
       "\n",
       "    .dataframe thead th {\n",
       "        text-align: right;\n",
       "    }\n",
       "</style>\n",
       "<table border=\"1\" class=\"dataframe\">\n",
       "  <thead>\n",
       "    <tr style=\"text-align: right;\">\n",
       "      <th>TP_0.5</th>\n",
       "      <th>FN</th>\n",
       "      <th>TP</th>\n",
       "      <th>All</th>\n",
       "    </tr>\n",
       "    <tr>\n",
       "      <th>layer</th>\n",
       "      <th></th>\n",
       "      <th></th>\n",
       "      <th></th>\n",
       "    </tr>\n",
       "  </thead>\n",
       "  <tbody>\n",
       "    <tr>\n",
       "      <th>groundwood</th>\n",
       "      <td>2027</td>\n",
       "      <td>1888</td>\n",
       "      <td>3915</td>\n",
       "    </tr>\n",
       "    <tr>\n",
       "      <th>uprightwood</th>\n",
       "      <td>602</td>\n",
       "      <td>817</td>\n",
       "      <td>1419</td>\n",
       "    </tr>\n",
       "    <tr>\n",
       "      <th>All</th>\n",
       "      <td>2629</td>\n",
       "      <td>2705</td>\n",
       "      <td>5334</td>\n",
       "    </tr>\n",
       "  </tbody>\n",
       "</table>\n",
       "</div>"
      ],
      "text/plain": [
       "TP_0.5         FN    TP   All\n",
       "layer                        \n",
       "groundwood   2027  1888  3915\n",
       "uprightwood   602   817  1419\n",
       "All          2629  2705  5334"
      ]
     },
     "execution_count": 73,
     "metadata": {},
     "output_type": "execute_result"
    }
   ],
   "source": [
    "pd.crosstab(tp_truths.layer, tp_truths['TP_0.5'], margins=True)"
   ]
  },
  {
   "cell_type": "markdown",
   "id": "9e1341b4",
   "metadata": {},
   "source": [
    "$Precision = \\frac{tp}{tp+fp}, Recall = \\frac{tp}{tp+fn}$"
   ]
  },
  {
   "cell_type": "code",
   "execution_count": 74,
   "id": "b53a4a19",
   "metadata": {
    "ExecuteTime": {
     "end_time": "2022-04-28T06:53:09.925047Z",
     "start_time": "2022-04-28T06:53:09.922783Z"
    }
   },
   "outputs": [
    {
     "name": "stdout",
     "output_type": "stream",
     "text": [
      "Precision for fallen deadwood with IoU threshold of 0.5 is 0.40\n",
      "Recall for fallen deadwood with IoU threshold of 0.5 is 0.48\n"
     ]
    }
   ],
   "source": [
    "print(f'Precision for fallen deadwood with IoU threshold of 0.5 is {(1888/4761):.2f}')\n",
    "print(f'Recall for fallen deadwood with IoU threshold of 0.5 is {(1888/3915):.2f}')"
   ]
  },
  {
   "cell_type": "code",
   "execution_count": 75,
   "id": "97660f22",
   "metadata": {
    "ExecuteTime": {
     "end_time": "2022-04-28T06:53:26.589642Z",
     "start_time": "2022-04-28T06:53:26.587428Z"
    }
   },
   "outputs": [
    {
     "name": "stdout",
     "output_type": "stream",
     "text": [
      "Precision for standing deadwood with IoU threshold of 0.5 is 0.62\n",
      "Recall for standing deadwood with IoU threshold of 0.5 is 0.58\n"
     ]
    }
   ],
   "source": [
    "print(f'Precision for standing deadwood with IoU threshold of 0.5 is {(817/1318):.2f}')\n",
    "print(f'Recall for standing deadwood with IoU threshold of 0.5 is {(817/1419):.2f}')"
   ]
  },
  {
   "cell_type": "code",
   "execution_count": 76,
   "id": "2fb505b4",
   "metadata": {
    "ExecuteTime": {
     "end_time": "2022-04-28T06:53:59.953355Z",
     "start_time": "2022-04-28T06:53:59.951135Z"
    }
   },
   "outputs": [
    {
     "name": "stdout",
     "output_type": "stream",
     "text": [
      "Overall precision with IoU threshold of 0.5 is 0.44\n",
      "Overall recall with IoU threshold of 0.5 is 0.51\n"
     ]
    }
   ],
   "source": [
    "print(f'Overall precision with IoU threshold of 0.5 is {(2705/6079):.2f}')\n",
    "print(f'Overall recall with IoU threshold of 0.5 is {(2705/5334):.2f}')"
   ]
  },
  {
   "cell_type": "markdown",
   "id": "796648b7",
   "metadata": {},
   "source": [
    "## Half patch overlap and edge filtering"
   ]
  },
  {
   "cell_type": "code",
   "execution_count": 77,
   "id": "b7552d29",
   "metadata": {
    "ExecuteTime": {
     "end_time": "2022-04-28T06:54:05.521945Z",
     "start_time": "2022-04-28T06:54:05.514931Z"
    }
   },
   "outputs": [],
   "source": [
    "spk_res_path = Path('../results/spk_buffered/')\n",
    "truth_shps = sorted([spk_res_path/'vector_tiles'/f for f in os.listdir(spk_res_path/'vector_tiles')])\n",
    "spk_buf_raw_shps = sorted([spk_res_path/'raw_preds'/f for f in os.listdir(spk_res_path/'raw_preds')])\n",
    "rasters = sorted([spk_res_path/'raster_tiles'/f for f in os.listdir(spk_res_path/'raster_tiles')])"
   ]
  },
  {
   "cell_type": "code",
   "execution_count": 78,
   "id": "cff7058a",
   "metadata": {
    "ExecuteTime": {
     "end_time": "2022-04-28T06:54:27.732397Z",
     "start_time": "2022-04-28T06:54:05.923200Z"
    }
   },
   "outputs": [],
   "source": [
    "for p, t in zip(spk_buf_raw_shps, truth_shps):\n",
    "    temp_pred = gpd.read_file(p)\n",
    "    temp_truth = gpd.read_file(t)\n",
    "    temp_pred = gpd.clip(temp_pred, box(*temp_truth.total_bounds))\n",
    "    temp_pred['geometry'] = temp_pred.apply(lambda row: fix_multipolys(row.geometry) \n",
    "                                            if row.geometry.type == 'MultiPolygon' \n",
    "                                            else shapely.geometry.Polygon(row.geometry.exterior), axis=1)\n",
    "    temp_pred['label'] += 1\n",
    "    temp_pred = temp_pred[temp_pred.geometry.area > 16*0.0485**2]\n",
    "    temp_pred.to_file(spk_res_path/'predicted_vectors'/p.name)"
   ]
  },
  {
   "cell_type": "code",
   "execution_count": 79,
   "id": "48d3f4c8",
   "metadata": {
    "ExecuteTime": {
     "end_time": "2022-04-28T06:54:27.736796Z",
     "start_time": "2022-04-28T06:54:27.733650Z"
    }
   },
   "outputs": [],
   "source": [
    "pred_shps = sorted([spk_res_path/'predicted_vectors'/f for f in os.listdir(spk_res_path/'predicted_vectors')])"
   ]
  },
  {
   "cell_type": "code",
   "execution_count": 80,
   "id": "4d7d7261",
   "metadata": {
    "ExecuteTime": {
     "end_time": "2022-04-28T06:54:33.161095Z",
     "start_time": "2022-04-28T06:54:27.738013Z"
    }
   },
   "outputs": [],
   "source": [
    "truths = None\n",
    "preds = None\n",
    "\n",
    "for p, t in zip(pred_shps, truth_shps):\n",
    "    temp_pred = gpd.read_file(p)\n",
    "    temp_truth = gpd.read_file(t)\n",
    "    if truths is None:\n",
    "        truths = temp_truth\n",
    "        preds = temp_pred\n",
    "    else:\n",
    "        truths = pd.concat((truths, temp_truth))\n",
    "        preds = pd.concat((preds, temp_pred))"
   ]
  },
  {
   "cell_type": "code",
   "execution_count": 81,
   "id": "d2f040b8",
   "metadata": {
    "ExecuteTime": {
     "end_time": "2022-04-28T06:54:33.213325Z",
     "start_time": "2022-04-28T06:54:33.162369Z"
    }
   },
   "outputs": [],
   "source": [
    "preds['layer'] = preds.apply(lambda row: 'groundwood' if row.label == 2 else 'uprightwood', axis=1)"
   ]
  },
  {
   "cell_type": "code",
   "execution_count": 82,
   "id": "6771fe51",
   "metadata": {
    "ExecuteTime": {
     "end_time": "2022-04-28T06:54:33.216680Z",
     "start_time": "2022-04-28T06:54:33.214307Z"
    }
   },
   "outputs": [
    {
     "data": {
      "text/plain": [
       "((6194, 4), (5334, 4))"
      ]
     },
     "execution_count": 82,
     "metadata": {},
     "output_type": "execute_result"
    }
   ],
   "source": [
    "preds.shape, truths.shape"
   ]
  },
  {
   "cell_type": "code",
   "execution_count": 83,
   "id": "b7140169",
   "metadata": {
    "ExecuteTime": {
     "end_time": "2022-04-28T06:54:33.226942Z",
     "start_time": "2022-04-28T06:54:33.217775Z"
    }
   },
   "outputs": [
    {
     "data": {
      "text/plain": [
       "groundwood     4908\n",
       "uprightwood    1286\n",
       "Name: layer, dtype: int64"
      ]
     },
     "execution_count": 83,
     "metadata": {},
     "output_type": "execute_result"
    }
   ],
   "source": [
    "preds.layer.value_counts()"
   ]
  },
  {
   "cell_type": "code",
   "execution_count": 84,
   "id": "040b0924",
   "metadata": {
    "ExecuteTime": {
     "end_time": "2022-04-28T06:54:33.234766Z",
     "start_time": "2022-04-28T06:54:33.228002Z"
    }
   },
   "outputs": [],
   "source": [
    "truths.rename(columns={'label':'layer'}, inplace=True)"
   ]
  },
  {
   "cell_type": "code",
   "execution_count": 85,
   "id": "2fdf272a",
   "metadata": {
    "ExecuteTime": {
     "end_time": "2022-04-28T06:54:39.201963Z",
     "start_time": "2022-04-28T06:54:33.236281Z"
    }
   },
   "outputs": [],
   "source": [
    "dis_truths = truths.dissolve(by='layer')\n",
    "dis_preds = preds.dissolve(by='layer')"
   ]
  },
  {
   "cell_type": "code",
   "execution_count": 86,
   "id": "b7dad594",
   "metadata": {
    "ExecuteTime": {
     "end_time": "2022-04-28T06:54:53.289266Z",
     "start_time": "2022-04-28T06:54:39.203942Z"
    }
   },
   "outputs": [
    {
     "data": {
      "text/plain": [
       "layer\n",
       "groundwood     0.458600\n",
       "uprightwood    0.607651\n",
       "dtype: float64"
      ]
     },
     "execution_count": 86,
     "metadata": {},
     "output_type": "execute_result"
    }
   ],
   "source": [
    "poly_IoU(dis_truths, dis_preds)"
   ]
  },
  {
   "cell_type": "code",
   "execution_count": 87,
   "id": "4d100f63",
   "metadata": {
    "ExecuteTime": {
     "end_time": "2022-04-28T06:55:36.831393Z",
     "start_time": "2022-04-28T06:54:53.290316Z"
    }
   },
   "outputs": [
    {
     "data": {
      "application/vnd.jupyter.widget-view+json": {
       "model_id": "6228aca7fa164de2a5899f7d7f034fcf",
       "version_major": 2,
       "version_minor": 0
      },
      "text/plain": [
       "0it [00:00, ?it/s]"
      ]
     },
     "metadata": {},
     "output_type": "display_data"
    },
    {
     "data": {
      "application/vnd.jupyter.widget-view+json": {
       "model_id": "e553d56c75fd40b3811a0477957ee8fe",
       "version_major": 2,
       "version_minor": 0
      },
      "text/plain": [
       "  0%|          | 0/71 [00:00<?, ?it/s]"
      ]
     },
     "metadata": {},
     "output_type": "display_data"
    },
    {
     "name": "stdout",
     "output_type": "stream",
     "text": [
      "loading annotations into memory...\n",
      "Done (t=0.19s)\n",
      "creating index...\n",
      "index created!\n",
      "Loading and preparing results...\n",
      "DONE (t=0.05s)\n",
      "creating index...\n",
      "index created!\n",
      "\n",
      "Evaluating for category uprightwood\n",
      "Running per image evaluation...\n",
      "Evaluate annotation type *segm*\n",
      "DONE (t=1.06s).\n",
      "Accumulating evaluation results...\n",
      "DONE (t=0.02s).\n",
      " Average Precision  (AP) @[ IoU=0.50:0.95 | area=   all | maxDets=10000 ] = 0.300\n",
      " Average Precision  (AP) @[ IoU=0.50      | area=   all | maxDets=10000 ] = 0.551\n",
      " Average Precision  (AP) @[ IoU=0.75      | area=   all | maxDets=10000 ] = 0.304\n",
      " Average Precision  (AP) @[ IoU=0.50:0.95 | area= small | maxDets=10000 ] = 0.125\n",
      " Average Precision  (AP) @[ IoU=0.50:0.95 | area=medium | maxDets=10000 ] = 0.404\n",
      " Average Precision  (AP) @[ IoU=0.50:0.95 | area= large | maxDets=10000 ] = 0.368\n",
      " Average Recall     (AR) @[ IoU=0.50:0.95 | area=   all | maxDets=1000 ] = 0.384\n",
      " Average Recall     (AR) @[ IoU=0.50:0.95 | area= small | maxDets=1000 ] = 0.217\n",
      " Average Recall     (AR) @[ IoU=0.50:0.95 | area=medium | maxDets=1000 ] = 0.483\n",
      " Average Recall     (AR) @[ IoU=0.50:0.95 | area= large | maxDets=1000 ] = 0.793\n",
      "\n",
      "Evaluating for category groundwood\n",
      "Running per image evaluation...\n",
      "Evaluate annotation type *segm*\n",
      "DONE (t=11.79s).\n",
      "Accumulating evaluation results...\n",
      "DONE (t=0.05s).\n",
      " Average Precision  (AP) @[ IoU=0.50:0.95 | area=   all | maxDets=10000 ] = 0.151\n",
      " Average Precision  (AP) @[ IoU=0.50      | area=   all | maxDets=10000 ] = 0.419\n",
      " Average Precision  (AP) @[ IoU=0.75      | area=   all | maxDets=10000 ] = 0.063\n",
      " Average Precision  (AP) @[ IoU=0.50:0.95 | area= small | maxDets=10000 ] = 0.147\n",
      " Average Precision  (AP) @[ IoU=0.50:0.95 | area=medium | maxDets=10000 ] = 0.238\n",
      " Average Precision  (AP) @[ IoU=0.50:0.95 | area= large | maxDets=10000 ] = -1.000\n",
      " Average Recall     (AR) @[ IoU=0.50:0.95 | area=   all | maxDets=1000 ] = 0.240\n",
      " Average Recall     (AR) @[ IoU=0.50:0.95 | area= small | maxDets=1000 ] = 0.239\n",
      " Average Recall     (AR) @[ IoU=0.50:0.95 | area=medium | maxDets=1000 ] = 0.280\n",
      " Average Recall     (AR) @[ IoU=0.50:0.95 | area= large | maxDets=1000 ] = -1.000\n",
      "\n",
      "Evaluating for full data...\n",
      "Running per image evaluation...\n",
      "Evaluate annotation type *segm*\n",
      "DONE (t=12.67s).\n",
      "Accumulating evaluation results...\n",
      "DONE (t=0.07s).\n",
      " Average Precision  (AP) @[ IoU=0.50:0.95 | area=   all | maxDets=10000 ] = 0.225\n",
      " Average Precision  (AP) @[ IoU=0.50      | area=   all | maxDets=10000 ] = 0.485\n",
      " Average Precision  (AP) @[ IoU=0.75      | area=   all | maxDets=10000 ] = 0.184\n",
      " Average Precision  (AP) @[ IoU=0.50:0.95 | area= small | maxDets=10000 ] = 0.136\n",
      " Average Precision  (AP) @[ IoU=0.50:0.95 | area=medium | maxDets=10000 ] = 0.321\n",
      " Average Precision  (AP) @[ IoU=0.50:0.95 | area= large | maxDets=10000 ] = 0.368\n",
      " Average Recall     (AR) @[ IoU=0.50:0.95 | area=   all | maxDets=1000 ] = 0.312\n",
      " Average Recall     (AR) @[ IoU=0.50:0.95 | area= small | maxDets=1000 ] = 0.228\n",
      " Average Recall     (AR) @[ IoU=0.50:0.95 | area=medium | maxDets=1000 ] = 0.382\n",
      " Average Recall     (AR) @[ IoU=0.50:0.95 | area= large | maxDets=1000 ] = 0.793\n"
     ]
    }
   ],
   "source": [
    "deadwood_categories = [{'supercategory': 'deadwood', 'id':1, 'name':'uprightwood'},\n",
    "                 \n",
    "                       {'supercategory': 'deadwood', 'id':2, 'name':'groundwood'}]\n",
    "\n",
    "spk_coco_eval = GisCOCOeval(spk_res_path, spk_res_path, \n",
    "                           None, None, deadwood_categories)\n",
    "spk_coco_eval.prepare_data(gt_label_col='label')\n",
    "spk_coco_eval.prepare_eval()\n",
    "spk_coco_eval.coco_eval.params.maxDets = [1000, 10000]\n",
    "spk_coco_eval.evaluate()"
   ]
  },
  {
   "cell_type": "markdown",
   "id": "f008b3c9-ba5b-4989-a3db-038cfd911ccf",
   "metadata": {},
   "source": [
    "The overall AP50 score is close to the patch-level results here."
   ]
  },
  {
   "cell_type": "code",
   "execution_count": 88,
   "id": "8dfc3a2d",
   "metadata": {
    "ExecuteTime": {
     "end_time": "2022-04-28T06:57:00.594719Z",
     "start_time": "2022-04-28T06:55:36.832519Z"
    }
   },
   "outputs": [
    {
     "data": {
      "application/vnd.jupyter.widget-view+json": {
       "model_id": "08c8118e3f424adb899961fe35937a2f",
       "version_major": 2,
       "version_minor": 0
      },
      "text/plain": [
       "  0%|          | 0/5334 [00:00<?, ?it/s]"
      ]
     },
     "metadata": {},
     "output_type": "display_data"
    },
    {
     "data": {
      "application/vnd.jupyter.widget-view+json": {
       "model_id": "2c22750c24a942b6bc3ee8b9f5c107b1",
       "version_major": 2,
       "version_minor": 0
      },
      "text/plain": [
       "  0%|          | 0/6194 [00:00<?, ?it/s]"
      ]
     },
     "metadata": {},
     "output_type": "display_data"
    }
   ],
   "source": [
    "tp_truths = truths.copy()\n",
    "tp_truths['label'] = tp_truths.layer.apply(lambda row: 1 if row=='uprightwood' else 2)\n",
    "truth_sindex = tp_truths.sindex\n",
    "fp_preds = preds.copy()\n",
    "pred_sindex = fp_preds.sindex\n",
    "tp_truths[tp_cols] = tp_truths.progress_apply(lambda row: is_true_positive(row, fp_preds, pred_sindex), \n",
    "                                              axis=1, result_type='expand')\n",
    "fp_preds[fp_cols] = fp_preds.progress_apply(lambda row: is_false_positive(row, tp_truths, truth_sindex,\n",
    "                                                                            fp_preds, pred_sindex),\n",
    "                                            axis=1, result_type='expand')"
   ]
  },
  {
   "cell_type": "code",
   "execution_count": 89,
   "id": "c9be510b",
   "metadata": {
    "ExecuteTime": {
     "end_time": "2022-04-28T06:57:00.617243Z",
     "start_time": "2022-04-28T06:57:00.595767Z"
    }
   },
   "outputs": [
    {
     "data": {
      "text/html": [
       "<div>\n",
       "<style scoped>\n",
       "    .dataframe tbody tr th:only-of-type {\n",
       "        vertical-align: middle;\n",
       "    }\n",
       "\n",
       "    .dataframe tbody tr th {\n",
       "        vertical-align: top;\n",
       "    }\n",
       "\n",
       "    .dataframe thead th {\n",
       "        text-align: right;\n",
       "    }\n",
       "</style>\n",
       "<table border=\"1\" class=\"dataframe\">\n",
       "  <thead>\n",
       "    <tr style=\"text-align: right;\">\n",
       "      <th>FP_0.5</th>\n",
       "      <th>FP</th>\n",
       "      <th>TP</th>\n",
       "      <th>All</th>\n",
       "    </tr>\n",
       "    <tr>\n",
       "      <th>layer</th>\n",
       "      <th></th>\n",
       "      <th></th>\n",
       "      <th></th>\n",
       "    </tr>\n",
       "  </thead>\n",
       "  <tbody>\n",
       "    <tr>\n",
       "      <th>groundwood</th>\n",
       "      <td>2818</td>\n",
       "      <td>2090</td>\n",
       "      <td>4908</td>\n",
       "    </tr>\n",
       "    <tr>\n",
       "      <th>uprightwood</th>\n",
       "      <td>396</td>\n",
       "      <td>890</td>\n",
       "      <td>1286</td>\n",
       "    </tr>\n",
       "    <tr>\n",
       "      <th>All</th>\n",
       "      <td>3214</td>\n",
       "      <td>2980</td>\n",
       "      <td>6194</td>\n",
       "    </tr>\n",
       "  </tbody>\n",
       "</table>\n",
       "</div>"
      ],
      "text/plain": [
       "FP_0.5         FP    TP   All\n",
       "layer                        \n",
       "groundwood   2818  2090  4908\n",
       "uprightwood   396   890  1286\n",
       "All          3214  2980  6194"
      ]
     },
     "execution_count": 89,
     "metadata": {},
     "output_type": "execute_result"
    }
   ],
   "source": [
    "pd.crosstab(fp_preds.layer, fp_preds['FP_0.5'], margins=True)"
   ]
  },
  {
   "cell_type": "code",
   "execution_count": 90,
   "id": "b696a6a1",
   "metadata": {
    "ExecuteTime": {
     "end_time": "2022-04-28T06:57:00.684395Z",
     "start_time": "2022-04-28T06:57:00.618154Z"
    }
   },
   "outputs": [
    {
     "data": {
      "text/html": [
       "<div>\n",
       "<style scoped>\n",
       "    .dataframe tbody tr th:only-of-type {\n",
       "        vertical-align: middle;\n",
       "    }\n",
       "\n",
       "    .dataframe tbody tr th {\n",
       "        vertical-align: top;\n",
       "    }\n",
       "\n",
       "    .dataframe thead th {\n",
       "        text-align: right;\n",
       "    }\n",
       "</style>\n",
       "<table border=\"1\" class=\"dataframe\">\n",
       "  <thead>\n",
       "    <tr style=\"text-align: right;\">\n",
       "      <th>TP_0.5</th>\n",
       "      <th>FN</th>\n",
       "      <th>TP</th>\n",
       "      <th>All</th>\n",
       "    </tr>\n",
       "    <tr>\n",
       "      <th>layer</th>\n",
       "      <th></th>\n",
       "      <th></th>\n",
       "      <th></th>\n",
       "    </tr>\n",
       "  </thead>\n",
       "  <tbody>\n",
       "    <tr>\n",
       "      <th>groundwood</th>\n",
       "      <td>1824</td>\n",
       "      <td>2091</td>\n",
       "      <td>3915</td>\n",
       "    </tr>\n",
       "    <tr>\n",
       "      <th>uprightwood</th>\n",
       "      <td>529</td>\n",
       "      <td>890</td>\n",
       "      <td>1419</td>\n",
       "    </tr>\n",
       "    <tr>\n",
       "      <th>All</th>\n",
       "      <td>2353</td>\n",
       "      <td>2981</td>\n",
       "      <td>5334</td>\n",
       "    </tr>\n",
       "  </tbody>\n",
       "</table>\n",
       "</div>"
      ],
      "text/plain": [
       "TP_0.5         FN    TP   All\n",
       "layer                        \n",
       "groundwood   1824  2091  3915\n",
       "uprightwood   529   890  1419\n",
       "All          2353  2981  5334"
      ]
     },
     "execution_count": 90,
     "metadata": {},
     "output_type": "execute_result"
    }
   ],
   "source": [
    "pd.crosstab(tp_truths.layer, tp_truths['TP_0.5'], margins=True)"
   ]
  },
  {
   "cell_type": "markdown",
   "id": "37430157",
   "metadata": {},
   "source": [
    "$Precision = \\frac{tp}{tp+fp}, Recall = \\frac{tp}{tp+fn}$"
   ]
  },
  {
   "cell_type": "code",
   "execution_count": 91,
   "id": "2cac7543",
   "metadata": {
    "ExecuteTime": {
     "end_time": "2022-04-28T06:58:44.287698Z",
     "start_time": "2022-04-28T06:58:44.285427Z"
    }
   },
   "outputs": [
    {
     "name": "stdout",
     "output_type": "stream",
     "text": [
      "Precision for fallen deadwood with IoU threshold of 0.5 is 0.51\n",
      "Recall for fallen deadwood with IoU threshold of 0.5 is 0.53\n"
     ]
    }
   ],
   "source": [
    "print(f'Precision for fallen deadwood with IoU threshold of 0.5 is {(2090/4098):.2f}')\n",
    "print(f'Recall for fallen deadwood with IoU threshold of 0.5 is {(2091/3915):.2f}')"
   ]
  },
  {
   "cell_type": "code",
   "execution_count": 92,
   "id": "0f6ca3c8",
   "metadata": {
    "ExecuteTime": {
     "end_time": "2022-04-28T06:58:58.532028Z",
     "start_time": "2022-04-28T06:58:58.529805Z"
    }
   },
   "outputs": [
    {
     "name": "stdout",
     "output_type": "stream",
     "text": [
      "Precision for standing deadwood with IoU threshold of 0.5 is 0.69\n",
      "Recall for standing deadwood with IoU threshold of 0.5 is 0.63\n"
     ]
    }
   ],
   "source": [
    "print(f'Precision for standing deadwood with IoU threshold of 0.5 is {(890/1286):.2f}')\n",
    "print(f'Recall for standing deadwood with IoU threshold of 0.5 is {(890/1419):.2f}')"
   ]
  },
  {
   "cell_type": "code",
   "execution_count": 93,
   "id": "1376d903",
   "metadata": {
    "ExecuteTime": {
     "end_time": "2022-04-28T07:01:56.835435Z",
     "start_time": "2022-04-28T07:01:56.833214Z"
    }
   },
   "outputs": [
    {
     "name": "stdout",
     "output_type": "stream",
     "text": [
      "Overall precision with IoU threshold of 0.5 is 0.48\n",
      "Overall recall with IoU threshold of 0.5 is 0.56\n"
     ]
    }
   ],
   "source": [
    "print(f'Overall precision with IoU threshold of 0.5 is {(2980/6194):.2f}')\n",
    "print(f'Overall recall with IoU threshold of 0.5 is {(2981/5334):.2f}')"
   ]
  },
  {
   "cell_type": "markdown",
   "id": "5caf42ce",
   "metadata": {},
   "source": [
    "## Overlap, edge filtering and mask merging"
   ]
  },
  {
   "cell_type": "code",
   "execution_count": 94,
   "id": "e4f0a736",
   "metadata": {
    "ExecuteTime": {
     "end_time": "2022-04-28T07:01:59.229575Z",
     "start_time": "2022-04-28T07:01:59.227424Z"
    }
   },
   "outputs": [],
   "source": [
    "merge_outpath = Path('../results/spk_merge/')\n",
    "if not os.path.exists(merge_outpath):\n",
    "    shutil.copytree('../results/spk_template/', merge_outpath, symlinks=True)"
   ]
  },
  {
   "cell_type": "markdown",
   "id": "610e3c03",
   "metadata": {},
   "source": [
    "Two iterations of merging is usually enough."
   ]
  },
  {
   "cell_type": "code",
   "execution_count": null,
   "id": "19a8e245",
   "metadata": {
    "ExecuteTime": {
     "end_time": "2022-04-28T07:02:41.944648Z",
     "start_time": "2022-04-28T07:02:00.086556Z"
    }
   },
   "outputs": [],
   "source": [
    "for r in pred_shps:\n",
    "    gdf_temp = gpd.read_file(r)\n",
    "    standing = gdf_temp[gdf_temp.label==1].copy()\n",
    "    fallen = gdf_temp[gdf_temp.label==2].copy()\n",
    "    if len(standing) > 0:\n",
    "        standing = merge_polys(standing, 0.2)\n",
    "        standing = merge_polys(standing, 0.2)\n",
    "    if len(fallen) > 0:\n",
    "        fallen = merge_polys(fallen, 0.2)\n",
    "        fallen = merge_polys(fallen, 0.2)\n",
    "    gdf_merged = pd.concat((standing, fallen))\n",
    "    gdf_merged.to_file(merge_outpath/'predicted_vectors'/r.name, driver='GeoJSON')\n",
    "    gdf_merged = None\n",
    "    gdf_temp = None"
   ]
  },
  {
   "cell_type": "code",
   "execution_count": 96,
   "id": "e1308ef3",
   "metadata": {
    "ExecuteTime": {
     "end_time": "2022-04-28T07:03:19.020371Z",
     "start_time": "2022-04-28T07:02:41.945895Z"
    }
   },
   "outputs": [
    {
     "data": {
      "application/vnd.jupyter.widget-view+json": {
       "model_id": "9030b776c4a848658fa028164836cedb",
       "version_major": 2,
       "version_minor": 0
      },
      "text/plain": [
       "0it [00:00, ?it/s]"
      ]
     },
     "metadata": {},
     "output_type": "display_data"
    },
    {
     "data": {
      "application/vnd.jupyter.widget-view+json": {
       "model_id": "394a34ba596b46a0828e2c72f1f1c3ff",
       "version_major": 2,
       "version_minor": 0
      },
      "text/plain": [
       "  0%|          | 0/71 [00:00<?, ?it/s]"
      ]
     },
     "metadata": {},
     "output_type": "display_data"
    },
    {
     "name": "stdout",
     "output_type": "stream",
     "text": [
      "loading annotations into memory...\n",
      "Done (t=0.19s)\n",
      "creating index...\n",
      "index created!\n",
      "Loading and preparing results...\n",
      "DONE (t=0.04s)\n",
      "creating index...\n",
      "index created!\n",
      "\n",
      "Evaluating for category uprightwood\n",
      "Running per image evaluation...\n",
      "Evaluate annotation type *segm*\n",
      "DONE (t=0.95s).\n",
      "Accumulating evaluation results...\n",
      "DONE (t=0.02s).\n",
      " Average Precision  (AP) @[ IoU=0.50:0.95 | area=   all | maxDets=1000 ] = 0.286\n",
      " Average Precision  (AP) @[ IoU=0.50      | area=   all | maxDets=1000 ] = 0.530\n",
      " Average Precision  (AP) @[ IoU=0.75      | area=   all | maxDets=1000 ] = 0.287\n",
      " Average Precision  (AP) @[ IoU=0.50:0.95 | area= small | maxDets=1000 ] = 0.123\n",
      " Average Precision  (AP) @[ IoU=0.50:0.95 | area=medium | maxDets=1000 ] = 0.384\n",
      " Average Precision  (AP) @[ IoU=0.50:0.95 | area= large | maxDets=1000 ] = 0.345\n",
      " Average Recall     (AR) @[ IoU=0.50:0.95 | area=   all | maxDets=100 ] = 0.357\n",
      " Average Recall     (AR) @[ IoU=0.50:0.95 | area= small | maxDets=100 ] = 0.209\n",
      " Average Recall     (AR) @[ IoU=0.50:0.95 | area=medium | maxDets=100 ] = 0.445\n",
      " Average Recall     (AR) @[ IoU=0.50:0.95 | area= large | maxDets=100 ] = 0.700\n",
      "\n",
      "Evaluating for category groundwood\n",
      "Running per image evaluation...\n",
      "Evaluate annotation type *segm*\n",
      "DONE (t=9.59s).\n",
      "Accumulating evaluation results...\n",
      "DONE (t=0.03s).\n",
      " Average Precision  (AP) @[ IoU=0.50:0.95 | area=   all | maxDets=1000 ] = 0.153\n",
      " Average Precision  (AP) @[ IoU=0.50      | area=   all | maxDets=1000 ] = 0.430\n",
      " Average Precision  (AP) @[ IoU=0.75      | area=   all | maxDets=1000 ] = 0.064\n",
      " Average Precision  (AP) @[ IoU=0.50:0.95 | area= small | maxDets=1000 ] = 0.149\n",
      " Average Precision  (AP) @[ IoU=0.50:0.95 | area=medium | maxDets=1000 ] = 0.246\n",
      " Average Precision  (AP) @[ IoU=0.50:0.95 | area= large | maxDets=1000 ] = -1.000\n",
      " Average Recall     (AR) @[ IoU=0.50:0.95 | area=   all | maxDets=100 ] = 0.198\n",
      " Average Recall     (AR) @[ IoU=0.50:0.95 | area= small | maxDets=100 ] = 0.195\n",
      " Average Recall     (AR) @[ IoU=0.50:0.95 | area=medium | maxDets=100 ] = 0.278\n",
      " Average Recall     (AR) @[ IoU=0.50:0.95 | area= large | maxDets=100 ] = -1.000\n",
      "\n",
      "Evaluating for full data...\n",
      "Running per image evaluation...\n",
      "Evaluate annotation type *segm*\n",
      "DONE (t=10.32s).\n",
      "Accumulating evaluation results...\n",
      "DONE (t=0.05s).\n",
      " Average Precision  (AP) @[ IoU=0.50:0.95 | area=   all | maxDets=1000 ] = 0.220\n",
      " Average Precision  (AP) @[ IoU=0.50      | area=   all | maxDets=1000 ] = 0.480\n",
      " Average Precision  (AP) @[ IoU=0.75      | area=   all | maxDets=1000 ] = 0.175\n",
      " Average Precision  (AP) @[ IoU=0.50:0.95 | area= small | maxDets=1000 ] = 0.136\n",
      " Average Precision  (AP) @[ IoU=0.50:0.95 | area=medium | maxDets=1000 ] = 0.315\n",
      " Average Precision  (AP) @[ IoU=0.50:0.95 | area= large | maxDets=1000 ] = 0.345\n",
      " Average Recall     (AR) @[ IoU=0.50:0.95 | area=   all | maxDets=100 ] = 0.278\n",
      " Average Recall     (AR) @[ IoU=0.50:0.95 | area= small | maxDets=100 ] = 0.202\n",
      " Average Recall     (AR) @[ IoU=0.50:0.95 | area=medium | maxDets=100 ] = 0.361\n",
      " Average Recall     (AR) @[ IoU=0.50:0.95 | area= large | maxDets=100 ] = 0.700\n"
     ]
    }
   ],
   "source": [
    "merged_coco_eval = GisCOCOeval(merge_outpath, merge_outpath, None, None, deadwood_categories)\n",
    "merged_coco_eval.prepare_data(gt_label_col='label')\n",
    "merged_coco_eval.prepare_eval()\n",
    "merged_coco_eval.evaluate()"
   ]
  },
  {
   "cell_type": "code",
   "execution_count": 97,
   "id": "0b984e1a",
   "metadata": {
    "ExecuteTime": {
     "end_time": "2022-04-28T07:05:07.899790Z",
     "start_time": "2022-04-28T07:03:19.021749Z"
    }
   },
   "outputs": [
    {
     "name": "stderr",
     "output_type": "stream",
     "text": [
      "1286it [00:05, 217.24it/s]\n",
      "4908it [00:57, 85.47it/s]\n",
      "1176it [00:04, 241.19it/s]\n",
      "4020it [00:37, 108.54it/s]\n"
     ]
    }
   ],
   "source": [
    "preds.reset_index(drop=True, inplace=True)\n",
    "standing = merge_polys(preds[preds.label == 1].copy(), 0.2)\n",
    "fallen = merge_polys(preds[preds.label == 2].copy(), 0.2)\n",
    "standing = merge_polys(standing, 0.2)\n",
    "fallen = merge_polys(fallen, 0.2)\n",
    "preds_merged = pd.concat((standing, fallen))"
   ]
  },
  {
   "cell_type": "code",
   "execution_count": 98,
   "id": "78a0023f",
   "metadata": {
    "ExecuteTime": {
     "end_time": "2022-04-28T07:05:07.944466Z",
     "start_time": "2022-04-28T07:05:07.901052Z"
    }
   },
   "outputs": [
    {
     "data": {
      "text/plain": [
       "groundwood     3923\n",
       "uprightwood    1159\n",
       "Name: layer, dtype: int64"
      ]
     },
     "execution_count": 98,
     "metadata": {},
     "output_type": "execute_result"
    }
   ],
   "source": [
    "preds_merged['layer'] = preds_merged.apply(lambda row: 'groundwood' if row.label == 2 else 'uprightwood', axis=1)\n",
    "preds_merged.layer.value_counts()"
   ]
  },
  {
   "cell_type": "code",
   "execution_count": 99,
   "id": "10256c1b",
   "metadata": {
    "ExecuteTime": {
     "end_time": "2022-04-28T07:06:19.181717Z",
     "start_time": "2022-04-28T07:05:07.945406Z"
    }
   },
   "outputs": [
    {
     "data": {
      "application/vnd.jupyter.widget-view+json": {
       "model_id": "e8b12336a81f4d47abf490450968babb",
       "version_major": 2,
       "version_minor": 0
      },
      "text/plain": [
       "  0%|          | 0/5334 [00:00<?, ?it/s]"
      ]
     },
     "metadata": {},
     "output_type": "display_data"
    },
    {
     "data": {
      "application/vnd.jupyter.widget-view+json": {
       "model_id": "d106c8b46c97431ba0d4be30ffeb5bdd",
       "version_major": 2,
       "version_minor": 0
      },
      "text/plain": [
       "  0%|          | 0/5082 [00:00<?, ?it/s]"
      ]
     },
     "metadata": {},
     "output_type": "display_data"
    }
   ],
   "source": [
    "tp_truths = truths.copy()\n",
    "tp_truths['label'] = tp_truths.layer.apply(lambda row: 1 if row=='uprightwood' else 2)\n",
    "truth_sindex = tp_truths.sindex\n",
    "fp_preds_merged = preds_merged.copy()\n",
    "pred_sindex = fp_preds_merged.sindex\n",
    "tp_truths[tp_cols] = tp_truths.progress_apply(lambda row: is_true_positive(row, fp_preds_merged, pred_sindex), \n",
    "                                              axis=1, result_type='expand')\n",
    "fp_preds_merged[fp_cols] = fp_preds_merged.progress_apply(lambda row: is_false_positive(row, tp_truths, truth_sindex,\n",
    "                                                                            fp_preds_merged, pred_sindex),\n",
    "                                            axis=1, result_type='expand')"
   ]
  },
  {
   "cell_type": "code",
   "execution_count": 100,
   "id": "386ef78d",
   "metadata": {
    "ExecuteTime": {
     "end_time": "2022-04-28T07:06:19.204318Z",
     "start_time": "2022-04-28T07:06:19.182760Z"
    }
   },
   "outputs": [
    {
     "data": {
      "text/html": [
       "<div>\n",
       "<style scoped>\n",
       "    .dataframe tbody tr th:only-of-type {\n",
       "        vertical-align: middle;\n",
       "    }\n",
       "\n",
       "    .dataframe tbody tr th {\n",
       "        vertical-align: top;\n",
       "    }\n",
       "\n",
       "    .dataframe thead th {\n",
       "        text-align: right;\n",
       "    }\n",
       "</style>\n",
       "<table border=\"1\" class=\"dataframe\">\n",
       "  <thead>\n",
       "    <tr style=\"text-align: right;\">\n",
       "      <th>FP_0.5</th>\n",
       "      <th>FP</th>\n",
       "      <th>TP</th>\n",
       "      <th>All</th>\n",
       "    </tr>\n",
       "    <tr>\n",
       "      <th>layer</th>\n",
       "      <th></th>\n",
       "      <th></th>\n",
       "      <th></th>\n",
       "    </tr>\n",
       "  </thead>\n",
       "  <tbody>\n",
       "    <tr>\n",
       "      <th>groundwood</th>\n",
       "      <td>1900</td>\n",
       "      <td>2023</td>\n",
       "      <td>3923</td>\n",
       "    </tr>\n",
       "    <tr>\n",
       "      <th>uprightwood</th>\n",
       "      <td>321</td>\n",
       "      <td>838</td>\n",
       "      <td>1159</td>\n",
       "    </tr>\n",
       "    <tr>\n",
       "      <th>All</th>\n",
       "      <td>2221</td>\n",
       "      <td>2861</td>\n",
       "      <td>5082</td>\n",
       "    </tr>\n",
       "  </tbody>\n",
       "</table>\n",
       "</div>"
      ],
      "text/plain": [
       "FP_0.5         FP    TP   All\n",
       "layer                        \n",
       "groundwood   1900  2023  3923\n",
       "uprightwood   321   838  1159\n",
       "All          2221  2861  5082"
      ]
     },
     "execution_count": 100,
     "metadata": {},
     "output_type": "execute_result"
    }
   ],
   "source": [
    "pd.crosstab(fp_preds_merged.layer, fp_preds_merged['FP_0.5'], margins=True)"
   ]
  },
  {
   "cell_type": "code",
   "execution_count": 101,
   "id": "6bf26ea2",
   "metadata": {
    "ExecuteTime": {
     "end_time": "2022-04-28T07:06:19.263882Z",
     "start_time": "2022-04-28T07:06:19.205244Z"
    }
   },
   "outputs": [
    {
     "data": {
      "text/html": [
       "<div>\n",
       "<style scoped>\n",
       "    .dataframe tbody tr th:only-of-type {\n",
       "        vertical-align: middle;\n",
       "    }\n",
       "\n",
       "    .dataframe tbody tr th {\n",
       "        vertical-align: top;\n",
       "    }\n",
       "\n",
       "    .dataframe thead th {\n",
       "        text-align: right;\n",
       "    }\n",
       "</style>\n",
       "<table border=\"1\" class=\"dataframe\">\n",
       "  <thead>\n",
       "    <tr style=\"text-align: right;\">\n",
       "      <th>TP_0.5</th>\n",
       "      <th>FN</th>\n",
       "      <th>TP</th>\n",
       "      <th>All</th>\n",
       "    </tr>\n",
       "    <tr>\n",
       "      <th>layer</th>\n",
       "      <th></th>\n",
       "      <th></th>\n",
       "      <th></th>\n",
       "    </tr>\n",
       "  </thead>\n",
       "  <tbody>\n",
       "    <tr>\n",
       "      <th>groundwood</th>\n",
       "      <td>1891</td>\n",
       "      <td>2024</td>\n",
       "      <td>3915</td>\n",
       "    </tr>\n",
       "    <tr>\n",
       "      <th>uprightwood</th>\n",
       "      <td>581</td>\n",
       "      <td>838</td>\n",
       "      <td>1419</td>\n",
       "    </tr>\n",
       "    <tr>\n",
       "      <th>All</th>\n",
       "      <td>2472</td>\n",
       "      <td>2862</td>\n",
       "      <td>5334</td>\n",
       "    </tr>\n",
       "  </tbody>\n",
       "</table>\n",
       "</div>"
      ],
      "text/plain": [
       "TP_0.5         FN    TP   All\n",
       "layer                        \n",
       "groundwood   1891  2024  3915\n",
       "uprightwood   581   838  1419\n",
       "All          2472  2862  5334"
      ]
     },
     "execution_count": 101,
     "metadata": {},
     "output_type": "execute_result"
    }
   ],
   "source": [
    "pd.crosstab(tp_truths.layer, tp_truths['TP_0.5'], margins=True)"
   ]
  },
  {
   "cell_type": "markdown",
   "id": "001f74a5",
   "metadata": {},
   "source": [
    "$Precision = \\frac{tp}{tp+fp}, Recall = \\frac{tp}{tp+fn}$"
   ]
  },
  {
   "cell_type": "code",
   "execution_count": 102,
   "id": "ab96de72",
   "metadata": {
    "ExecuteTime": {
     "end_time": "2022-04-28T07:06:19.279924Z",
     "start_time": "2022-04-28T07:06:19.265203Z"
    }
   },
   "outputs": [
    {
     "name": "stdout",
     "output_type": "stream",
     "text": [
      "Precision for fallen deadwood with IoU threshold of 0.5 is 0.52\n",
      "Recall for fallen deadwood with IoU threshold of 0.5 is 0.52\n"
     ]
    }
   ],
   "source": [
    "print(f'Precision for fallen deadwood with IoU threshold of 0.5 is {(2023/3923):.2f}')\n",
    "print(f'Recall for fallen deadwood with IoU threshold of 0.5 is {(2024/3915):.2f}')"
   ]
  },
  {
   "cell_type": "code",
   "execution_count": 103,
   "id": "b1848df3",
   "metadata": {
    "ExecuteTime": {
     "end_time": "2022-04-28T07:06:19.296809Z",
     "start_time": "2022-04-28T07:06:19.281077Z"
    }
   },
   "outputs": [
    {
     "name": "stdout",
     "output_type": "stream",
     "text": [
      "Precision for standing deadwood with IoU threshold of 0.5 is 0.72\n",
      "Recall for standing deadwood with IoU threshold of 0.5 is 0.59\n"
     ]
    }
   ],
   "source": [
    "print(f'Precision for standing deadwood with IoU threshold of 0.5 is {(838/1159):.2f}')\n",
    "print(f'Recall for standing deadwood with IoU threshold of 0.5 is {(838/1419):.2f}')"
   ]
  },
  {
   "cell_type": "code",
   "execution_count": 104,
   "id": "ac60b313",
   "metadata": {
    "ExecuteTime": {
     "end_time": "2022-04-28T07:06:19.324482Z",
     "start_time": "2022-04-28T07:06:19.297868Z"
    }
   },
   "outputs": [
    {
     "name": "stdout",
     "output_type": "stream",
     "text": [
      "Overall precision with IoU threshold of 0.5 is 0.56\n",
      "Overall recall with IoU threshold of 0.5 is 0.54\n"
     ]
    }
   ],
   "source": [
    "print(f'Overall precision with IoU threshold of 0.5 is {(2861/5082):.2f}')\n",
    "print(f'Overall recall with IoU threshold of 0.5 is {(2862/5334):.2f}')"
   ]
  },
  {
   "cell_type": "code",
   "execution_count": 105,
   "id": "4f7a8642",
   "metadata": {
    "ExecuteTime": {
     "end_time": "2022-04-28T07:06:37.840642Z",
     "start_time": "2022-04-28T07:06:31.874041Z"
    }
   },
   "outputs": [],
   "source": [
    "#| echo: false\n",
    "preds_merged.to_file('../results/sudenpesankangas/spk_merged_new.geojson')"
   ]
  }
 ],
 "metadata": {
  "kernelspec": {
   "display_name": "Python 3 (ipykernel)",
   "language": "python",
   "name": "python3"
  },
  "language_info": {
   "codemirror_mode": {
    "name": "ipython",
    "version": 3
   },
   "file_extension": ".py",
   "mimetype": "text/x-python",
   "name": "python",
   "nbconvert_exporter": "python",
   "pygments_lexer": "ipython3",
   "version": "3.9.9"
  },
  "latex_envs": {
   "LaTeX_envs_menu_present": true,
   "autoclose": false,
   "autocomplete": true,
   "bibliofile": "biblio.bib",
   "cite_by": "apalike",
   "current_citInitial": 1,
   "eqLabelWithNumbers": true,
   "eqNumInitial": 1,
   "hotkeys": {
    "equation": "Ctrl-E",
    "itemize": "Ctrl-I"
   },
   "labels_anchors": false,
   "latex_user_defs": false,
   "report_style_numbering": false,
   "user_envs_cfg": false
  },
  "toc": {
   "base_numbering": 1,
   "nav_menu": {},
   "number_sections": true,
   "sideBar": true,
   "skip_h1_title": false,
   "title_cell": "Table of Contents",
   "title_sidebar": "Contents",
   "toc_cell": false,
   "toc_position": {
    "height": "calc(100% - 180px)",
    "left": "10px",
    "top": "150px",
    "width": "384px"
   },
   "toc_section_display": true,
   "toc_window_display": true
  }
 },
 "nbformat": 4,
 "nbformat_minor": 5
}
