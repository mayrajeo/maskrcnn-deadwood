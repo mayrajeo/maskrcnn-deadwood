{
 "cells": [
  {
   "cell_type": "raw",
   "id": "be4114bf-7c1f-40f6-94e4-a288c8e7d79c",
   "metadata": {},
   "source": [
    "---\n",
    "title: Deadwood detection from RGB UAV imagery using Mask R-CNN\n",
    "author: Janne Mäyrä\n",
    "date: last-modified\n",
    "format:\n",
    "  html:\n",
    "    code-fold: true\n",
    "    toc: true\n",
    "    toc-depth: 3\n",
    "    number-sections: false\n",
    "    smooth-scroll: true\n",
    "---"
   ]
  },
  {
   "cell_type": "markdown",
   "id": "aac57793-b20f-47e6-aa27-9cbcdfcb9d77",
   "metadata": {},
   "source": [
    "<img src='https://github.com/jaeeolma/maskrcnn-deadwood/blob/main/repo_images/graph_abstract.png?raw=true' width=700>"
   ]
  },
  {
   "cell_type": "markdown",
   "id": "46d1224d-5f32-4c20-9904-15cc49060113",
   "metadata": {},
   "source": [
    "# Abstract\n",
    "\n",
    "Deadwood and decaying wood are the most important components for the biodiversity of boreal forests, and it has been estimated that around a quarter of all flora and fauna in Finnish forests depend on that. However, there is a severe lack of stand-level deadwood data in Finland, as the operational inventories either focus on the large-scale estimates or omit deadwood altogether. Unmanned Aerial Vehicles (UAVs) are the only method for remotely mapping small objects, such as fallen deadwood, as even the most spatially accurate commercial satellites provide 30cm ground sampling distance, compared to less than 5 cm that is easily achievable with UAVs.\n",
    "\n",
    "In this work, we utilized Mask R-CNN to detect individual standing and fallen deadwood instances from RGB UAV imagery. We manually annotated over 14 000 deadwood instances from two separate study sites to use as the training and validation data, and also compared these data to field-measured deadwood data. Our models achieved test set Average Precision (AP) of 0.284 for the same geographical area the models were trained on, and AP of 0.220 for geographically distinct area used only for testing. \n",
    "\n",
    "In addition to instance-level deadwood maps, we also estimated stand-level characteristics for the numbers of deadwood. In addition, we estimated the approximate total volume of fallen deadwood based on the annotated polygons. These stand-level features clearly show the borders of the conserved forest, and the volume estimations are able to distinguish between naturally formed deadwood hotspot and areas with logging remnants. The proposed method enables deadwood mapping for larger areas, complementing the traditional field work. "
   ]
  },
  {
   "cell_type": "markdown",
   "id": "a5c9255f-b7f2-435a-98b3-8009f5d27234",
   "metadata": {},
   "source": [
    "# Getting started\n",
    "\n",
    "Much of the work relies heavily on [https://github.com/jaeeolma/drone_detector](https://github.com/jaeeolma/drone_detector), and instructions for its installation work here also."
   ]
  },
  {
   "cell_type": "markdown",
   "id": "c44f3f75-c042-4374-9bd1-4419d2520fb9",
   "metadata": {},
   "source": [
    "# Data used\n",
    "\n",
    "Examples are using UAV RGB Orthomosaics from either Hiidenportti, Kuhmo, Eastern-Finland or Sudenpesänkangas, Evo, Southern-Finland. Hiidenportti dataset has a spatial resolution of around 4cm, and Sudenpesänkangas dataset has a spatial resolution of 4.85cm. Hiidenportti data contains 9 different UAV mosaics, and Sudenpesänkangas data is one single orthomosaic. From these data, we created virtual plots to use as a training and validation data for the models. From Hiidenportti, we constructed 33 virtual plots of varying sizes in such way that all 9m circular field plots present in the area were covered, and each field plot center had at least 45 meter distance to the edge of the virtual plot. For Sudenpesänkangas, due to the area and orthomosaic being larger, we extracted 100x100m plots in such way that each virtual plot contains only one circular field plot. In total, Hiidenportti data contained 33 virtual plots that cover 71 field plots, and Sudenpesänkangas data contaied 71 virtual plots. \n",
    "\n",
    "Deadwood data that was used for training the models was manually annotated using QGIS software. We annotated all visible fallen deadwood trunks and standing deadwood canopies present in the virtual plots, and saved the results as `geojson` files. These data were then tiled and converted to COCO-format using functions from `drone_detector`. Sudenpesäkangas dataset consists of 5334 annotated deadwood instances, and Hiidenportti contains 8479 annotations. "
   ]
  },
  {
   "cell_type": "markdown",
   "id": "77beb054-ae49-4918-82f9-715ce2e7c88a",
   "metadata": {},
   "source": [
    "# Authors\n",
    "\n",
    "* [Janne Mäyrä](github.com/jaeeolma), Finnish Environment Intitute SYKE\n",
    "* Topi Tanhuanpää, University of Eastern Finland\n",
    "* Sonja Kivinen, University of Eastern Finland\n",
    "* Anton Kuzmin, University of Eastern Finland\n",
    "* Timo Kumpula, University of Eastern Finland\n",
    "* Petteri Vihervaara, University of Eastern Finland"
   ]
  }
 ],
 "metadata": {
  "kernelspec": {
   "display_name": "Python 3 (ipykernel)",
   "language": "python",
   "name": "python3"
  },
  "language_info": {
   "codemirror_mode": {
    "name": "ipython",
    "version": 3
   },
   "file_extension": ".py",
   "mimetype": "text/x-python",
   "name": "python",
   "nbconvert_exporter": "python",
   "pygments_lexer": "ipython3",
   "version": "3.9.9"
  }
 },
 "nbformat": 4,
 "nbformat_minor": 5
}
