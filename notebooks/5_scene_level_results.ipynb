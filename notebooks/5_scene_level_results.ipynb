{
 "cells": [
  {
   "cell_type": "raw",
   "id": "ee80acb2-d1f1-4668-9156-706b7daf1d1c",
   "metadata": {},
   "source": [
    "---\n",
    "title: Scene level results\n",
    "author: Janne Mäyrä\n",
    "date: last-modified\n",
    "format:\n",
    "  html:\n",
    "    code-fold: true\n",
    "    toc: true\n",
    "    toc-depth: 3\n",
    "    number-sections: true\n",
    "    smooth-scroll: true\n",
    "---"
   ]
  },
  {
   "cell_type": "code",
   "execution_count": null,
   "id": "01cee4ec",
   "metadata": {},
   "outputs": [],
   "source": [
    "from drone_detector.utils import *\n",
    "from drone_detector.imports import *\n",
    "import os\n",
    "from drone_detector.metrics import *\n",
    "import warnings\n",
    "warnings.filterwarnings(\"ignore\")\n",
    "sys.path.append('..')\n",
    "from src.postproc_functions import *\n",
    "from tqdm.auto import tqdm\n",
    "tqdm.pandas()"
   ]
  },
  {
   "cell_type": "markdown",
   "id": "6b23928f-744e-40fe-81f4-15a99ac0d67f",
   "metadata": {},
   "source": [
    "As patch-level data and results are not really useful for our purposes, here we run the predictions for larger scenes. Each plot is tiled to 512x512px patches, possibly with 256px overlap and afterwards the predictions are collated and optionally cleaned so that the amount of overlapping predictions is lower."
   ]
  },
  {
   "cell_type": "markdown",
   "id": "3610fd9c",
   "metadata": {},
   "source": [
    "# Hiidenportti test set"
   ]
  },
  {
   "cell_type": "markdown",
   "id": "c7183fa2",
   "metadata": {},
   "source": [
    "As Hiidenportti test set is so small, we can run predictions here if needed."
   ]
  },
  {
   "cell_type": "markdown",
   "id": "860a8c75",
   "metadata": {},
   "source": [
    "## No overlap, no post-processing"
   ]
  },
  {
   "cell_type": "code",
   "execution_count": null,
   "id": "aa605f8f",
   "metadata": {},
   "outputs": [],
   "source": [
    "from drone_detector.engines.detectron2.predict import predict_instance_masks\n",
    "raw_path = Path('../../data/raw/hiidenportti/virtual_plots/buffered_test/images')\n",
    "test_rasters = [raw_path/f for f in os.listdir(raw_path) if f.endswith('tif')]"
   ]
  },
  {
   "cell_type": "markdown",
   "id": "a8a0ffa1",
   "metadata": {},
   "source": [
    "Template folder has the following structure:\n",
    "\n",
    "```\n",
    "template_folder\n",
    "|-predicted_vectors\n",
    "|-raster_tiles\n",
    "|-vector_tiles\n",
    "|-raw_preds\n",
    "```\n",
    "\n",
    "Where `raster_tiles` and `vector_tiles` are symbolic links pointing to corresponding data directories, and `predicted_vectors` and `raw_preds` are empty folders for predictions."
   ]
  },
  {
   "cell_type": "code",
   "execution_count": null,
   "id": "3125c860",
   "metadata": {},
   "outputs": [],
   "source": [
    "pred_outpath = Path('../results/hp_unprocessed_new/')\n",
    "if not os.path.exists(pred_outpath):\n",
    "    shutil.copytree('../results/template_folder/', pred_outpath, symlinks=True)"
   ]
  },
  {
   "cell_type": "code",
   "execution_count": null,
   "id": "fd2885f5",
   "metadata": {},
   "outputs": [
    {
     "name": "stdout",
     "output_type": "stream",
     "text": [
      "Reading and tiling ../../data/raw/hiidenportti/virtual_plots/buffered_test/images/104_49_Hiidenportti_Chunk5_orto.tif to 512x512 tiles with overlap of 0px\n"
     ]
    },
    {
     "data": {
      "application/json": {
       "ascii": false,
       "bar_format": null,
       "colour": null,
       "elapsed": 0.0209963321685791,
       "initial": 0,
       "n": 0,
       "ncols": null,
       "nrows": 62,
       "postfix": null,
       "prefix": "",
       "rate": null,
       "total": null,
       "unit": "it",
       "unit_divisor": 1000,
       "unit_scale": false
      },
      "application/vnd.jupyter.widget-view+json": {
       "model_id": "11a860b96f1849b3a7f7fd9416bab185",
       "version_major": 2,
       "version_minor": 0
      },
      "text/plain": [
       "0it [00:00, ?it/s]"
      ]
     },
     "metadata": {},
     "output_type": "display_data"
    },
    {
     "name": "stdout",
     "output_type": "stream",
     "text": [
      "Loading model\n",
      "Starting predictions\n"
     ]
    },
    {
     "data": {
      "application/json": {
       "ascii": false,
       "bar_format": null,
       "colour": null,
       "elapsed": 0.01392984390258789,
       "initial": 0,
       "n": 0,
       "ncols": null,
       "nrows": 62,
       "postfix": null,
       "prefix": "",
       "rate": null,
       "total": 72,
       "unit": "it",
       "unit_divisor": 1000,
       "unit_scale": false
      },
      "application/vnd.jupyter.widget-view+json": {
       "model_id": "03528862cf784730a90f5fcbdf2a17ae",
       "version_major": 2,
       "version_minor": 0
      },
      "text/plain": [
       "  0%|          | 0/72 [00:00<?, ?it/s]"
      ]
     },
     "metadata": {},
     "output_type": "display_data"
    },
    {
     "data": {
      "application/json": {
       "ascii": false,
       "bar_format": null,
       "colour": null,
       "elapsed": 0.014478683471679688,
       "initial": 0,
       "n": 0,
       "ncols": null,
       "nrows": 62,
       "postfix": null,
       "prefix": "",
       "rate": null,
       "total": 72,
       "unit": "it",
       "unit_divisor": 1000,
       "unit_scale": false
      },
      "application/vnd.jupyter.widget-view+json": {
       "model_id": "dfb9394602bf4d139254b87750a55fd8",
       "version_major": 2,
       "version_minor": 0
      },
      "text/plain": [
       "  0%|          | 0/72 [00:00<?, ?it/s]"
      ]
     },
     "metadata": {},
     "output_type": "display_data"
    },
    {
     "data": {
      "application/json": {
       "ascii": false,
       "bar_format": null,
       "colour": null,
       "elapsed": 0.015327930450439453,
       "initial": 0,
       "n": 0,
       "ncols": null,
       "nrows": 62,
       "postfix": null,
       "prefix": "",
       "rate": null,
       "total": 72,
       "unit": "it",
       "unit_divisor": 1000,
       "unit_scale": false
      },
      "application/vnd.jupyter.widget-view+json": {
       "model_id": "47fdc45df32544fbae969ad95af3ec1e",
       "version_major": 2,
       "version_minor": 0
      },
      "text/plain": [
       "  0%|          | 0/72 [00:00<?, ?it/s]"
      ]
     },
     "metadata": {},
     "output_type": "display_data"
    },
    {
     "data": {
      "application/json": {
       "ascii": false,
       "bar_format": null,
       "colour": null,
       "elapsed": 0.015502452850341797,
       "initial": 0,
       "n": 0,
       "ncols": null,
       "nrows": 62,
       "postfix": null,
       "prefix": "",
       "rate": null,
       "total": 72,
       "unit": "it",
       "unit_divisor": 1000,
       "unit_scale": false
      },
      "application/vnd.jupyter.widget-view+json": {
       "model_id": "92d6da533d194bebbcfe69107b905eb7",
       "version_major": 2,
       "version_minor": 0
      },
      "text/plain": [
       "  0%|          | 0/72 [00:00<?, ?it/s]"
      ]
     },
     "metadata": {},
     "output_type": "display_data"
    },
    {
     "name": "stdout",
     "output_type": "stream",
     "text": [
      "1467 polygons before non-max suppression\n",
      "1467 polygons after non-max suppression\n",
      "Removing intermediate files\n",
      "Reading and tiling ../../data/raw/hiidenportti/virtual_plots/buffered_test/images/104_73_Hiidenportti_Chunk9_orto.tif to 512x512 tiles with overlap of 0px\n"
     ]
    },
    {
     "data": {
      "application/json": {
       "ascii": false,
       "bar_format": null,
       "colour": null,
       "elapsed": 0.015978336334228516,
       "initial": 0,
       "n": 0,
       "ncols": null,
       "nrows": 62,
       "postfix": null,
       "prefix": "",
       "rate": null,
       "total": null,
       "unit": "it",
       "unit_divisor": 1000,
       "unit_scale": false
      },
      "application/vnd.jupyter.widget-view+json": {
       "model_id": "5e7df95bc05c46038e88d3c3ec8faae4",
       "version_major": 2,
       "version_minor": 0
      },
      "text/plain": [
       "0it [00:00, ?it/s]"
      ]
     },
     "metadata": {},
     "output_type": "display_data"
    },
    {
     "name": "stdout",
     "output_type": "stream",
     "text": [
      "Loading model\n",
      "Starting predictions\n"
     ]
    },
    {
     "data": {
      "application/json": {
       "ascii": false,
       "bar_format": null,
       "colour": null,
       "elapsed": 0.01567840576171875,
       "initial": 0,
       "n": 0,
       "ncols": null,
       "nrows": 62,
       "postfix": null,
       "prefix": "",
       "rate": null,
       "total": 25,
       "unit": "it",
       "unit_divisor": 1000,
       "unit_scale": false
      },
      "application/vnd.jupyter.widget-view+json": {
       "model_id": "cb890ce4bd084cfa9a36143ecca7467e",
       "version_major": 2,
       "version_minor": 0
      },
      "text/plain": [
       "  0%|          | 0/25 [00:00<?, ?it/s]"
      ]
     },
     "metadata": {},
     "output_type": "display_data"
    },
    {
     "data": {
      "application/json": {
       "ascii": false,
       "bar_format": null,
       "colour": null,
       "elapsed": 0.012961626052856445,
       "initial": 0,
       "n": 0,
       "ncols": null,
       "nrows": 62,
       "postfix": null,
       "prefix": "",
       "rate": null,
       "total": 25,
       "unit": "it",
       "unit_divisor": 1000,
       "unit_scale": false
      },
      "application/vnd.jupyter.widget-view+json": {
       "model_id": "d00d8687de254009aaad327886aaccb6",
       "version_major": 2,
       "version_minor": 0
      },
      "text/plain": [
       "  0%|          | 0/25 [00:00<?, ?it/s]"
      ]
     },
     "metadata": {},
     "output_type": "display_data"
    },
    {
     "data": {
      "application/json": {
       "ascii": false,
       "bar_format": null,
       "colour": null,
       "elapsed": 0.01340937614440918,
       "initial": 0,
       "n": 0,
       "ncols": null,
       "nrows": 62,
       "postfix": null,
       "prefix": "",
       "rate": null,
       "total": 25,
       "unit": "it",
       "unit_divisor": 1000,
       "unit_scale": false
      },
      "application/vnd.jupyter.widget-view+json": {
       "model_id": "c8444d1b70a5435fa8d8fbf31e05ffa1",
       "version_major": 2,
       "version_minor": 0
      },
      "text/plain": [
       "  0%|          | 0/25 [00:00<?, ?it/s]"
      ]
     },
     "metadata": {},
     "output_type": "display_data"
    },
    {
     "data": {
      "application/json": {
       "ascii": false,
       "bar_format": null,
       "colour": null,
       "elapsed": 0.014464378356933594,
       "initial": 0,
       "n": 0,
       "ncols": null,
       "nrows": 62,
       "postfix": null,
       "prefix": "",
       "rate": null,
       "total": 22,
       "unit": "it",
       "unit_divisor": 1000,
       "unit_scale": false
      },
      "application/vnd.jupyter.widget-view+json": {
       "model_id": "09d6c7ab3ca04ae4870db4087ac847c0",
       "version_major": 2,
       "version_minor": 0
      },
      "text/plain": [
       "  0%|          | 0/22 [00:00<?, ?it/s]"
      ]
     },
     "metadata": {},
     "output_type": "display_data"
    },
    {
     "name": "stdout",
     "output_type": "stream",
     "text": [
      "291 polygons before non-max suppression\n",
      "291 polygons after non-max suppression\n",
      "Removing intermediate files\n",
      "Reading and tiling ../../data/raw/hiidenportti/virtual_plots/buffered_test/images/104_28_Hiidenportti_Chunk1_orto.tif to 512x512 tiles with overlap of 0px\n"
     ]
    },
    {
     "data": {
      "application/json": {
       "ascii": false,
       "bar_format": null,
       "colour": null,
       "elapsed": 0.013506174087524414,
       "initial": 0,
       "n": 0,
       "ncols": null,
       "nrows": 62,
       "postfix": null,
       "prefix": "",
       "rate": null,
       "total": null,
       "unit": "it",
       "unit_divisor": 1000,
       "unit_scale": false
      },
      "application/vnd.jupyter.widget-view+json": {
       "model_id": "56a4e8509d95474f98516bce48c73ec6",
       "version_major": 2,
       "version_minor": 0
      },
      "text/plain": [
       "0it [00:00, ?it/s]"
      ]
     },
     "metadata": {},
     "output_type": "display_data"
    },
    {
     "name": "stdout",
     "output_type": "stream",
     "text": [
      "Loading model\n",
      "Starting predictions\n"
     ]
    },
    {
     "data": {
      "application/json": {
       "ascii": false,
       "bar_format": null,
       "colour": null,
       "elapsed": 0.014122247695922852,
       "initial": 0,
       "n": 0,
       "ncols": null,
       "nrows": 62,
       "postfix": null,
       "prefix": "",
       "rate": null,
       "total": 144,
       "unit": "it",
       "unit_divisor": 1000,
       "unit_scale": false
      },
      "application/vnd.jupyter.widget-view+json": {
       "model_id": "1dc4fcd41f72448084dd838db47bf454",
       "version_major": 2,
       "version_minor": 0
      },
      "text/plain": [
       "  0%|          | 0/144 [00:00<?, ?it/s]"
      ]
     },
     "metadata": {},
     "output_type": "display_data"
    },
    {
     "data": {
      "application/json": {
       "ascii": false,
       "bar_format": null,
       "colour": null,
       "elapsed": 0.015319585800170898,
       "initial": 0,
       "n": 0,
       "ncols": null,
       "nrows": 62,
       "postfix": null,
       "prefix": "",
       "rate": null,
       "total": 144,
       "unit": "it",
       "unit_divisor": 1000,
       "unit_scale": false
      },
      "application/vnd.jupyter.widget-view+json": {
       "model_id": "dfb7f1819d2c49cfb6fdc2169103cad5",
       "version_major": 2,
       "version_minor": 0
      },
      "text/plain": [
       "  0%|          | 0/144 [00:00<?, ?it/s]"
      ]
     },
     "metadata": {},
     "output_type": "display_data"
    },
    {
     "data": {
      "application/json": {
       "ascii": false,
       "bar_format": null,
       "colour": null,
       "elapsed": 0.013882637023925781,
       "initial": 0,
       "n": 0,
       "ncols": null,
       "nrows": 62,
       "postfix": null,
       "prefix": "",
       "rate": null,
       "total": 144,
       "unit": "it",
       "unit_divisor": 1000,
       "unit_scale": false
      },
      "application/vnd.jupyter.widget-view+json": {
       "model_id": "6f5797ff626b4215a33c9767c96ac0bb",
       "version_major": 2,
       "version_minor": 0
      },
      "text/plain": [
       "  0%|          | 0/144 [00:00<?, ?it/s]"
      ]
     },
     "metadata": {},
     "output_type": "display_data"
    },
    {
     "data": {
      "application/json": {
       "ascii": false,
       "bar_format": null,
       "colour": null,
       "elapsed": 0.01519322395324707,
       "initial": 0,
       "n": 0,
       "ncols": null,
       "nrows": 62,
       "postfix": null,
       "prefix": "",
       "rate": null,
       "total": 143,
       "unit": "it",
       "unit_divisor": 1000,
       "unit_scale": false
      },
      "application/vnd.jupyter.widget-view+json": {
       "model_id": "2b011ab0ee234c99b6ba4759f918ba7b",
       "version_major": 2,
       "version_minor": 0
      },
      "text/plain": [
       "  0%|          | 0/143 [00:00<?, ?it/s]"
      ]
     },
     "metadata": {},
     "output_type": "display_data"
    },
    {
     "name": "stdout",
     "output_type": "stream",
     "text": [
      "1508 polygons before non-max suppression\n",
      "1508 polygons after non-max suppression\n",
      "Removing intermediate files\n",
      "Reading and tiling ../../data/raw/hiidenportti/virtual_plots/buffered_test/images/104_41_Hiidenportti_Chunk8_orto.tif to 512x512 tiles with overlap of 0px\n"
     ]
    },
    {
     "data": {
      "application/json": {
       "ascii": false,
       "bar_format": null,
       "colour": null,
       "elapsed": 0.011933088302612305,
       "initial": 0,
       "n": 0,
       "ncols": null,
       "nrows": 62,
       "postfix": null,
       "prefix": "",
       "rate": null,
       "total": null,
       "unit": "it",
       "unit_divisor": 1000,
       "unit_scale": false
      },
      "application/vnd.jupyter.widget-view+json": {
       "model_id": "043d44ac0c2b401f9dc60c40babbd235",
       "version_major": 2,
       "version_minor": 0
      },
      "text/plain": [
       "0it [00:00, ?it/s]"
      ]
     },
     "metadata": {},
     "output_type": "display_data"
    },
    {
     "name": "stdout",
     "output_type": "stream",
     "text": [
      "Loading model\n",
      "Starting predictions\n"
     ]
    },
    {
     "data": {
      "application/json": {
       "ascii": false,
       "bar_format": null,
       "colour": null,
       "elapsed": 0.014725208282470703,
       "initial": 0,
       "n": 0,
       "ncols": null,
       "nrows": 62,
       "postfix": null,
       "prefix": "",
       "rate": null,
       "total": 35,
       "unit": "it",
       "unit_divisor": 1000,
       "unit_scale": false
      },
      "application/vnd.jupyter.widget-view+json": {
       "model_id": "3e28bd717cb1410d89d7bc7a58073c87",
       "version_major": 2,
       "version_minor": 0
      },
      "text/plain": [
       "  0%|          | 0/35 [00:00<?, ?it/s]"
      ]
     },
     "metadata": {},
     "output_type": "display_data"
    },
    {
     "data": {
      "application/json": {
       "ascii": false,
       "bar_format": null,
       "colour": null,
       "elapsed": 0.015355348587036133,
       "initial": 0,
       "n": 0,
       "ncols": null,
       "nrows": 62,
       "postfix": null,
       "prefix": "",
       "rate": null,
       "total": 35,
       "unit": "it",
       "unit_divisor": 1000,
       "unit_scale": false
      },
      "application/vnd.jupyter.widget-view+json": {
       "model_id": "db05f8d2036f459db52ce0ff63b1125e",
       "version_major": 2,
       "version_minor": 0
      },
      "text/plain": [
       "  0%|          | 0/35 [00:00<?, ?it/s]"
      ]
     },
     "metadata": {},
     "output_type": "display_data"
    },
    {
     "data": {
      "application/json": {
       "ascii": false,
       "bar_format": null,
       "colour": null,
       "elapsed": 0.015317201614379883,
       "initial": 0,
       "n": 0,
       "ncols": null,
       "nrows": 62,
       "postfix": null,
       "prefix": "",
       "rate": null,
       "total": 35,
       "unit": "it",
       "unit_divisor": 1000,
       "unit_scale": false
      },
      "application/vnd.jupyter.widget-view+json": {
       "model_id": "e17eed52d3cb47ff83055bc760c4ada9",
       "version_major": 2,
       "version_minor": 0
      },
      "text/plain": [
       "  0%|          | 0/35 [00:00<?, ?it/s]"
      ]
     },
     "metadata": {},
     "output_type": "display_data"
    },
    {
     "data": {
      "application/json": {
       "ascii": false,
       "bar_format": null,
       "colour": null,
       "elapsed": 0.015107154846191406,
       "initial": 0,
       "n": 0,
       "ncols": null,
       "nrows": 62,
       "postfix": null,
       "prefix": "",
       "rate": null,
       "total": 35,
       "unit": "it",
       "unit_divisor": 1000,
       "unit_scale": false
      },
      "application/vnd.jupyter.widget-view+json": {
       "model_id": "395f0b321bf74d3fa54e9f89b0a2a39e",
       "version_major": 2,
       "version_minor": 0
      },
      "text/plain": [
       "  0%|          | 0/35 [00:00<?, ?it/s]"
      ]
     },
     "metadata": {},
     "output_type": "display_data"
    },
    {
     "name": "stdout",
     "output_type": "stream",
     "text": [
      "488 polygons before non-max suppression\n",
      "488 polygons after non-max suppression\n",
      "Removing intermediate files\n",
      "Reading and tiling ../../data/raw/hiidenportti/virtual_plots/buffered_test/images/104_32_Hiidenportti_Chunk5_orto.tif to 512x512 tiles with overlap of 0px\n"
     ]
    },
    {
     "data": {
      "application/json": {
       "ascii": false,
       "bar_format": null,
       "colour": null,
       "elapsed": 0.013161897659301758,
       "initial": 0,
       "n": 0,
       "ncols": null,
       "nrows": 62,
       "postfix": null,
       "prefix": "",
       "rate": null,
       "total": null,
       "unit": "it",
       "unit_divisor": 1000,
       "unit_scale": false
      },
      "application/vnd.jupyter.widget-view+json": {
       "model_id": "52679ae37f674b16812adbfecff438e7",
       "version_major": 2,
       "version_minor": 0
      },
      "text/plain": [
       "0it [00:00, ?it/s]"
      ]
     },
     "metadata": {},
     "output_type": "display_data"
    },
    {
     "name": "stdout",
     "output_type": "stream",
     "text": [
      "Loading model\n",
      "Starting predictions\n"
     ]
    },
    {
     "data": {
      "application/json": {
       "ascii": false,
       "bar_format": null,
       "colour": null,
       "elapsed": 0.013675928115844727,
       "initial": 0,
       "n": 0,
       "ncols": null,
       "nrows": 62,
       "postfix": null,
       "prefix": "",
       "rate": null,
       "total": 20,
       "unit": "it",
       "unit_divisor": 1000,
       "unit_scale": false
      },
      "application/vnd.jupyter.widget-view+json": {
       "model_id": "40f3d30c3d084104bd036305f6467a63",
       "version_major": 2,
       "version_minor": 0
      },
      "text/plain": [
       "  0%|          | 0/20 [00:00<?, ?it/s]"
      ]
     },
     "metadata": {},
     "output_type": "display_data"
    },
    {
     "data": {
      "application/json": {
       "ascii": false,
       "bar_format": null,
       "colour": null,
       "elapsed": 0.014287471771240234,
       "initial": 0,
       "n": 0,
       "ncols": null,
       "nrows": 62,
       "postfix": null,
       "prefix": "",
       "rate": null,
       "total": 20,
       "unit": "it",
       "unit_divisor": 1000,
       "unit_scale": false
      },
      "application/vnd.jupyter.widget-view+json": {
       "model_id": "01982d8890a9453ba53cca92e31f2b84",
       "version_major": 2,
       "version_minor": 0
      },
      "text/plain": [
       "  0%|          | 0/20 [00:00<?, ?it/s]"
      ]
     },
     "metadata": {},
     "output_type": "display_data"
    },
    {
     "data": {
      "application/json": {
       "ascii": false,
       "bar_format": null,
       "colour": null,
       "elapsed": 0.012884378433227539,
       "initial": 0,
       "n": 0,
       "ncols": null,
       "nrows": 62,
       "postfix": null,
       "prefix": "",
       "rate": null,
       "total": 20,
       "unit": "it",
       "unit_divisor": 1000,
       "unit_scale": false
      },
      "application/vnd.jupyter.widget-view+json": {
       "model_id": "0df06a9e41664b87a2e531be6e39183c",
       "version_major": 2,
       "version_minor": 0
      },
      "text/plain": [
       "  0%|          | 0/20 [00:00<?, ?it/s]"
      ]
     },
     "metadata": {},
     "output_type": "display_data"
    },
    {
     "data": {
      "application/json": {
       "ascii": false,
       "bar_format": null,
       "colour": null,
       "elapsed": 0.014978170394897461,
       "initial": 0,
       "n": 0,
       "ncols": null,
       "nrows": 62,
       "postfix": null,
       "prefix": "",
       "rate": null,
       "total": 20,
       "unit": "it",
       "unit_divisor": 1000,
       "unit_scale": false
      },
      "application/vnd.jupyter.widget-view+json": {
       "model_id": "e455a12c9c3e4c9fb176a444d558d8b2",
       "version_major": 2,
       "version_minor": 0
      },
      "text/plain": [
       "  0%|          | 0/20 [00:00<?, ?it/s]"
      ]
     },
     "metadata": {},
     "output_type": "display_data"
    },
    {
     "name": "stdout",
     "output_type": "stream",
     "text": [
      "185 polygons before non-max suppression\n",
      "185 polygons after non-max suppression\n",
      "Removing intermediate files\n"
     ]
    }
   ],
   "source": [
    "#| output: false\n",
    "\n",
    "for t in test_rasters:\n",
    "    outfile_name = pred_outpath/f'raw_preds/{str(t).split(\"/\")[-1][:-4]}.geojson'\n",
    "    predict_instance_masks(path_to_model_files='../models/hiidenportti/mask_rcnn_R_101_FPN_3x/', \n",
    "                           path_to_image=str(t),\n",
    "                           outfile=str(outfile_name),\n",
    "                           processing_dir='temp',\n",
    "                           tile_size=512,\n",
    "                           tile_overlap=0,\n",
    "                           smooth_preds=False,\n",
    "                           use_tta=True,\n",
    "                           coco_set='../../data/processed/hiidenportti/hiidenportti_valid.json',\n",
    "                           postproc_results=False)"
   ]
  },
  {
   "cell_type": "code",
   "execution_count": null,
   "id": "45bec7c9",
   "metadata": {},
   "outputs": [],
   "source": [
    "raw_res_path = pred_outpath\n",
    "truth_shps = sorted([raw_res_path/'vector_tiles'/f for f in os.listdir(raw_res_path/'vector_tiles')])\n",
    "raw_shps = sorted([raw_res_path/'raw_preds'/f for f in os.listdir(raw_res_path/'raw_preds')])\n",
    "rasters = sorted([raw_res_path/'raster_tiles'/f for f in os.listdir(raw_res_path/'raster_tiles')])"
   ]
  },
  {
   "cell_type": "markdown",
   "id": "785a056a",
   "metadata": {},
   "source": [
    "\"Raw\" predictions are modified as such:\n",
    "1. Invalid polygons are fixed to be valid polygons. MultiPolygon masks are replaced with the largest single polygon of the multipoly.\n",
    "2. Extent is clipped to be same as the corresponding ground truth data\n",
    "3. Label numbering is adjusted\n",
    "4. Polygons with area less than 16² pixels are discarded"
   ]
  },
  {
   "cell_type": "code",
   "execution_count": null,
   "id": "3e385b70",
   "metadata": {},
   "outputs": [],
   "source": [
    "for p, t in zip(raw_shps, truth_shps):\n",
    "    temp_pred = gpd.read_file(p)\n",
    "    temp_truth = gpd.read_file(t)\n",
    "    temp_pred = gpd.clip(temp_pred, box(*temp_truth.total_bounds))\n",
    "\n",
    "    temp_pred['geometry'] = temp_pred.apply(lambda row: fix_multipolys(row.geometry) \n",
    "                                            if row.geometry.type == 'MultiPolygon' \n",
    "                                            else shapely.geometry.Polygon(row.geometry.exterior), axis=1)\n",
    "    temp_pred['label'] += 1\n",
    "    temp_pred = temp_pred[temp_pred.geometry.area > 16*0.04**2]\n",
    "    temp_pred.to_file(raw_res_path/'predicted_vectors'/p.name)"
   ]
  },
  {
   "cell_type": "code",
   "execution_count": null,
   "id": "7152246b",
   "metadata": {},
   "outputs": [],
   "source": [
    "pred_shps = sorted([raw_res_path/'predicted_vectors'/f for f in os.listdir(raw_res_path/'predicted_vectors')])"
   ]
  },
  {
   "cell_type": "markdown",
   "id": "587337e1-52b9-463a-ae55-f1c0e1d208a7",
   "metadata": {},
   "source": [
    "Collate predictions and annotations so that IoU and such is easy to compute."
   ]
  },
  {
   "cell_type": "code",
   "execution_count": null,
   "id": "54e45c59",
   "metadata": {},
   "outputs": [],
   "source": [
    "truths = None\n",
    "preds = None\n",
    "\n",
    "for p, t in zip(pred_shps, truth_shps):\n",
    "    temp_pred = gpd.read_file(p)\n",
    "    temp_truth = gpd.read_file(t)\n",
    "    if truths is None:\n",
    "        truths = temp_truth\n",
    "        preds = temp_pred\n",
    "    else:\n",
    "        truths = pd.concat((truths, temp_truth))\n",
    "        preds = pd.concat((preds, temp_pred))"
   ]
  },
  {
   "cell_type": "markdown",
   "id": "834919cb-ade7-4f8f-b36f-e7074a24d986",
   "metadata": {},
   "source": [
    "Fix labeling."
   ]
  },
  {
   "cell_type": "code",
   "execution_count": null,
   "id": "6164e6d1",
   "metadata": {},
   "outputs": [],
   "source": [
    "preds['layer'] = preds.apply(lambda row: 'groundwood' if row.label == 2 else 'uprightwood', axis=1)"
   ]
  },
  {
   "cell_type": "markdown",
   "id": "0ef1d4fb-74dc-48b7-9b07-98bf7e949d89",
   "metadata": {},
   "source": [
    "Check the number of predictions. The models have found almost 1500 more deadwood instances at this point."
   ]
  },
  {
   "cell_type": "code",
   "execution_count": null,
   "id": "f28838fa",
   "metadata": {},
   "outputs": [
    {
     "data": {
      "text/plain": [
       "((3444, 4), (1741, 6))"
      ]
     },
     "execution_count": null,
     "metadata": {},
     "output_type": "execute_result"
    }
   ],
   "source": [
    "preds.shape, truths.shape"
   ]
  },
  {
   "cell_type": "code",
   "execution_count": null,
   "id": "d8f1ed44",
   "metadata": {},
   "outputs": [
    {
     "data": {
      "text/plain": [
       "2    2790\n",
       "1     654\n",
       "Name: label, dtype: int64"
      ]
     },
     "execution_count": null,
     "metadata": {},
     "output_type": "execute_result"
    }
   ],
   "source": [
    "preds.label.value_counts()"
   ]
  },
  {
   "cell_type": "code",
   "execution_count": null,
   "id": "a128e76d",
   "metadata": {},
   "outputs": [],
   "source": [
    "dis_truths = truths.dissolve(by='layer')\n",
    "dis_preds = preds.dissolve(by='layer')"
   ]
  },
  {
   "cell_type": "markdown",
   "id": "643d14ad-2772-45ef-bc74-ffddbc25462b",
   "metadata": {},
   "source": [
    "Check IoU-score."
   ]
  },
  {
   "cell_type": "code",
   "execution_count": null,
   "id": "b334cd43",
   "metadata": {},
   "outputs": [
    {
     "data": {
      "text/plain": [
       "layer\n",
       "groundwood     0.472870\n",
       "uprightwood    0.460234\n",
       "dtype: float64"
      ]
     },
     "execution_count": null,
     "metadata": {},
     "output_type": "execute_result"
    }
   ],
   "source": [
    "poly_IoU(dis_truths, dis_preds)"
   ]
  },
  {
   "cell_type": "markdown",
   "id": "58253252-1dd3-49e3-8104-79c5df68dae9",
   "metadata": {},
   "source": [
    "Run GisCOCOeval, which converts georeferenced vector files to COCO-annotations and runs the metrics."
   ]
  },
  {
   "cell_type": "code",
   "execution_count": null,
   "id": "5b822685",
   "metadata": {},
   "outputs": [],
   "source": [
    "deadwood_categories = [{'supercategory': 'deadwood', 'id':1, 'name':'uprightwood'},\n",
    "                 \n",
    "                       {'supercategory': 'deadwood', 'id':2, 'name':'groundwood'}]\n",
    "\n",
    "raw_coco_eval = GisCOCOeval(raw_res_path, raw_res_path, \n",
    "                            None, None, deadwood_categories)"
   ]
  },
  {
   "cell_type": "code",
   "execution_count": null,
   "id": "56a6633d",
   "metadata": {},
   "outputs": [
    {
     "data": {
      "application/json": {
       "ascii": false,
       "bar_format": null,
       "colour": null,
       "elapsed": 0.013878583908081055,
       "initial": 0,
       "n": 0,
       "ncols": null,
       "nrows": 62,
       "postfix": null,
       "prefix": "",
       "rate": null,
       "total": null,
       "unit": "it",
       "unit_divisor": 1000,
       "unit_scale": false
      },
      "application/vnd.jupyter.widget-view+json": {
       "model_id": "a3d5fd88dd374b908e5fc9592fa87cc7",
       "version_major": 2,
       "version_minor": 0
      },
      "text/plain": [
       "0it [00:00, ?it/s]"
      ]
     },
     "metadata": {},
     "output_type": "display_data"
    },
    {
     "data": {
      "application/json": {
       "ascii": false,
       "bar_format": null,
       "colour": null,
       "elapsed": 0.012661218643188477,
       "initial": 0,
       "n": 0,
       "ncols": null,
       "nrows": 62,
       "postfix": null,
       "prefix": "",
       "rate": null,
       "total": 5,
       "unit": "it",
       "unit_divisor": 1000,
       "unit_scale": false
      },
      "application/vnd.jupyter.widget-view+json": {
       "model_id": "c3a18d48fb4549338e793c037ebe66a0",
       "version_major": 2,
       "version_minor": 0
      },
      "text/plain": [
       "  0%|          | 0/5 [00:00<?, ?it/s]"
      ]
     },
     "metadata": {},
     "output_type": "display_data"
    }
   ],
   "source": [
    "raw_coco_eval.prepare_data(gt_label_col='layer')"
   ]
  },
  {
   "cell_type": "code",
   "execution_count": null,
   "id": "5578e2fb",
   "metadata": {},
   "outputs": [
    {
     "name": "stdout",
     "output_type": "stream",
     "text": [
      "loading annotations into memory...\n",
      "Done (t=0.03s)\n",
      "creating index...\n",
      "index created!\n",
      "Loading and preparing results...\n",
      "DONE (t=0.03s)\n",
      "creating index...\n",
      "index created!\n"
     ]
    }
   ],
   "source": [
    "raw_coco_eval.prepare_eval()"
   ]
  },
  {
   "cell_type": "markdown",
   "id": "6dbde45f-bdab-4888-90f9-cef7e95145da",
   "metadata": {},
   "source": [
    "As the scenes can contain more than 1000 annotations, set `maxDets` to larger values than default."
   ]
  },
  {
   "cell_type": "code",
   "execution_count": null,
   "id": "b43be11e",
   "metadata": {},
   "outputs": [],
   "source": [
    "raw_coco_eval.coco_eval.params.maxDets = [1000, 10000]"
   ]
  },
  {
   "cell_type": "code",
   "execution_count": null,
   "id": "ac31ea92",
   "metadata": {},
   "outputs": [
    {
     "name": "stdout",
     "output_type": "stream",
     "text": [
      "\n",
      "Evaluating for category uprightwood\n",
      "Running per image evaluation...\n",
      "Evaluate annotation type *segm*\n",
      "DONE (t=0.81s).\n",
      "Accumulating evaluation results...\n",
      "DONE (t=0.01s).\n",
      " Average Precision  (AP) @[ IoU=0.50:0.95 | area=   all | maxDets=10000 ] = 0.348\n",
      " Average Precision  (AP) @[ IoU=0.50      | area=   all | maxDets=10000 ] = 0.677\n",
      " Average Precision  (AP) @[ IoU=0.75      | area=   all | maxDets=10000 ] = 0.325\n",
      " Average Precision  (AP) @[ IoU=0.50:0.95 | area= small | maxDets=10000 ] = 0.217\n",
      " Average Precision  (AP) @[ IoU=0.50:0.95 | area=medium | maxDets=10000 ] = 0.396\n",
      " Average Precision  (AP) @[ IoU=0.50:0.95 | area= large | maxDets=10000 ] = 1.000\n",
      " Average Recall     (AR) @[ IoU=0.50:0.95 | area=   all | maxDets=1000 ] = 0.466\n",
      " Average Recall     (AR) @[ IoU=0.50:0.95 | area= small | maxDets=1000 ] = 0.387\n",
      " Average Recall     (AR) @[ IoU=0.50:0.95 | area=medium | maxDets=1000 ] = 0.497\n",
      " Average Recall     (AR) @[ IoU=0.50:0.95 | area= large | maxDets=1000 ] = 1.000\n",
      "\n",
      "Evaluating for category groundwood\n",
      "Running per image evaluation...\n",
      "Evaluate annotation type *segm*\n",
      "DONE (t=11.59s).\n",
      "Accumulating evaluation results...\n",
      "DONE (t=0.02s).\n",
      " Average Precision  (AP) @[ IoU=0.50:0.95 | area=   all | maxDets=10000 ] = 0.202\n",
      " Average Precision  (AP) @[ IoU=0.50      | area=   all | maxDets=10000 ] = 0.525\n",
      " Average Precision  (AP) @[ IoU=0.75      | area=   all | maxDets=10000 ] = 0.104\n",
      " Average Precision  (AP) @[ IoU=0.50:0.95 | area= small | maxDets=10000 ] = 0.204\n",
      " Average Precision  (AP) @[ IoU=0.50:0.95 | area=medium | maxDets=10000 ] = 0.160\n",
      " Average Precision  (AP) @[ IoU=0.50:0.95 | area= large | maxDets=10000 ] = -1.000\n",
      " Average Recall     (AR) @[ IoU=0.50:0.95 | area=   all | maxDets=1000 ] = 0.342\n",
      " Average Recall     (AR) @[ IoU=0.50:0.95 | area= small | maxDets=1000 ] = 0.347\n",
      " Average Recall     (AR) @[ IoU=0.50:0.95 | area=medium | maxDets=1000 ] = 0.200\n",
      " Average Recall     (AR) @[ IoU=0.50:0.95 | area= large | maxDets=1000 ] = -1.000\n",
      "\n",
      "Evaluating for full data...\n",
      "Running per image evaluation...\n",
      "Evaluate annotation type *segm*\n",
      "DONE (t=12.39s).\n",
      "Accumulating evaluation results...\n",
      "DONE (t=0.03s).\n",
      " Average Precision  (AP) @[ IoU=0.50:0.95 | area=   all | maxDets=10000 ] = 0.275\n",
      " Average Precision  (AP) @[ IoU=0.50      | area=   all | maxDets=10000 ] = 0.601\n",
      " Average Precision  (AP) @[ IoU=0.75      | area=   all | maxDets=10000 ] = 0.214\n",
      " Average Precision  (AP) @[ IoU=0.50:0.95 | area= small | maxDets=10000 ] = 0.210\n",
      " Average Precision  (AP) @[ IoU=0.50:0.95 | area=medium | maxDets=10000 ] = 0.278\n",
      " Average Precision  (AP) @[ IoU=0.50:0.95 | area= large | maxDets=10000 ] = 1.000\n",
      " Average Recall     (AR) @[ IoU=0.50:0.95 | area=   all | maxDets=1000 ] = 0.404\n",
      " Average Recall     (AR) @[ IoU=0.50:0.95 | area= small | maxDets=1000 ] = 0.367\n",
      " Average Recall     (AR) @[ IoU=0.50:0.95 | area=medium | maxDets=1000 ] = 0.349\n",
      " Average Recall     (AR) @[ IoU=0.50:0.95 | area= large | maxDets=1000 ] = 1.000\n"
     ]
    }
   ],
   "source": [
    "raw_coco_eval.evaluate()"
   ]
  },
  {
   "cell_type": "markdown",
   "id": "61e18891-3d39-4235-b9a4-47b6d487c2b9",
   "metadata": {},
   "source": [
    "Compared to the patch-level results, the AP50 score is around 0.2 lower than patch-level results. However, edges are not handled in any way in this processing level."
   ]
  },
  {
   "cell_type": "markdown",
   "id": "0091722e-8a08-47d4-b3f1-3a898b363404",
   "metadata": {},
   "source": [
    "Get the number of false positives (FP), true positives (TP) and false negatives (FN). Object detection has infinite number of true negatives so we are not interested in them."
   ]
  },
  {
   "cell_type": "code",
   "execution_count": null,
   "id": "9f4cf30a",
   "metadata": {},
   "outputs": [
    {
     "data": {
      "application/json": {
       "ascii": false,
       "bar_format": null,
       "colour": null,
       "elapsed": 0.011843681335449219,
       "initial": 0,
       "n": 0,
       "ncols": null,
       "nrows": 62,
       "postfix": null,
       "prefix": "",
       "rate": null,
       "total": 1741,
       "unit": "it",
       "unit_divisor": 1000,
       "unit_scale": false
      },
      "application/vnd.jupyter.widget-view+json": {
       "model_id": "be76f28003a84ebe88c98902dda80573",
       "version_major": 2,
       "version_minor": 0
      },
      "text/plain": [
       "  0%|          | 0/1741 [00:00<?, ?it/s]"
      ]
     },
     "metadata": {},
     "output_type": "display_data"
    },
    {
     "data": {
      "application/json": {
       "ascii": false,
       "bar_format": null,
       "colour": null,
       "elapsed": 0.011644124984741211,
       "initial": 0,
       "n": 0,
       "ncols": null,
       "nrows": 62,
       "postfix": null,
       "prefix": "",
       "rate": null,
       "total": 3444,
       "unit": "it",
       "unit_divisor": 1000,
       "unit_scale": false
      },
      "application/vnd.jupyter.widget-view+json": {
       "model_id": "a4a8f9b388a2415ebbe0b1de379a01a0",
       "version_major": 2,
       "version_minor": 0
      },
      "text/plain": [
       "  0%|          | 0/3444 [00:00<?, ?it/s]"
      ]
     },
     "metadata": {},
     "output_type": "display_data"
    }
   ],
   "source": [
    "fp_cols = [f'FP_{np.round(i, 2)}' for i in np.arange(0.5, 1.04, 0.05)]\n",
    "tp_cols = [f'TP_{np.round(i, 2)}' for i in np.arange(0.5, 1.03, 0.05)]\n",
    "tp_truths = truths.copy()\n",
    "tp_truths.rename(columns={'groundwood':'label'}, inplace=True)\n",
    "truth_sindex = tp_truths.sindex\n",
    "fp_preds = preds.copy()\n",
    "pred_sindex = fp_preds.sindex\n",
    "tp_truths[tp_cols] = tp_truths.progress_apply(lambda row: is_true_positive(row, fp_preds, pred_sindex), \n",
    "                                              axis=1, result_type='expand')\n",
    "fp_preds[fp_cols] = fp_preds.progress_apply(lambda row: is_false_positive(row, tp_truths, truth_sindex,\n",
    "                                                                            fp_preds, pred_sindex),\n",
    "                                            axis=1, result_type='expand')"
   ]
  },
  {
   "cell_type": "code",
   "execution_count": null,
   "id": "45b9d799",
   "metadata": {},
   "outputs": [
    {
     "data": {
      "text/html": [
       "<div>\n",
       "<style scoped>\n",
       "    .dataframe tbody tr th:only-of-type {\n",
       "        vertical-align: middle;\n",
       "    }\n",
       "\n",
       "    .dataframe tbody tr th {\n",
       "        vertical-align: top;\n",
       "    }\n",
       "\n",
       "    .dataframe thead th {\n",
       "        text-align: right;\n",
       "    }\n",
       "</style>\n",
       "<table border=\"1\" class=\"dataframe\">\n",
       "  <thead>\n",
       "    <tr style=\"text-align: right;\">\n",
       "      <th>FP_0.5</th>\n",
       "      <th>FP</th>\n",
       "      <th>TP</th>\n",
       "      <th>All</th>\n",
       "    </tr>\n",
       "    <tr>\n",
       "      <th>layer</th>\n",
       "      <th></th>\n",
       "      <th></th>\n",
       "      <th></th>\n",
       "    </tr>\n",
       "  </thead>\n",
       "  <tbody>\n",
       "    <tr>\n",
       "      <th>groundwood</th>\n",
       "      <td>1837</td>\n",
       "      <td>953</td>\n",
       "      <td>2790</td>\n",
       "    </tr>\n",
       "    <tr>\n",
       "      <th>uprightwood</th>\n",
       "      <td>382</td>\n",
       "      <td>272</td>\n",
       "      <td>654</td>\n",
       "    </tr>\n",
       "    <tr>\n",
       "      <th>All</th>\n",
       "      <td>2219</td>\n",
       "      <td>1225</td>\n",
       "      <td>3444</td>\n",
       "    </tr>\n",
       "  </tbody>\n",
       "</table>\n",
       "</div>"
      ],
      "text/plain": [
       "FP_0.5         FP    TP   All\n",
       "layer                        \n",
       "groundwood   1837   953  2790\n",
       "uprightwood   382   272   654\n",
       "All          2219  1225  3444"
      ]
     },
     "execution_count": null,
     "metadata": {},
     "output_type": "execute_result"
    }
   ],
   "source": [
    "pd.crosstab(fp_preds.layer, fp_preds['FP_0.5'], margins=True)"
   ]
  },
  {
   "cell_type": "code",
   "execution_count": null,
   "id": "9a6770e9",
   "metadata": {},
   "outputs": [
    {
     "data": {
      "text/html": [
       "<div>\n",
       "<style scoped>\n",
       "    .dataframe tbody tr th:only-of-type {\n",
       "        vertical-align: middle;\n",
       "    }\n",
       "\n",
       "    .dataframe tbody tr th {\n",
       "        vertical-align: top;\n",
       "    }\n",
       "\n",
       "    .dataframe thead th {\n",
       "        text-align: right;\n",
       "    }\n",
       "</style>\n",
       "<table border=\"1\" class=\"dataframe\">\n",
       "  <thead>\n",
       "    <tr style=\"text-align: right;\">\n",
       "      <th>TP_0.5</th>\n",
       "      <th>FN</th>\n",
       "      <th>TP</th>\n",
       "      <th>All</th>\n",
       "    </tr>\n",
       "    <tr>\n",
       "      <th>layer</th>\n",
       "      <th></th>\n",
       "      <th></th>\n",
       "      <th></th>\n",
       "    </tr>\n",
       "  </thead>\n",
       "  <tbody>\n",
       "    <tr>\n",
       "      <th>groundwood</th>\n",
       "      <td>448</td>\n",
       "      <td>953</td>\n",
       "      <td>1401</td>\n",
       "    </tr>\n",
       "    <tr>\n",
       "      <th>uprightwood</th>\n",
       "      <td>68</td>\n",
       "      <td>272</td>\n",
       "      <td>340</td>\n",
       "    </tr>\n",
       "    <tr>\n",
       "      <th>All</th>\n",
       "      <td>516</td>\n",
       "      <td>1225</td>\n",
       "      <td>1741</td>\n",
       "    </tr>\n",
       "  </tbody>\n",
       "</table>\n",
       "</div>"
      ],
      "text/plain": [
       "TP_0.5        FN    TP   All\n",
       "layer                       \n",
       "groundwood   448   953  1401\n",
       "uprightwood   68   272   340\n",
       "All          516  1225  1741"
      ]
     },
     "execution_count": null,
     "metadata": {},
     "output_type": "execute_result"
    }
   ],
   "source": [
    "pd.crosstab(tp_truths.layer, tp_truths['TP_0.5'], margins=True)"
   ]
  },
  {
   "cell_type": "markdown",
   "id": "23911867",
   "metadata": {},
   "source": [
    "From these we can get both precision and recall: $Precision = \\frac{tp}{tp+fp}, Recall = \\frac{tp}{tp+fn}$"
   ]
  },
  {
   "cell_type": "code",
   "execution_count": null,
   "id": "1a47dcf3",
   "metadata": {},
   "outputs": [
    {
     "name": "stdout",
     "output_type": "stream",
     "text": [
      "Precision for fallen deadwood with IoU threshold of 0.5 is 0.34\n",
      "Recall for fallen deadwood with IoU threshold of 0.5 is 0.68\n"
     ]
    }
   ],
   "source": [
    "print(f'Precision for fallen deadwood with IoU threshold of 0.5 is {(953/2790):.2f}')\n",
    "print(f'Recall for fallen deadwood with IoU threshold of 0.5 is {(953/1401):.2f}')"
   ]
  },
  {
   "cell_type": "code",
   "execution_count": null,
   "id": "de3612b6",
   "metadata": {},
   "outputs": [
    {
     "name": "stdout",
     "output_type": "stream",
     "text": [
      "Precision for standing deadwood with IoU threshold of 0.5 is 0.42\n",
      "Recall for standing deadwood with IoU threshold of 0.5 is 0.62\n"
     ]
    }
   ],
   "source": [
    "print(f'Precision for standing deadwood with IoU threshold of 0.5 is {(272/654):.2f}')\n",
    "print(f'Recall for standing deadwood with IoU threshold of 0.5 is {(212/340):.2f}')"
   ]
  },
  {
   "cell_type": "code",
   "execution_count": null,
   "id": "eaee9475",
   "metadata": {},
   "outputs": [
    {
     "name": "stdout",
     "output_type": "stream",
     "text": [
      "Overall precision with IoU threshold of 0.5 is 0.36\n",
      "Overall recall with IoU threshold of 0.5 is 0.70\n"
     ]
    }
   ],
   "source": [
    "print(f'Overall precision with IoU threshold of 0.5 is {(1225/3444):.2f}')\n",
    "print(f'Overall recall with IoU threshold of 0.5 is {(1225/1741):.2f}')"
   ]
  },
  {
   "cell_type": "markdown",
   "id": "6a74b385",
   "metadata": {},
   "source": [
    "## Half patch overlap and edge filtering"
   ]
  },
  {
   "cell_type": "markdown",
   "id": "56b80997",
   "metadata": {},
   "source": [
    "For this postprocessing method, mosaics are tiled so that the sliding window moves half tile lenght. For example, when moving row-wise, the first bottom-left coordinates are (0,0), and next ones (256,0), (512,0)... and same  is done column-wise. We discard all predicted polygons whose centroid point is not within the half-overlap area. For instance, for first tile (bottom left (0,0)), the x-coordinate must be between 128 and 384, for second tile (256,0) between 384 and 640, and likewise for y-coordinates. This method discards almost 75% of all predictions in the scenes as they are either overlapping or cut in half in the patch borders.\n",
    "\n",
    "The images used for predictions are buffered so that the whole area is covered, considering the discarding process. "
   ]
  },
  {
   "cell_type": "code",
   "execution_count": null,
   "id": "5993df7d",
   "metadata": {},
   "outputs": [],
   "source": [
    "pred_outpath = Path('../results/hp_overlap_filter_new/')\n",
    "if not os.path.exists(pred_outpath):\n",
    "    shutil.copytree('../results/template_folder/', pred_outpath, symlinks=True)"
   ]
  },
  {
   "cell_type": "code",
   "execution_count": null,
   "id": "ff263433",
   "metadata": {},
   "outputs": [
    {
     "ename": "NameError",
     "evalue": "name 'predict_instance_masks' is not defined",
     "output_type": "error",
     "traceback": [
      "\u001b[0;31m---------------------------------------------------------------------------\u001b[0m",
      "\u001b[0;31mNameError\u001b[0m                                 Traceback (most recent call last)",
      "Input \u001b[0;32mIn [72]\u001b[0m, in \u001b[0;36m<cell line: 6>\u001b[0;34m()\u001b[0m\n\u001b[1;32m      6\u001b[0m \u001b[38;5;28;01mfor\u001b[39;00m t \u001b[38;5;129;01min\u001b[39;00m test_rasters:\n\u001b[1;32m      7\u001b[0m     outfile_name \u001b[38;5;241m=\u001b[39m pred_outpath\u001b[38;5;241m/\u001b[39m\u001b[38;5;124mf\u001b[39m\u001b[38;5;124m'\u001b[39m\u001b[38;5;124mraw_preds/\u001b[39m\u001b[38;5;132;01m{\u001b[39;00m\u001b[38;5;28mstr\u001b[39m(t)\u001b[38;5;241m.\u001b[39msplit(\u001b[38;5;124m\"\u001b[39m\u001b[38;5;124m/\u001b[39m\u001b[38;5;124m\"\u001b[39m)[\u001b[38;5;241m-\u001b[39m\u001b[38;5;241m1\u001b[39m][:\u001b[38;5;241m-\u001b[39m\u001b[38;5;241m4\u001b[39m]\u001b[38;5;132;01m}\u001b[39;00m\u001b[38;5;124m.geojson\u001b[39m\u001b[38;5;124m'\u001b[39m\n\u001b[0;32m----> 8\u001b[0m     \u001b[43mpredict_instance_masks\u001b[49m(path_to_model_files\u001b[38;5;241m=\u001b[39m\u001b[38;5;124m'\u001b[39m\u001b[38;5;124m../models/hiidenportti/mask_rcnn_R_101_FPN_3x/\u001b[39m\u001b[38;5;124m'\u001b[39m, \n\u001b[1;32m      9\u001b[0m                            path_to_image\u001b[38;5;241m=\u001b[39m\u001b[38;5;28mstr\u001b[39m(t),\n\u001b[1;32m     10\u001b[0m                            outfile\u001b[38;5;241m=\u001b[39m\u001b[38;5;28mstr\u001b[39m(outfile_name),\n\u001b[1;32m     11\u001b[0m                            processing_dir\u001b[38;5;241m=\u001b[39m\u001b[38;5;124m'\u001b[39m\u001b[38;5;124mtemp\u001b[39m\u001b[38;5;124m'\u001b[39m,\n\u001b[1;32m     12\u001b[0m                            tile_size\u001b[38;5;241m=\u001b[39m\u001b[38;5;241m512\u001b[39m,\n\u001b[1;32m     13\u001b[0m                            tile_overlap\u001b[38;5;241m=\u001b[39m\u001b[38;5;241m256\u001b[39m,\n\u001b[1;32m     14\u001b[0m                            smooth_preds\u001b[38;5;241m=\u001b[39m\u001b[38;5;28;01mFalse\u001b[39;00m,\n\u001b[1;32m     15\u001b[0m                            use_tta\u001b[38;5;241m=\u001b[39m\u001b[38;5;28;01mTrue\u001b[39;00m,\n\u001b[1;32m     16\u001b[0m                            coco_set\u001b[38;5;241m=\u001b[39m\u001b[38;5;124m'\u001b[39m\u001b[38;5;124m../../data/processed/hiidenportti/hiidenportti_valid.json\u001b[39m\u001b[38;5;124m'\u001b[39m,\n\u001b[1;32m     17\u001b[0m                            postproc_results\u001b[38;5;241m=\u001b[39m\u001b[38;5;28;01mTrue\u001b[39;00m)\n",
      "\u001b[0;31mNameError\u001b[0m: name 'predict_instance_masks' is not defined"
     ]
    }
   ],
   "source": [
    "#| output: false\n",
    "\n",
    "raw_path = Path('../../data/raw/hiidenportti/virtual_plots/buffered_test/images')\n",
    "test_rasters = [raw_path/f for f in os.listdir(raw_path) if f.endswith('tif')]\n",
    "\n",
    "for t in test_rasters:\n",
    "    outfile_name = pred_outpath/f'raw_preds/{str(t).split(\"/\")[-1][:-4]}.geojson'\n",
    "    predict_instance_masks(path_to_model_files='../models/hiidenportti/mask_rcnn_R_101_FPN_3x/', \n",
    "                           path_to_image=str(t),\n",
    "                           outfile=str(outfile_name),\n",
    "                           processing_dir='temp',\n",
    "                           tile_size=512,\n",
    "                           tile_overlap=256,\n",
    "                           smooth_preds=False,\n",
    "                           use_tta=True,\n",
    "                           coco_set='../../data/processed/hiidenportti/hiidenportti_valid.json',\n",
    "                           postproc_results=True)"
   ]
  },
  {
   "cell_type": "markdown",
   "id": "25bccfe4",
   "metadata": {},
   "source": [
    "Modify as previously."
   ]
  },
  {
   "cell_type": "code",
   "execution_count": null,
   "id": "b351f9b5",
   "metadata": {},
   "outputs": [],
   "source": [
    "hp_res_path = pred_outpath\n",
    "truth_shps = sorted([hp_res_path/'vector_tiles'/f for f in os.listdir(hp_res_path/'vector_tiles')])\n",
    "hp_raw_shps = sorted([hp_res_path/'raw_preds'/f for f in os.listdir(hp_res_path/'raw_preds')])\n",
    "rasters = sorted([hp_res_path/'raster_tiles'/f for f in os.listdir(hp_res_path/'raster_tiles')])"
   ]
  },
  {
   "cell_type": "code",
   "execution_count": null,
   "id": "c72ea27a",
   "metadata": {},
   "outputs": [],
   "source": [
    "for p, t in zip(hp_raw_shps, truth_shps):\n",
    "    temp_pred = gpd.read_file(p)\n",
    "    temp_truth = gpd.read_file(t)\n",
    "    temp_pred = gpd.clip(temp_pred, box(*temp_truth.total_bounds))\n",
    "\n",
    "    temp_pred['geometry'] = temp_pred.apply(lambda row: fix_multipolys(row.geometry) \n",
    "                                            if row.geometry.type == 'MultiPolygon' \n",
    "                                            else shapely.geometry.Polygon(row.geometry.exterior), axis=1)\n",
    "    temp_pred['label'] += 1\n",
    "    temp_pred = temp_pred[temp_pred.geometry.area > 16*0.04**2]\n",
    "    temp_pred.to_file(hp_res_path/'predicted_vectors'/p.name)"
   ]
  },
  {
   "cell_type": "code",
   "execution_count": null,
   "id": "fe326bf6",
   "metadata": {},
   "outputs": [],
   "source": [
    "pred_shps = sorted([hp_res_path/'predicted_vectors'/f for f in os.listdir(hp_res_path/'predicted_vectors')])"
   ]
  },
  {
   "cell_type": "markdown",
   "id": "d1141552",
   "metadata": {},
   "source": [
    "Collate all predictions into single dataframes"
   ]
  },
  {
   "cell_type": "code",
   "execution_count": null,
   "id": "1429878c",
   "metadata": {},
   "outputs": [],
   "source": [
    "truths = None\n",
    "preds = None\n",
    "\n",
    "for p, t in zip(pred_shps, truth_shps):\n",
    "    temp_pred = gpd.read_file(p)\n",
    "    temp_truth = gpd.read_file(t)\n",
    "    if truths is None:\n",
    "        truths = temp_truth\n",
    "        preds = temp_pred\n",
    "    else:\n",
    "        truths = pd.concat((truths, temp_truth))\n",
    "        preds = pd.concat((preds, temp_pred))"
   ]
  },
  {
   "cell_type": "code",
   "execution_count": null,
   "id": "9b30fb48",
   "metadata": {},
   "outputs": [],
   "source": [
    "preds['layer'] = preds.apply(lambda row: 'groundwood' if row.label == 2 else 'uprightwood', axis=1)"
   ]
  },
  {
   "cell_type": "markdown",
   "id": "fd6f70d5-a070-42a4-b2ba-5fc159f3207f",
   "metadata": {},
   "source": [
    "The total amount after cleaning is similar than before."
   ]
  },
  {
   "cell_type": "code",
   "execution_count": null,
   "id": "b6e8e75e",
   "metadata": {},
   "outputs": [
    {
     "data": {
      "text/plain": [
       "groundwood     2698\n",
       "uprightwood     619\n",
       "Name: layer, dtype: int64"
      ]
     },
     "execution_count": null,
     "metadata": {},
     "output_type": "execute_result"
    }
   ],
   "source": [
    "preds.layer.value_counts()"
   ]
  },
  {
   "cell_type": "code",
   "execution_count": null,
   "id": "720294bd",
   "metadata": {},
   "outputs": [],
   "source": [
    "dis_truths = truths.dissolve(by='layer')\n",
    "dis_preds = preds.dissolve(by='layer')"
   ]
  },
  {
   "cell_type": "markdown",
   "id": "5c54c8ae-a3ff-4632-9297-a9265d9ed372",
   "metadata": {},
   "source": [
    "But IoU, especially for standing deadwood increases."
   ]
  },
  {
   "cell_type": "code",
   "execution_count": null,
   "id": "5c7747c6",
   "metadata": {},
   "outputs": [
    {
     "data": {
      "text/plain": [
       "layer\n",
       "groundwood     0.487089\n",
       "uprightwood    0.503599\n",
       "dtype: float64"
      ]
     },
     "execution_count": null,
     "metadata": {},
     "output_type": "execute_result"
    }
   ],
   "source": [
    "poly_IoU(dis_truths, dis_preds)"
   ]
  },
  {
   "cell_type": "code",
   "execution_count": null,
   "id": "4b7dd10b",
   "metadata": {},
   "outputs": [],
   "source": [
    "deadwood_categories = [{'supercategory': 'deadwood', 'id':1, 'name':'uprightwood'},\n",
    "                 \n",
    "                       {'supercategory': 'deadwood', 'id':2, 'name':'groundwood'}]\n",
    "\n",
    "hp_coco_eval = GisCOCOeval(hp_res_path, hp_res_path, \n",
    "                            None, None, deadwood_categories)"
   ]
  },
  {
   "cell_type": "code",
   "execution_count": null,
   "id": "15f5b970",
   "metadata": {},
   "outputs": [
    {
     "data": {
      "application/json": {
       "ascii": false,
       "bar_format": null,
       "colour": null,
       "elapsed": 0.013161182403564453,
       "initial": 0,
       "n": 0,
       "ncols": null,
       "nrows": 30,
       "postfix": null,
       "prefix": "",
       "rate": null,
       "total": null,
       "unit": "it",
       "unit_divisor": 1000,
       "unit_scale": false
      },
      "application/vnd.jupyter.widget-view+json": {
       "model_id": "2ce3d7c8a21b4abda327842116df60b3",
       "version_major": 2,
       "version_minor": 0
      },
      "text/plain": [
       "0it [00:00, ?it/s]"
      ]
     },
     "metadata": {},
     "output_type": "display_data"
    },
    {
     "data": {
      "application/json": {
       "ascii": false,
       "bar_format": null,
       "colour": null,
       "elapsed": 0.012327432632446289,
       "initial": 0,
       "n": 0,
       "ncols": null,
       "nrows": 30,
       "postfix": null,
       "prefix": "",
       "rate": null,
       "total": 5,
       "unit": "it",
       "unit_divisor": 1000,
       "unit_scale": false
      },
      "application/vnd.jupyter.widget-view+json": {
       "model_id": "38d905fc758d4dcba7bad8729bb40db7",
       "version_major": 2,
       "version_minor": 0
      },
      "text/plain": [
       "  0%|          | 0/5 [00:00<?, ?it/s]"
      ]
     },
     "metadata": {},
     "output_type": "display_data"
    }
   ],
   "source": [
    "hp_coco_eval.prepare_data(gt_label_col='layer')"
   ]
  },
  {
   "cell_type": "code",
   "execution_count": null,
   "id": "d8e47cb4",
   "metadata": {},
   "outputs": [
    {
     "name": "stdout",
     "output_type": "stream",
     "text": [
      "loading annotations into memory...\n",
      "Done (t=0.03s)\n",
      "creating index...\n",
      "index created!\n",
      "Loading and preparing results...\n",
      "DONE (t=0.03s)\n",
      "creating index...\n",
      "index created!\n"
     ]
    }
   ],
   "source": [
    "hp_coco_eval.prepare_eval()"
   ]
  },
  {
   "cell_type": "code",
   "execution_count": null,
   "id": "3c67cca5",
   "metadata": {},
   "outputs": [],
   "source": [
    "hp_coco_eval.coco_eval.params.maxDets = [1000, 10000]"
   ]
  },
  {
   "cell_type": "code",
   "execution_count": null,
   "id": "490f7555",
   "metadata": {},
   "outputs": [
    {
     "name": "stdout",
     "output_type": "stream",
     "text": [
      "\n",
      "Evaluating for category uprightwood\n",
      "Running per image evaluation...\n",
      "Evaluate annotation type *segm*\n",
      "DONE (t=0.76s).\n",
      "Accumulating evaluation results...\n",
      "DONE (t=0.01s).\n",
      " Average Precision  (AP) @[ IoU=0.50:0.95 | area=   all | maxDets=10000 ] = 0.447\n",
      " Average Precision  (AP) @[ IoU=0.50      | area=   all | maxDets=10000 ] = 0.780\n",
      " Average Precision  (AP) @[ IoU=0.75      | area=   all | maxDets=10000 ] = 0.479\n",
      " Average Precision  (AP) @[ IoU=0.50:0.95 | area= small | maxDets=10000 ] = 0.296\n",
      " Average Precision  (AP) @[ IoU=0.50:0.95 | area=medium | maxDets=10000 ] = 0.505\n",
      " Average Precision  (AP) @[ IoU=0.50:0.95 | area= large | maxDets=10000 ] = 1.000\n",
      " Average Recall     (AR) @[ IoU=0.50:0.95 | area=   all | maxDets=1000 ] = 0.545\n",
      " Average Recall     (AR) @[ IoU=0.50:0.95 | area= small | maxDets=1000 ] = 0.428\n",
      " Average Recall     (AR) @[ IoU=0.50:0.95 | area=medium | maxDets=1000 ] = 0.591\n",
      " Average Recall     (AR) @[ IoU=0.50:0.95 | area= large | maxDets=1000 ] = 1.000\n",
      "\n",
      "Evaluating for category groundwood\n",
      "Running per image evaluation...\n",
      "Evaluate annotation type *segm*\n",
      "DONE (t=12.06s).\n",
      "Accumulating evaluation results...\n",
      "DONE (t=0.02s).\n",
      " Average Precision  (AP) @[ IoU=0.50:0.95 | area=   all | maxDets=10000 ] = 0.266\n",
      " Average Precision  (AP) @[ IoU=0.50      | area=   all | maxDets=10000 ] = 0.652\n",
      " Average Precision  (AP) @[ IoU=0.75      | area=   all | maxDets=10000 ] = 0.145\n",
      " Average Precision  (AP) @[ IoU=0.50:0.95 | area= small | maxDets=10000 ] = 0.269\n",
      " Average Precision  (AP) @[ IoU=0.50:0.95 | area=medium | maxDets=10000 ] = 0.211\n",
      " Average Precision  (AP) @[ IoU=0.50:0.95 | area= large | maxDets=10000 ] = -1.000\n",
      " Average Recall     (AR) @[ IoU=0.50:0.95 | area=   all | maxDets=1000 ] = 0.389\n",
      " Average Recall     (AR) @[ IoU=0.50:0.95 | area= small | maxDets=1000 ] = 0.394\n",
      " Average Recall     (AR) @[ IoU=0.50:0.95 | area=medium | maxDets=1000 ] = 0.280\n",
      " Average Recall     (AR) @[ IoU=0.50:0.95 | area= large | maxDets=1000 ] = -1.000\n",
      "\n",
      "Evaluating for full data...\n",
      "Running per image evaluation...\n",
      "Evaluate annotation type *segm*\n",
      "DONE (t=12.87s).\n",
      "Accumulating evaluation results...\n",
      "DONE (t=0.03s).\n",
      " Average Precision  (AP) @[ IoU=0.50:0.95 | area=   all | maxDets=10000 ] = 0.356\n",
      " Average Precision  (AP) @[ IoU=0.50      | area=   all | maxDets=10000 ] = 0.716\n",
      " Average Precision  (AP) @[ IoU=0.75      | area=   all | maxDets=10000 ] = 0.312\n",
      " Average Precision  (AP) @[ IoU=0.50:0.95 | area= small | maxDets=10000 ] = 0.282\n",
      " Average Precision  (AP) @[ IoU=0.50:0.95 | area=medium | maxDets=10000 ] = 0.358\n",
      " Average Precision  (AP) @[ IoU=0.50:0.95 | area= large | maxDets=10000 ] = 1.000\n",
      " Average Recall     (AR) @[ IoU=0.50:0.95 | area=   all | maxDets=1000 ] = 0.467\n",
      " Average Recall     (AR) @[ IoU=0.50:0.95 | area= small | maxDets=1000 ] = 0.411\n",
      " Average Recall     (AR) @[ IoU=0.50:0.95 | area=medium | maxDets=1000 ] = 0.436\n",
      " Average Recall     (AR) @[ IoU=0.50:0.95 | area= large | maxDets=1000 ] = 1.000\n"
     ]
    }
   ],
   "source": [
    "hp_coco_eval.evaluate()"
   ]
  },
  {
   "cell_type": "markdown",
   "id": "e53945a5-2da1-4939-9803-80847dbe32c9",
   "metadata": {},
   "source": [
    "Overall AP50 increases by around 0.1 with this kind of post-processing."
   ]
  },
  {
   "cell_type": "code",
   "execution_count": null,
   "id": "67d4383b",
   "metadata": {},
   "outputs": [
    {
     "data": {
      "application/json": {
       "ascii": false,
       "bar_format": null,
       "colour": null,
       "elapsed": 0.012015581130981445,
       "initial": 0,
       "n": 0,
       "ncols": null,
       "nrows": 30,
       "postfix": null,
       "prefix": "",
       "rate": null,
       "total": 1741,
       "unit": "it",
       "unit_divisor": 1000,
       "unit_scale": false
      },
      "application/vnd.jupyter.widget-view+json": {
       "model_id": "9f83d4eb180845668f9824f177fe79ea",
       "version_major": 2,
       "version_minor": 0
      },
      "text/plain": [
       "  0%|          | 0/1741 [00:00<?, ?it/s]"
      ]
     },
     "metadata": {},
     "output_type": "display_data"
    },
    {
     "data": {
      "application/json": {
       "ascii": false,
       "bar_format": null,
       "colour": null,
       "elapsed": 0.011660099029541016,
       "initial": 0,
       "n": 0,
       "ncols": null,
       "nrows": 30,
       "postfix": null,
       "prefix": "",
       "rate": null,
       "total": 3317,
       "unit": "it",
       "unit_divisor": 1000,
       "unit_scale": false
      },
      "application/vnd.jupyter.widget-view+json": {
       "model_id": "accc7f4234df4c4abd18437346951537",
       "version_major": 2,
       "version_minor": 0
      },
      "text/plain": [
       "  0%|          | 0/3317 [00:00<?, ?it/s]"
      ]
     },
     "metadata": {},
     "output_type": "display_data"
    }
   ],
   "source": [
    "tp_truths = truths.copy()\n",
    "tp_truths.rename(columns={'groundwood':'label'}, inplace=True)\n",
    "truth_sindex = tp_truths.sindex\n",
    "fp_preds = preds.copy()\n",
    "pred_sindex = fp_preds.sindex\n",
    "tp_truths[tp_cols] = tp_truths.progress_apply(lambda row: is_true_positive(row, fp_preds, pred_sindex), \n",
    "                                              axis=1, result_type='expand')\n",
    "fp_preds[fp_cols] = fp_preds.progress_apply(lambda row: is_false_positive(row, tp_truths, truth_sindex,\n",
    "                                                                            fp_preds, pred_sindex),\n",
    "                                            axis=1, result_type='expand')"
   ]
  },
  {
   "cell_type": "code",
   "execution_count": null,
   "id": "739e0b56",
   "metadata": {},
   "outputs": [
    {
     "data": {
      "text/html": [
       "<div>\n",
       "<style scoped>\n",
       "    .dataframe tbody tr th:only-of-type {\n",
       "        vertical-align: middle;\n",
       "    }\n",
       "\n",
       "    .dataframe tbody tr th {\n",
       "        vertical-align: top;\n",
       "    }\n",
       "\n",
       "    .dataframe thead th {\n",
       "        text-align: right;\n",
       "    }\n",
       "</style>\n",
       "<table border=\"1\" class=\"dataframe\">\n",
       "  <thead>\n",
       "    <tr style=\"text-align: right;\">\n",
       "      <th>FP_0.5</th>\n",
       "      <th>FP</th>\n",
       "      <th>TP</th>\n",
       "      <th>All</th>\n",
       "    </tr>\n",
       "    <tr>\n",
       "      <th>layer</th>\n",
       "      <th></th>\n",
       "      <th></th>\n",
       "      <th></th>\n",
       "    </tr>\n",
       "  </thead>\n",
       "  <tbody>\n",
       "    <tr>\n",
       "      <th>groundwood</th>\n",
       "      <td>1636</td>\n",
       "      <td>1062</td>\n",
       "      <td>2698</td>\n",
       "    </tr>\n",
       "    <tr>\n",
       "      <th>uprightwood</th>\n",
       "      <td>318</td>\n",
       "      <td>301</td>\n",
       "      <td>619</td>\n",
       "    </tr>\n",
       "    <tr>\n",
       "      <th>All</th>\n",
       "      <td>1954</td>\n",
       "      <td>1363</td>\n",
       "      <td>3317</td>\n",
       "    </tr>\n",
       "  </tbody>\n",
       "</table>\n",
       "</div>"
      ],
      "text/plain": [
       "FP_0.5         FP    TP   All\n",
       "layer                        \n",
       "groundwood   1636  1062  2698\n",
       "uprightwood   318   301   619\n",
       "All          1954  1363  3317"
      ]
     },
     "execution_count": null,
     "metadata": {},
     "output_type": "execute_result"
    }
   ],
   "source": [
    "pd.crosstab(fp_preds.layer, fp_preds['FP_0.5'], margins=True)"
   ]
  },
  {
   "cell_type": "code",
   "execution_count": null,
   "id": "83d4efbf",
   "metadata": {},
   "outputs": [
    {
     "data": {
      "text/html": [
       "<div>\n",
       "<style scoped>\n",
       "    .dataframe tbody tr th:only-of-type {\n",
       "        vertical-align: middle;\n",
       "    }\n",
       "\n",
       "    .dataframe tbody tr th {\n",
       "        vertical-align: top;\n",
       "    }\n",
       "\n",
       "    .dataframe thead th {\n",
       "        text-align: right;\n",
       "    }\n",
       "</style>\n",
       "<table border=\"1\" class=\"dataframe\">\n",
       "  <thead>\n",
       "    <tr style=\"text-align: right;\">\n",
       "      <th>TP_0.5</th>\n",
       "      <th>FN</th>\n",
       "      <th>TP</th>\n",
       "      <th>All</th>\n",
       "    </tr>\n",
       "    <tr>\n",
       "      <th>layer</th>\n",
       "      <th></th>\n",
       "      <th></th>\n",
       "      <th></th>\n",
       "    </tr>\n",
       "  </thead>\n",
       "  <tbody>\n",
       "    <tr>\n",
       "      <th>groundwood</th>\n",
       "      <td>339</td>\n",
       "      <td>1062</td>\n",
       "      <td>1401</td>\n",
       "    </tr>\n",
       "    <tr>\n",
       "      <th>uprightwood</th>\n",
       "      <td>39</td>\n",
       "      <td>301</td>\n",
       "      <td>340</td>\n",
       "    </tr>\n",
       "    <tr>\n",
       "      <th>All</th>\n",
       "      <td>378</td>\n",
       "      <td>1363</td>\n",
       "      <td>1741</td>\n",
       "    </tr>\n",
       "  </tbody>\n",
       "</table>\n",
       "</div>"
      ],
      "text/plain": [
       "TP_0.5        FN    TP   All\n",
       "layer                       \n",
       "groundwood   339  1062  1401\n",
       "uprightwood   39   301   340\n",
       "All          378  1363  1741"
      ]
     },
     "execution_count": null,
     "metadata": {},
     "output_type": "execute_result"
    }
   ],
   "source": [
    "pd.crosstab(tp_truths.layer, tp_truths['TP_0.5'], margins=True)"
   ]
  },
  {
   "cell_type": "markdown",
   "id": "fb088497",
   "metadata": {},
   "source": [
    "$Precision = \\frac{tp}{tp+fp}, Recall = \\frac{tp}{tp+fn}$"
   ]
  },
  {
   "cell_type": "code",
   "execution_count": null,
   "id": "7654526f",
   "metadata": {},
   "outputs": [
    {
     "name": "stdout",
     "output_type": "stream",
     "text": [
      "Precision for fallen deadwood with IoU threshold of 0.5 is 0.39\n",
      "Recall for fallen deadwood with IoU threshold of 0.5 is 0.76\n"
     ]
    }
   ],
   "source": [
    "print(f'Precision for fallen deadwood with IoU threshold of 0.5 is {(1062/2698):.2f}')\n",
    "print(f'Recall for fallen deadwood with IoU threshold of 0.5 is {(1062/1401):.2f}')"
   ]
  },
  {
   "cell_type": "code",
   "execution_count": null,
   "id": "675bf83d",
   "metadata": {},
   "outputs": [
    {
     "name": "stdout",
     "output_type": "stream",
     "text": [
      "Precision for standing deadwood with IoU threshold of 0.5 is 0.49\n",
      "Recall for standing deadwood with IoU threshold of 0.5 is 0.89\n"
     ]
    }
   ],
   "source": [
    "print(f'Precision for standing deadwood with IoU threshold of 0.5 is {(301/619):.2f}')\n",
    "print(f'Recall for standing deadwood with IoU threshold of 0.5 is {(301/340):.2f}')"
   ]
  },
  {
   "cell_type": "code",
   "execution_count": null,
   "id": "42060208",
   "metadata": {},
   "outputs": [
    {
     "name": "stdout",
     "output_type": "stream",
     "text": [
      "Overall precision with IoU threshold of 0.5 is 0.41\n",
      "Overall recall with IoU threshold of 0.5 is 0.78\n"
     ]
    }
   ],
   "source": [
    "print(f'Overall precision with IoU threshold of 0.5 is {(1363/3317):.2f}')\n",
    "print(f'Overall recall with IoU threshold of 0.5 is {(1363/1741):.2f}')"
   ]
  },
  {
   "cell_type": "markdown",
   "id": "f52dfa29",
   "metadata": {},
   "source": [
    "## Overlap, edge filtering and mask merging"
   ]
  },
  {
   "cell_type": "markdown",
   "id": "8a6d6974",
   "metadata": {},
   "source": [
    "Mask merging is built on previous predictions. In this step, for each polygon we check whether the ratio between intersection with any other polygon of the same class and the area of the polygon is more than 0.2. If yes, the polygon is merged to the other polygon with which it had intersection-over-area ratio."
   ]
  },
  {
   "cell_type": "code",
   "execution_count": null,
   "id": "f12e62e5",
   "metadata": {},
   "outputs": [],
   "source": [
    "merge_outpath = Path('../results/hp_merge_new//')\n",
    "if not os.path.exists(merge_outpath):\n",
    "    shutil.copytree('../results/template_folder/', merge_outpath, symlinks=True)"
   ]
  },
  {
   "cell_type": "markdown",
   "id": "12259966",
   "metadata": {},
   "source": [
    "Two iterations of merging is usually enough."
   ]
  },
  {
   "cell_type": "code",
   "execution_count": null,
   "id": "a3fd7a81",
   "metadata": {},
   "outputs": [
    {
     "name": "stderr",
     "output_type": "stream",
     "text": [
      "220it [00:00, 307.44it/s]\n",
      "1101it [00:06, 166.41it/s]\n",
      "207it [00:00, 338.17it/s]\n",
      "833it [00:03, 233.57it/s]\n",
      "26it [00:00, 392.77it/s]\n",
      "133it [00:00, 249.87it/s]\n",
      "25it [00:00, 438.05it/s]\n",
      "96it [00:00, 383.23it/s]\n",
      "39it [00:00, 331.23it/s]\n",
      "361it [00:01, 213.40it/s]\n",
      "36it [00:00, 405.36it/s]\n",
      "280it [00:00, 305.30it/s]\n",
      "306it [00:01, 282.71it/s]\n",
      "959it [00:05, 178.05it/s]\n",
      "282it [00:00, 307.87it/s]\n",
      "743it [00:03, 232.31it/s]\n",
      "28it [00:00, 337.12it/s]\n",
      "144it [00:00, 289.05it/s]\n",
      "24it [00:00, 467.15it/s]\n",
      "122it [00:00, 386.97it/s]\n"
     ]
    }
   ],
   "source": [
    "#| output: false\n",
    "\n",
    "for r in pred_shps:\n",
    "    gdf_temp = gpd.read_file(r)\n",
    "    standing = gdf_temp[gdf_temp.label==1].copy()\n",
    "    fallen = gdf_temp[gdf_temp.label==2].copy()\n",
    "    standing = merge_polys(standing, 0.2)\n",
    "    fallen = merge_polys(fallen, 0.2)\n",
    "    standing = merge_polys(standing, 0.2)\n",
    "    fallen = merge_polys(fallen, 0.2)\n",
    "    gdf_merged = pd.concat((standing, fallen))\n",
    "    gdf_merged.to_file(merge_outpath/'predicted_vectors'/r.name, driver='GeoJSON')\n",
    "    gdf_merged = None\n",
    "    gdf_temp = None"
   ]
  },
  {
   "cell_type": "code",
   "execution_count": null,
   "id": "a7a1647b",
   "metadata": {},
   "outputs": [
    {
     "data": {
      "text/plain": [
       "Path('../results/hp_merge_new')"
      ]
     },
     "execution_count": null,
     "metadata": {},
     "output_type": "execute_result"
    }
   ],
   "source": [
    "merge_outpath"
   ]
  },
  {
   "cell_type": "code",
   "execution_count": null,
   "id": "a8c02158",
   "metadata": {},
   "outputs": [
    {
     "data": {
      "application/json": {
       "ascii": false,
       "bar_format": null,
       "colour": null,
       "elapsed": 0.013084650039672852,
       "initial": 0,
       "n": 0,
       "ncols": null,
       "nrows": 30,
       "postfix": null,
       "prefix": "",
       "rate": null,
       "total": null,
       "unit": "it",
       "unit_divisor": 1000,
       "unit_scale": false
      },
      "application/vnd.jupyter.widget-view+json": {
       "model_id": "4cfd945abc2f4bc79145bdb75a719ed4",
       "version_major": 2,
       "version_minor": 0
      },
      "text/plain": [
       "0it [00:00, ?it/s]"
      ]
     },
     "metadata": {},
     "output_type": "display_data"
    },
    {
     "data": {
      "application/json": {
       "ascii": false,
       "bar_format": null,
       "colour": null,
       "elapsed": 0.01225590705871582,
       "initial": 0,
       "n": 0,
       "ncols": null,
       "nrows": 30,
       "postfix": null,
       "prefix": "",
       "rate": null,
       "total": 5,
       "unit": "it",
       "unit_divisor": 1000,
       "unit_scale": false
      },
      "application/vnd.jupyter.widget-view+json": {
       "model_id": "0beb06be20794ecc8e270b324a099354",
       "version_major": 2,
       "version_minor": 0
      },
      "text/plain": [
       "  0%|          | 0/5 [00:00<?, ?it/s]"
      ]
     },
     "metadata": {},
     "output_type": "display_data"
    },
    {
     "name": "stdout",
     "output_type": "stream",
     "text": [
      "loading annotations into memory...\n",
      "Done (t=0.03s)\n",
      "creating index...\n",
      "index created!\n",
      "Loading and preparing results...\n",
      "DONE (t=0.02s)\n",
      "creating index...\n",
      "index created!\n",
      "\n",
      "Evaluating for category uprightwood\n",
      "Running per image evaluation...\n",
      "Evaluate annotation type *segm*\n",
      "DONE (t=0.68s).\n",
      "Accumulating evaluation results...\n",
      "DONE (t=0.01s).\n",
      " Average Precision  (AP) @[ IoU=0.50:0.95 | area=   all | maxDets=1000 ] = 0.436\n",
      " Average Precision  (AP) @[ IoU=0.50      | area=   all | maxDets=1000 ] = 0.761\n",
      " Average Precision  (AP) @[ IoU=0.75      | area=   all | maxDets=1000 ] = 0.465\n",
      " Average Precision  (AP) @[ IoU=0.50:0.95 | area= small | maxDets=1000 ] = 0.288\n",
      " Average Precision  (AP) @[ IoU=0.50:0.95 | area=medium | maxDets=1000 ] = 0.495\n",
      " Average Precision  (AP) @[ IoU=0.50:0.95 | area= large | maxDets=1000 ] = 1.000\n",
      " Average Recall     (AR) @[ IoU=0.50:0.95 | area=   all | maxDets=100 ] = 0.399\n",
      " Average Recall     (AR) @[ IoU=0.50:0.95 | area= small | maxDets=100 ] = 0.246\n",
      " Average Recall     (AR) @[ IoU=0.50:0.95 | area=medium | maxDets=100 ] = 0.460\n",
      " Average Recall     (AR) @[ IoU=0.50:0.95 | area= large | maxDets=100 ] = 1.000\n",
      "\n",
      "Evaluating for category groundwood\n",
      "Running per image evaluation...\n",
      "Evaluate annotation type *segm*\n",
      "DONE (t=9.05s).\n",
      "Accumulating evaluation results...\n",
      "DONE (t=0.01s).\n",
      " Average Precision  (AP) @[ IoU=0.50:0.95 | area=   all | maxDets=1000 ] = 0.246\n",
      " Average Precision  (AP) @[ IoU=0.50      | area=   all | maxDets=1000 ] = 0.605\n",
      " Average Precision  (AP) @[ IoU=0.75      | area=   all | maxDets=1000 ] = 0.130\n",
      " Average Precision  (AP) @[ IoU=0.50:0.95 | area= small | maxDets=1000 ] = 0.248\n",
      " Average Precision  (AP) @[ IoU=0.50:0.95 | area=medium | maxDets=1000 ] = 0.207\n",
      " Average Precision  (AP) @[ IoU=0.50:0.95 | area= large | maxDets=1000 ] = -1.000\n",
      " Average Recall     (AR) @[ IoU=0.50:0.95 | area=   all | maxDets=100 ] = 0.151\n",
      " Average Recall     (AR) @[ IoU=0.50:0.95 | area= small | maxDets=100 ] = 0.153\n",
      " Average Recall     (AR) @[ IoU=0.50:0.95 | area=medium | maxDets=100 ] = 0.082\n",
      " Average Recall     (AR) @[ IoU=0.50:0.95 | area= large | maxDets=100 ] = -1.000\n",
      "\n",
      "Evaluating for full data...\n",
      "Running per image evaluation...\n",
      "Evaluate annotation type *segm*\n",
      "DONE (t=9.90s).\n",
      "Accumulating evaluation results...\n",
      "DONE (t=0.02s).\n",
      " Average Precision  (AP) @[ IoU=0.50:0.95 | area=   all | maxDets=1000 ] = 0.341\n",
      " Average Precision  (AP) @[ IoU=0.50      | area=   all | maxDets=1000 ] = 0.683\n",
      " Average Precision  (AP) @[ IoU=0.75      | area=   all | maxDets=1000 ] = 0.297\n",
      " Average Precision  (AP) @[ IoU=0.50:0.95 | area= small | maxDets=1000 ] = 0.268\n",
      " Average Precision  (AP) @[ IoU=0.50:0.95 | area=medium | maxDets=1000 ] = 0.351\n",
      " Average Precision  (AP) @[ IoU=0.50:0.95 | area= large | maxDets=1000 ] = 1.000\n",
      " Average Recall     (AR) @[ IoU=0.50:0.95 | area=   all | maxDets=100 ] = 0.275\n",
      " Average Recall     (AR) @[ IoU=0.50:0.95 | area= small | maxDets=100 ] = 0.200\n",
      " Average Recall     (AR) @[ IoU=0.50:0.95 | area=medium | maxDets=100 ] = 0.271\n",
      " Average Recall     (AR) @[ IoU=0.50:0.95 | area= large | maxDets=100 ] = 1.000\n"
     ]
    }
   ],
   "source": [
    "merged_coco_eval = GisCOCOeval(merge_outpath, merge_outpath, None, None, deadwood_categories)\n",
    "merged_coco_eval.prepare_data(gt_label_col='layer')\n",
    "merged_coco_eval.prepare_eval()\n",
    "merged_coco_eval.evaluate()"
   ]
  },
  {
   "cell_type": "markdown",
   "id": "ae530d8f",
   "metadata": {},
   "source": [
    "This usually worsens the results a bit, but the produced results are better suited for deriving forest charasteristics, as the number of overlapping detected instances decrease significantly."
   ]
  },
  {
   "cell_type": "code",
   "execution_count": null,
   "id": "8a716a22",
   "metadata": {},
   "outputs": [
    {
     "name": "stderr",
     "output_type": "stream",
     "text": [
      "619it [00:02, 250.70it/s]\n",
      "2698it [00:23, 113.43it/s]\n",
      "574it [00:02, 284.39it/s]\n",
      "2074it [00:13, 155.47it/s]\n"
     ]
    }
   ],
   "source": [
    "preds.reset_index(drop=True, inplace=True)\n",
    "standing = merge_polys(preds[preds.label == 1].copy(), 0.2)\n",
    "fallen = merge_polys(preds[preds.label == 2].copy(), 0.2)\n",
    "standing = merge_polys(standing, 0.2)\n",
    "fallen = merge_polys(fallen, 0.2)\n",
    "preds_merged = pd.concat((standing, fallen))"
   ]
  },
  {
   "cell_type": "code",
   "execution_count": null,
   "id": "b1ccab6b",
   "metadata": {},
   "outputs": [
    {
     "data": {
      "text/plain": [
       "groundwood     2003\n",
       "uprightwood     564\n",
       "Name: layer, dtype: int64"
      ]
     },
     "execution_count": null,
     "metadata": {},
     "output_type": "execute_result"
    }
   ],
   "source": [
    "preds_merged['layer'] = preds_merged.apply(lambda row: 'groundwood' if row.label == 2 else 'uprightwood', axis=1)\n",
    "preds_merged.layer.value_counts()"
   ]
  },
  {
   "cell_type": "code",
   "execution_count": null,
   "id": "8f182904",
   "metadata": {},
   "outputs": [
    {
     "data": {
      "application/json": {
       "ascii": false,
       "bar_format": null,
       "colour": null,
       "elapsed": 0.011691570281982422,
       "initial": 0,
       "n": 0,
       "ncols": null,
       "nrows": 62,
       "postfix": null,
       "prefix": "",
       "rate": null,
       "total": 1741,
       "unit": "it",
       "unit_divisor": 1000,
       "unit_scale": false
      },
      "application/vnd.jupyter.widget-view+json": {
       "model_id": "c23dd5b275af4f0aa3e5d2b48a1a5e2d",
       "version_major": 2,
       "version_minor": 0
      },
      "text/plain": [
       "  0%|          | 0/1741 [00:00<?, ?it/s]"
      ]
     },
     "metadata": {},
     "output_type": "display_data"
    },
    {
     "data": {
      "application/json": {
       "ascii": false,
       "bar_format": null,
       "colour": null,
       "elapsed": 0.011230230331420898,
       "initial": 0,
       "n": 0,
       "ncols": null,
       "nrows": 62,
       "postfix": null,
       "prefix": "",
       "rate": null,
       "total": 2567,
       "unit": "it",
       "unit_divisor": 1000,
       "unit_scale": false
      },
      "application/vnd.jupyter.widget-view+json": {
       "model_id": "72c90c41589d461f9a9685654da5bfd5",
       "version_major": 2,
       "version_minor": 0
      },
      "text/plain": [
       "  0%|          | 0/2567 [00:00<?, ?it/s]"
      ]
     },
     "metadata": {},
     "output_type": "display_data"
    }
   ],
   "source": [
    "tp_truths = truths.copy()\n",
    "tp_truths.rename(columns={'groundwood':'label'}, inplace=True)\n",
    "truth_sindex = tp_truths.sindex\n",
    "fp_preds_merged = preds_merged.copy()\n",
    "pred_sindex = fp_preds_merged.sindex\n",
    "tp_truths[tp_cols] = tp_truths.progress_apply(lambda row: is_true_positive(row, fp_preds_merged, pred_sindex), \n",
    "                                              axis=1, result_type='expand')\n",
    "fp_preds_merged[fp_cols] = fp_preds_merged.progress_apply(lambda row: is_false_positive(row, tp_truths, truth_sindex,\n",
    "                                                                            fp_preds_merged, pred_sindex),\n",
    "                                            axis=1, result_type='expand')"
   ]
  },
  {
   "cell_type": "code",
   "execution_count": null,
   "id": "8ad9948e",
   "metadata": {},
   "outputs": [
    {
     "data": {
      "text/html": [
       "<div>\n",
       "<style scoped>\n",
       "    .dataframe tbody tr th:only-of-type {\n",
       "        vertical-align: middle;\n",
       "    }\n",
       "\n",
       "    .dataframe tbody tr th {\n",
       "        vertical-align: top;\n",
       "    }\n",
       "\n",
       "    .dataframe thead th {\n",
       "        text-align: right;\n",
       "    }\n",
       "</style>\n",
       "<table border=\"1\" class=\"dataframe\">\n",
       "  <thead>\n",
       "    <tr style=\"text-align: right;\">\n",
       "      <th>FP_0.5</th>\n",
       "      <th>FP</th>\n",
       "      <th>TP</th>\n",
       "      <th>All</th>\n",
       "    </tr>\n",
       "    <tr>\n",
       "      <th>layer</th>\n",
       "      <th></th>\n",
       "      <th></th>\n",
       "      <th></th>\n",
       "    </tr>\n",
       "  </thead>\n",
       "  <tbody>\n",
       "    <tr>\n",
       "      <th>groundwood</th>\n",
       "      <td>1036</td>\n",
       "      <td>967</td>\n",
       "      <td>2003</td>\n",
       "    </tr>\n",
       "    <tr>\n",
       "      <th>uprightwood</th>\n",
       "      <td>271</td>\n",
       "      <td>293</td>\n",
       "      <td>564</td>\n",
       "    </tr>\n",
       "    <tr>\n",
       "      <th>All</th>\n",
       "      <td>1307</td>\n",
       "      <td>1260</td>\n",
       "      <td>2567</td>\n",
       "    </tr>\n",
       "  </tbody>\n",
       "</table>\n",
       "</div>"
      ],
      "text/plain": [
       "FP_0.5         FP    TP   All\n",
       "layer                        \n",
       "groundwood   1036   967  2003\n",
       "uprightwood   271   293   564\n",
       "All          1307  1260  2567"
      ]
     },
     "execution_count": null,
     "metadata": {},
     "output_type": "execute_result"
    }
   ],
   "source": [
    "pd.crosstab(fp_preds_merged.layer, fp_preds_merged['FP_0.5'], margins=True)"
   ]
  },
  {
   "cell_type": "code",
   "execution_count": null,
   "id": "2dde5257",
   "metadata": {},
   "outputs": [
    {
     "data": {
      "text/html": [
       "<div>\n",
       "<style scoped>\n",
       "    .dataframe tbody tr th:only-of-type {\n",
       "        vertical-align: middle;\n",
       "    }\n",
       "\n",
       "    .dataframe tbody tr th {\n",
       "        vertical-align: top;\n",
       "    }\n",
       "\n",
       "    .dataframe thead th {\n",
       "        text-align: right;\n",
       "    }\n",
       "</style>\n",
       "<table border=\"1\" class=\"dataframe\">\n",
       "  <thead>\n",
       "    <tr style=\"text-align: right;\">\n",
       "      <th>TP_0.5</th>\n",
       "      <th>FN</th>\n",
       "      <th>TP</th>\n",
       "      <th>All</th>\n",
       "    </tr>\n",
       "    <tr>\n",
       "      <th>layer</th>\n",
       "      <th></th>\n",
       "      <th></th>\n",
       "      <th></th>\n",
       "    </tr>\n",
       "  </thead>\n",
       "  <tbody>\n",
       "    <tr>\n",
       "      <th>groundwood</th>\n",
       "      <td>434</td>\n",
       "      <td>967</td>\n",
       "      <td>1401</td>\n",
       "    </tr>\n",
       "    <tr>\n",
       "      <th>uprightwood</th>\n",
       "      <td>47</td>\n",
       "      <td>293</td>\n",
       "      <td>340</td>\n",
       "    </tr>\n",
       "    <tr>\n",
       "      <th>All</th>\n",
       "      <td>481</td>\n",
       "      <td>1260</td>\n",
       "      <td>1741</td>\n",
       "    </tr>\n",
       "  </tbody>\n",
       "</table>\n",
       "</div>"
      ],
      "text/plain": [
       "TP_0.5        FN    TP   All\n",
       "layer                       \n",
       "groundwood   434   967  1401\n",
       "uprightwood   47   293   340\n",
       "All          481  1260  1741"
      ]
     },
     "execution_count": null,
     "metadata": {},
     "output_type": "execute_result"
    }
   ],
   "source": [
    "pd.crosstab(tp_truths.layer, tp_truths['TP_0.5'], margins=True)"
   ]
  },
  {
   "cell_type": "markdown",
   "id": "c8c52e12",
   "metadata": {},
   "source": [
    "$Precision = \\frac{tp}{tp+fp}, Recall = \\frac{tp}{tp+fn}$"
   ]
  },
  {
   "cell_type": "code",
   "execution_count": null,
   "id": "27d1076b",
   "metadata": {},
   "outputs": [
    {
     "name": "stdout",
     "output_type": "stream",
     "text": [
      "Precision for fallen deadwood with IoU threshold of 0.5 is 0.48\n",
      "Recall for fallen deadwood with IoU threshold of 0.5 is 0.69\n"
     ]
    }
   ],
   "source": [
    "print(f'Precision for fallen deadwood with IoU threshold of 0.5 is {(967/2003):.2f}')\n",
    "print(f'Recall for fallen deadwood with IoU threshold of 0.5 is {(967/1401):.2f}')"
   ]
  },
  {
   "cell_type": "code",
   "execution_count": null,
   "id": "20d16753",
   "metadata": {},
   "outputs": [
    {
     "name": "stdout",
     "output_type": "stream",
     "text": [
      "Precision for standing deadwood with IoU threshold of 0.5 is 0.52\n",
      "Recall for standing deadwood with IoU threshold of 0.5 is 0.86\n"
     ]
    }
   ],
   "source": [
    "print(f'Precision for standing deadwood with IoU threshold of 0.5 is {(293/564):.2f}')\n",
    "print(f'Recall for standing deadwood with IoU threshold of 0.5 is {(293/340):.2f}')"
   ]
  },
  {
   "cell_type": "code",
   "execution_count": null,
   "id": "ef395fdc",
   "metadata": {},
   "outputs": [
    {
     "name": "stdout",
     "output_type": "stream",
     "text": [
      "Overall precision with IoU threshold of 0.5 is 0.49\n",
      "Overall recall with IoU threshold of 0.5 is 0.72\n"
     ]
    }
   ],
   "source": [
    "print(f'Overall precision with IoU threshold of 0.5 is {(1260/2567):.2f}')\n",
    "print(f'Overall recall with IoU threshold of 0.5 is {(1260/1741):.2f}')"
   ]
  },
  {
   "cell_type": "markdown",
   "id": "a28f3219",
   "metadata": {},
   "source": [
    "As the postprocessing merges data instead of dropping less certain predictions, total area and IoU remain the same as in previous step."
   ]
  },
  {
   "cell_type": "code",
   "execution_count": null,
   "id": "508260b9",
   "metadata": {},
   "outputs": [],
   "source": [
    "preds_merged.to_file('../results/hiidenportti/merged_all_20220823.geojson')"
   ]
  },
  {
   "cell_type": "markdown",
   "id": "d4f06361",
   "metadata": {},
   "source": [
    "# Full Evo dataset"
   ]
  },
  {
   "cell_type": "markdown",
   "id": "810f7e35",
   "metadata": {},
   "source": [
    "Running predictions for Evo dataset takes so much time that it has been done separately. "
   ]
  },
  {
   "cell_type": "markdown",
   "id": "7be8fe26",
   "metadata": {},
   "source": [
    "## No overlap, no post-processing"
   ]
  },
  {
   "cell_type": "code",
   "execution_count": null,
   "id": "3c1714ab",
   "metadata": {},
   "outputs": [],
   "source": [
    "spk_raw_res_path = Path('../results/spk_benchmark/r101_nobuf/')\n",
    "truth_shps = sorted([spk_raw_res_path/'vector_tiles'/f for f in os.listdir(spk_raw_res_path/'vector_tiles')])\n",
    "spk_raw_shps = sorted([spk_raw_res_path/'raw_preds'/f for f in os.listdir(spk_raw_res_path/'raw_preds')])\n",
    "rasters = sorted([spk_raw_res_path/'raster_tiles'/f for f in os.listdir(spk_raw_res_path/'raster_tiles')])"
   ]
  },
  {
   "cell_type": "code",
   "execution_count": null,
   "id": "b3a00928",
   "metadata": {},
   "outputs": [],
   "source": [
    "for p, t in zip(spk_raw_shps, truth_shps):\n",
    "    temp_pred = gpd.read_file(p)\n",
    "    temp_truth = gpd.read_file(t)\n",
    "    temp_pred = gpd.clip(temp_pred, box(*temp_truth.total_bounds))\n",
    "    temp_pred['geometry'] = temp_pred.apply(lambda row: fix_multipolys(row.geometry) \n",
    "                                            if row.geometry.type == 'MultiPolygon' \n",
    "                                            else shapely.geometry.Polygon(row.geometry.exterior), axis=1)\n",
    "    temp_pred['label'] += 1\n",
    "    temp_pred = temp_pred[temp_pred.geometry.area > 16*0.0485**2]\n",
    "    temp_pred.to_file(spk_raw_res_path/'predicted_vectors'/p.name)"
   ]
  },
  {
   "cell_type": "code",
   "execution_count": null,
   "id": "28ead968",
   "metadata": {},
   "outputs": [],
   "source": [
    "pred_shps = sorted([spk_raw_res_path/'predicted_vectors'/f for f in os.listdir(spk_raw_res_path/'predicted_vectors')])"
   ]
  },
  {
   "cell_type": "code",
   "execution_count": null,
   "id": "fb93fc2c",
   "metadata": {},
   "outputs": [],
   "source": [
    "truths = None\n",
    "preds = None\n",
    "\n",
    "for p, t in zip(pred_shps, truth_shps):\n",
    "    temp_pred = gpd.read_file(p)\n",
    "    temp_truth = gpd.read_file(t)\n",
    "    if truths is None:\n",
    "        truths = temp_truth\n",
    "        preds = temp_pred\n",
    "    else:\n",
    "        truths = pd.concat((truths, temp_truth))\n",
    "        preds = pd.concat((preds, temp_pred))"
   ]
  },
  {
   "cell_type": "code",
   "execution_count": null,
   "id": "03789bca",
   "metadata": {},
   "outputs": [],
   "source": [
    "preds['layer'] = preds.apply(lambda row: 'groundwood' if row.label == 2 else 'uprightwood', axis=1)"
   ]
  },
  {
   "cell_type": "code",
   "execution_count": null,
   "id": "c424f986",
   "metadata": {},
   "outputs": [
    {
     "data": {
      "text/plain": [
       "((6893, 4), (5334, 4))"
      ]
     },
     "execution_count": null,
     "metadata": {},
     "output_type": "execute_result"
    }
   ],
   "source": [
    "preds.shape, truths.shape"
   ]
  },
  {
   "cell_type": "code",
   "execution_count": null,
   "id": "24508a22",
   "metadata": {},
   "outputs": [
    {
     "data": {
      "text/plain": [
       "groundwood     5481\n",
       "uprightwood    1412\n",
       "Name: layer, dtype: int64"
      ]
     },
     "execution_count": null,
     "metadata": {},
     "output_type": "execute_result"
    }
   ],
   "source": [
    "preds.layer.value_counts()"
   ]
  },
  {
   "cell_type": "code",
   "execution_count": null,
   "id": "602425b3",
   "metadata": {},
   "outputs": [],
   "source": [
    "truths.rename(columns={'label':'layer'}, inplace=True)"
   ]
  },
  {
   "cell_type": "code",
   "execution_count": null,
   "id": "ce556c7d",
   "metadata": {},
   "outputs": [],
   "source": [
    "dis_truths = truths.dissolve(by='layer')\n",
    "dis_preds = preds.dissolve(by='layer')"
   ]
  },
  {
   "cell_type": "markdown",
   "id": "82aba4e9-9cc2-4401-9aad-2d5470de69fb",
   "metadata": {},
   "source": [
    "IoU for standing deadwood is good already for this preprocessing level."
   ]
  },
  {
   "cell_type": "code",
   "execution_count": null,
   "id": "635bf9f7",
   "metadata": {},
   "outputs": [
    {
     "data": {
      "text/plain": [
       "layer\n",
       "groundwood     0.467202\n",
       "uprightwood    0.605853\n",
       "dtype: float64"
      ]
     },
     "execution_count": null,
     "metadata": {},
     "output_type": "execute_result"
    }
   ],
   "source": [
    "poly_IoU(dis_truths, dis_preds)"
   ]
  },
  {
   "cell_type": "code",
   "execution_count": null,
   "id": "dd4dae9d",
   "metadata": {},
   "outputs": [
    {
     "data": {
      "application/json": {
       "ascii": false,
       "bar_format": null,
       "colour": null,
       "elapsed": 0.01302957534790039,
       "initial": 0,
       "n": 0,
       "ncols": null,
       "nrows": 30,
       "postfix": null,
       "prefix": "",
       "rate": null,
       "total": null,
       "unit": "it",
       "unit_divisor": 1000,
       "unit_scale": false
      },
      "application/vnd.jupyter.widget-view+json": {
       "model_id": "7d3d9a4ed5e04c48a86ec57f2dd8b5cf",
       "version_major": 2,
       "version_minor": 0
      },
      "text/plain": [
       "0it [00:00, ?it/s]"
      ]
     },
     "metadata": {},
     "output_type": "display_data"
    },
    {
     "data": {
      "application/json": {
       "ascii": false,
       "bar_format": null,
       "colour": null,
       "elapsed": 0.011975526809692383,
       "initial": 0,
       "n": 0,
       "ncols": null,
       "nrows": 30,
       "postfix": null,
       "prefix": "",
       "rate": null,
       "total": 71,
       "unit": "it",
       "unit_divisor": 1000,
       "unit_scale": false
      },
      "application/vnd.jupyter.widget-view+json": {
       "model_id": "48c22653e640495096b8f9c60d038ff3",
       "version_major": 2,
       "version_minor": 0
      },
      "text/plain": [
       "  0%|          | 0/71 [00:00<?, ?it/s]"
      ]
     },
     "metadata": {},
     "output_type": "display_data"
    },
    {
     "name": "stdout",
     "output_type": "stream",
     "text": [
      "loading annotations into memory...\n",
      "Done (t=0.19s)\n",
      "creating index...\n",
      "index created!\n",
      "Loading and preparing results...\n",
      "DONE (t=0.06s)\n",
      "creating index...\n",
      "index created!\n",
      "\n",
      "Evaluating for category uprightwood\n",
      "Running per image evaluation...\n",
      "Evaluate annotation type *segm*\n",
      "DONE (t=0.81s).\n",
      "Accumulating evaluation results...\n",
      "DONE (t=0.02s).\n",
      " Average Precision  (AP) @[ IoU=0.50:0.95 | area=   all | maxDets=10000 ] = 0.249\n",
      " Average Precision  (AP) @[ IoU=0.50      | area=   all | maxDets=10000 ] = 0.518\n",
      " Average Precision  (AP) @[ IoU=0.75      | area=   all | maxDets=10000 ] = 0.224\n",
      " Average Precision  (AP) @[ IoU=0.50:0.95 | area= small | maxDets=10000 ] = 0.112\n",
      " Average Precision  (AP) @[ IoU=0.50:0.95 | area=medium | maxDets=10000 ] = 0.326\n",
      " Average Precision  (AP) @[ IoU=0.50:0.95 | area= large | maxDets=10000 ] = 0.279\n",
      " Average Recall     (AR) @[ IoU=0.50:0.95 | area=   all | maxDets=1000 ] = 0.353\n",
      " Average Recall     (AR) @[ IoU=0.50:0.95 | area= small | maxDets=1000 ] = 0.233\n",
      " Average Recall     (AR) @[ IoU=0.50:0.95 | area=medium | maxDets=1000 ] = 0.428\n",
      " Average Recall     (AR) @[ IoU=0.50:0.95 | area= large | maxDets=1000 ] = 0.436\n",
      "\n",
      "Evaluating for category groundwood\n",
      "Running per image evaluation...\n",
      "Evaluate annotation type *segm*\n",
      "DONE (t=10.17s).\n",
      "Accumulating evaluation results...\n",
      "DONE (t=0.05s).\n",
      " Average Precision  (AP) @[ IoU=0.50:0.95 | area=   all | maxDets=10000 ] = 0.129\n",
      " Average Precision  (AP) @[ IoU=0.50      | area=   all | maxDets=10000 ] = 0.382\n",
      " Average Precision  (AP) @[ IoU=0.75      | area=   all | maxDets=10000 ] = 0.049\n",
      " Average Precision  (AP) @[ IoU=0.50:0.95 | area= small | maxDets=10000 ] = 0.128\n",
      " Average Precision  (AP) @[ IoU=0.50:0.95 | area=medium | maxDets=10000 ] = 0.174\n",
      " Average Precision  (AP) @[ IoU=0.50:0.95 | area= large | maxDets=10000 ] = -1.000\n",
      " Average Recall     (AR) @[ IoU=0.50:0.95 | area=   all | maxDets=1000 ] = 0.233\n",
      " Average Recall     (AR) @[ IoU=0.50:0.95 | area= small | maxDets=1000 ] = 0.234\n",
      " Average Recall     (AR) @[ IoU=0.50:0.95 | area=medium | maxDets=1000 ] = 0.215\n",
      " Average Recall     (AR) @[ IoU=0.50:0.95 | area= large | maxDets=1000 ] = -1.000\n",
      "\n",
      "Evaluating for full data...\n",
      "Running per image evaluation...\n",
      "Evaluate annotation type *segm*\n",
      "DONE (t=10.88s).\n",
      "Accumulating evaluation results...\n",
      "DONE (t=0.07s).\n",
      " Average Precision  (AP) @[ IoU=0.50:0.95 | area=   all | maxDets=10000 ] = 0.189\n",
      " Average Precision  (AP) @[ IoU=0.50      | area=   all | maxDets=10000 ] = 0.450\n",
      " Average Precision  (AP) @[ IoU=0.75      | area=   all | maxDets=10000 ] = 0.136\n",
      " Average Precision  (AP) @[ IoU=0.50:0.95 | area= small | maxDets=10000 ] = 0.120\n",
      " Average Precision  (AP) @[ IoU=0.50:0.95 | area=medium | maxDets=10000 ] = 0.250\n",
      " Average Precision  (AP) @[ IoU=0.50:0.95 | area= large | maxDets=10000 ] = 0.279\n",
      " Average Recall     (AR) @[ IoU=0.50:0.95 | area=   all | maxDets=1000 ] = 0.293\n",
      " Average Recall     (AR) @[ IoU=0.50:0.95 | area= small | maxDets=1000 ] = 0.233\n",
      " Average Recall     (AR) @[ IoU=0.50:0.95 | area=medium | maxDets=1000 ] = 0.321\n",
      " Average Recall     (AR) @[ IoU=0.50:0.95 | area= large | maxDets=1000 ] = 0.436\n"
     ]
    }
   ],
   "source": [
    "deadwood_categories = [{'supercategory': 'deadwood', 'id':1, 'name':'uprightwood'},\n",
    "                 \n",
    "                       {'supercategory': 'deadwood', 'id':2, 'name':'groundwood'}]\n",
    "\n",
    "spk_raw_coco_eval = GisCOCOeval(spk_raw_res_path, spk_raw_res_path, \n",
    "                           None, None, deadwood_categories)\n",
    "spk_raw_coco_eval.prepare_data(gt_label_col='label')\n",
    "spk_raw_coco_eval.prepare_eval()\n",
    "spk_raw_coco_eval.coco_eval.params.maxDets = [1000, 10000]\n",
    "spk_raw_coco_eval.evaluate()"
   ]
  },
  {
   "cell_type": "code",
   "execution_count": null,
   "id": "299ba95f",
   "metadata": {},
   "outputs": [
    {
     "data": {
      "application/json": {
       "ascii": false,
       "bar_format": null,
       "colour": null,
       "elapsed": 0.01244211196899414,
       "initial": 0,
       "n": 0,
       "ncols": null,
       "nrows": 30,
       "postfix": null,
       "prefix": "",
       "rate": null,
       "total": 5334,
       "unit": "it",
       "unit_divisor": 1000,
       "unit_scale": false
      },
      "application/vnd.jupyter.widget-view+json": {
       "model_id": "5130212994aa4a02951ddda2099d8901",
       "version_major": 2,
       "version_minor": 0
      },
      "text/plain": [
       "  0%|          | 0/5334 [00:00<?, ?it/s]"
      ]
     },
     "metadata": {},
     "output_type": "display_data"
    },
    {
     "data": {
      "application/json": {
       "ascii": false,
       "bar_format": null,
       "colour": null,
       "elapsed": 0.011327981948852539,
       "initial": 0,
       "n": 0,
       "ncols": null,
       "nrows": 30,
       "postfix": null,
       "prefix": "",
       "rate": null,
       "total": 6893,
       "unit": "it",
       "unit_divisor": 1000,
       "unit_scale": false
      },
      "application/vnd.jupyter.widget-view+json": {
       "model_id": "02d00667a13f45c4bf09969d34741f7b",
       "version_major": 2,
       "version_minor": 0
      },
      "text/plain": [
       "  0%|          | 0/6893 [00:00<?, ?it/s]"
      ]
     },
     "metadata": {},
     "output_type": "display_data"
    }
   ],
   "source": [
    "#| output: false\n",
    "\n",
    "tp_truths = truths.copy()\n",
    "tp_truths['label'] = tp_truths.layer.apply(lambda row: 1 if row=='uprightwood' else 2)\n",
    "truth_sindex = tp_truths.sindex\n",
    "fp_preds = preds.copy()\n",
    "pred_sindex = fp_preds.sindex\n",
    "tp_truths[tp_cols] = tp_truths.progress_apply(lambda row: is_true_positive(row, fp_preds, pred_sindex), \n",
    "                                              axis=1, result_type='expand')\n",
    "fp_preds[fp_cols] = fp_preds.progress_apply(lambda row: is_false_positive(row, tp_truths, truth_sindex,\n",
    "                                                                            fp_preds, pred_sindex),\n",
    "                                            axis=1, result_type='expand')"
   ]
  },
  {
   "cell_type": "code",
   "execution_count": null,
   "id": "d88eff7c",
   "metadata": {},
   "outputs": [
    {
     "data": {
      "text/html": [
       "<div>\n",
       "<style scoped>\n",
       "    .dataframe tbody tr th:only-of-type {\n",
       "        vertical-align: middle;\n",
       "    }\n",
       "\n",
       "    .dataframe tbody tr th {\n",
       "        vertical-align: top;\n",
       "    }\n",
       "\n",
       "    .dataframe thead th {\n",
       "        text-align: right;\n",
       "    }\n",
       "</style>\n",
       "<table border=\"1\" class=\"dataframe\">\n",
       "  <thead>\n",
       "    <tr style=\"text-align: right;\">\n",
       "      <th>FP_0.5</th>\n",
       "      <th>FP</th>\n",
       "      <th>TP</th>\n",
       "      <th>All</th>\n",
       "    </tr>\n",
       "    <tr>\n",
       "      <th>layer</th>\n",
       "      <th></th>\n",
       "      <th></th>\n",
       "      <th></th>\n",
       "    </tr>\n",
       "  </thead>\n",
       "  <tbody>\n",
       "    <tr>\n",
       "      <th>groundwood</th>\n",
       "      <td>3426</td>\n",
       "      <td>2055</td>\n",
       "      <td>5481</td>\n",
       "    </tr>\n",
       "    <tr>\n",
       "      <th>uprightwood</th>\n",
       "      <td>529</td>\n",
       "      <td>883</td>\n",
       "      <td>1412</td>\n",
       "    </tr>\n",
       "    <tr>\n",
       "      <th>All</th>\n",
       "      <td>3955</td>\n",
       "      <td>2938</td>\n",
       "      <td>6893</td>\n",
       "    </tr>\n",
       "  </tbody>\n",
       "</table>\n",
       "</div>"
      ],
      "text/plain": [
       "FP_0.5         FP    TP   All\n",
       "layer                        \n",
       "groundwood   3426  2055  5481\n",
       "uprightwood   529   883  1412\n",
       "All          3955  2938  6893"
      ]
     },
     "execution_count": null,
     "metadata": {},
     "output_type": "execute_result"
    }
   ],
   "source": [
    "pd.crosstab(fp_preds.layer, fp_preds['FP_0.5'], margins=True)"
   ]
  },
  {
   "cell_type": "code",
   "execution_count": null,
   "id": "8db064a9",
   "metadata": {},
   "outputs": [
    {
     "data": {
      "text/html": [
       "<div>\n",
       "<style scoped>\n",
       "    .dataframe tbody tr th:only-of-type {\n",
       "        vertical-align: middle;\n",
       "    }\n",
       "\n",
       "    .dataframe tbody tr th {\n",
       "        vertical-align: top;\n",
       "    }\n",
       "\n",
       "    .dataframe thead th {\n",
       "        text-align: right;\n",
       "    }\n",
       "</style>\n",
       "<table border=\"1\" class=\"dataframe\">\n",
       "  <thead>\n",
       "    <tr style=\"text-align: right;\">\n",
       "      <th>TP_0.5</th>\n",
       "      <th>FN</th>\n",
       "      <th>TP</th>\n",
       "      <th>All</th>\n",
       "    </tr>\n",
       "    <tr>\n",
       "      <th>layer</th>\n",
       "      <th></th>\n",
       "      <th></th>\n",
       "      <th></th>\n",
       "    </tr>\n",
       "  </thead>\n",
       "  <tbody>\n",
       "    <tr>\n",
       "      <th>groundwood</th>\n",
       "      <td>1860</td>\n",
       "      <td>2055</td>\n",
       "      <td>3915</td>\n",
       "    </tr>\n",
       "    <tr>\n",
       "      <th>uprightwood</th>\n",
       "      <td>536</td>\n",
       "      <td>883</td>\n",
       "      <td>1419</td>\n",
       "    </tr>\n",
       "    <tr>\n",
       "      <th>All</th>\n",
       "      <td>2396</td>\n",
       "      <td>2938</td>\n",
       "      <td>5334</td>\n",
       "    </tr>\n",
       "  </tbody>\n",
       "</table>\n",
       "</div>"
      ],
      "text/plain": [
       "TP_0.5         FN    TP   All\n",
       "layer                        \n",
       "groundwood   1860  2055  3915\n",
       "uprightwood   536   883  1419\n",
       "All          2396  2938  5334"
      ]
     },
     "execution_count": null,
     "metadata": {},
     "output_type": "execute_result"
    }
   ],
   "source": [
    "pd.crosstab(tp_truths.layer, tp_truths['TP_0.5'], margins=True)"
   ]
  },
  {
   "cell_type": "markdown",
   "id": "9e1341b4",
   "metadata": {},
   "source": [
    "$Precision = \\frac{tp}{tp+fp}, Recall = \\frac{tp}{tp+fn}$"
   ]
  },
  {
   "cell_type": "code",
   "execution_count": null,
   "id": "b53a4a19",
   "metadata": {},
   "outputs": [
    {
     "name": "stdout",
     "output_type": "stream",
     "text": [
      "Precision for fallen deadwood with IoU threshold of 0.5 is 0.37\n",
      "Recall for fallen deadwood with IoU threshold of 0.5 is 0.52\n"
     ]
    }
   ],
   "source": [
    "print(f'Precision for fallen deadwood with IoU threshold of 0.5 is {(2055/5481):.2f}')\n",
    "print(f'Recall for fallen deadwood with IoU threshold of 0.5 is {(2055/3915):.2f}')"
   ]
  },
  {
   "cell_type": "code",
   "execution_count": null,
   "id": "97660f22",
   "metadata": {},
   "outputs": [
    {
     "name": "stdout",
     "output_type": "stream",
     "text": [
      "Precision for standing deadwood with IoU threshold of 0.5 is 0.63\n",
      "Recall for standing deadwood with IoU threshold of 0.5 is 0.62\n"
     ]
    }
   ],
   "source": [
    "print(f'Precision for standing deadwood with IoU threshold of 0.5 is {(883/1412):.2f}')\n",
    "print(f'Recall for standing deadwood with IoU threshold of 0.5 is {(883/1419):.2f}')"
   ]
  },
  {
   "cell_type": "code",
   "execution_count": null,
   "id": "2fb505b4",
   "metadata": {},
   "outputs": [
    {
     "name": "stdout",
     "output_type": "stream",
     "text": [
      "Overall precision with IoU threshold of 0.5 is 0.43\n",
      "Overall recall with IoU threshold of 0.5 is 0.55\n"
     ]
    }
   ],
   "source": [
    "print(f'Overall precision with IoU threshold of 0.5 is {(2938/6893):.2f}')\n",
    "print(f'Overall recall with IoU threshold of 0.5 is {(2938/5334):.2f}')"
   ]
  },
  {
   "cell_type": "markdown",
   "id": "796648b7",
   "metadata": {},
   "source": [
    "## Half patch overlap and edge filtering"
   ]
  },
  {
   "cell_type": "code",
   "execution_count": null,
   "id": "b7552d29",
   "metadata": {},
   "outputs": [],
   "source": [
    "spk_res_path = Path('../results/spk_benchmark/r101/')\n",
    "truth_shps = sorted([spk_res_path/'vector_tiles'/f for f in os.listdir(spk_res_path/'vector_tiles')])\n",
    "spk_buf_raw_shps = sorted([spk_res_path/'raw_preds'/f for f in os.listdir(spk_res_path/'raw_preds')])\n",
    "rasters = sorted([spk_res_path/'raster_tiles'/f for f in os.listdir(spk_res_path/'raster_tiles')])"
   ]
  },
  {
   "cell_type": "code",
   "execution_count": null,
   "id": "cff7058a",
   "metadata": {},
   "outputs": [],
   "source": [
    "for p, t in zip(spk_buf_raw_shps, truth_shps):\n",
    "    temp_pred = gpd.read_file(p)\n",
    "    temp_truth = gpd.read_file(t)\n",
    "    temp_pred = gpd.clip(temp_pred, box(*temp_truth.total_bounds))\n",
    "    temp_pred['geometry'] = temp_pred.apply(lambda row: fix_multipolys(row.geometry) \n",
    "                                            if row.geometry.type == 'MultiPolygon' \n",
    "                                            else shapely.geometry.Polygon(row.geometry.exterior), axis=1)\n",
    "    temp_pred['label'] += 1\n",
    "    temp_pred = temp_pred[temp_pred.geometry.area > 16*0.0485**2]\n",
    "    temp_pred.to_file(spk_res_path/'predicted_vectors'/p.name)"
   ]
  },
  {
   "cell_type": "code",
   "execution_count": null,
   "id": "48d3f4c8",
   "metadata": {},
   "outputs": [],
   "source": [
    "pred_shps = sorted([spk_res_path/'predicted_vectors'/f for f in os.listdir(spk_res_path/'predicted_vectors')])"
   ]
  },
  {
   "cell_type": "code",
   "execution_count": null,
   "id": "4d7d7261",
   "metadata": {},
   "outputs": [],
   "source": [
    "truths = None\n",
    "preds = None\n",
    "\n",
    "for p, t in zip(pred_shps, truth_shps):\n",
    "    temp_pred = gpd.read_file(p)\n",
    "    temp_truth = gpd.read_file(t)\n",
    "    if truths is None:\n",
    "        truths = temp_truth\n",
    "        preds = temp_pred\n",
    "    else:\n",
    "        truths = pd.concat((truths, temp_truth))\n",
    "        preds = pd.concat((preds, temp_pred))"
   ]
  },
  {
   "cell_type": "code",
   "execution_count": null,
   "id": "d2f040b8",
   "metadata": {},
   "outputs": [],
   "source": [
    "preds['layer'] = preds.apply(lambda row: 'groundwood' if row.label == 2 else 'uprightwood', axis=1)"
   ]
  },
  {
   "cell_type": "code",
   "execution_count": null,
   "id": "6771fe51",
   "metadata": {},
   "outputs": [
    {
     "data": {
      "text/plain": [
       "((6511, 4), (5334, 4))"
      ]
     },
     "execution_count": null,
     "metadata": {},
     "output_type": "execute_result"
    }
   ],
   "source": [
    "preds.shape, truths.shape"
   ]
  },
  {
   "cell_type": "code",
   "execution_count": null,
   "id": "b7140169",
   "metadata": {},
   "outputs": [
    {
     "data": {
      "text/plain": [
       "groundwood     5204\n",
       "uprightwood    1307\n",
       "Name: layer, dtype: int64"
      ]
     },
     "execution_count": null,
     "metadata": {},
     "output_type": "execute_result"
    }
   ],
   "source": [
    "preds.layer.value_counts()"
   ]
  },
  {
   "cell_type": "code",
   "execution_count": null,
   "id": "040b0924",
   "metadata": {},
   "outputs": [],
   "source": [
    "truths.rename(columns={'label':'layer'}, inplace=True)"
   ]
  },
  {
   "cell_type": "code",
   "execution_count": null,
   "id": "2fdf272a",
   "metadata": {},
   "outputs": [],
   "source": [
    "dis_truths = truths.dissolve(by='layer')\n",
    "dis_preds = preds.dissolve(by='layer')"
   ]
  },
  {
   "cell_type": "code",
   "execution_count": null,
   "id": "b7dad594",
   "metadata": {},
   "outputs": [
    {
     "data": {
      "text/plain": [
       "layer\n",
       "groundwood     0.469782\n",
       "uprightwood    0.618346\n",
       "dtype: float64"
      ]
     },
     "execution_count": null,
     "metadata": {},
     "output_type": "execute_result"
    }
   ],
   "source": [
    "poly_IoU(dis_truths, dis_preds)"
   ]
  },
  {
   "cell_type": "code",
   "execution_count": null,
   "id": "4d100f63",
   "metadata": {},
   "outputs": [
    {
     "data": {
      "application/json": {
       "ascii": false,
       "bar_format": null,
       "colour": null,
       "elapsed": 0.013681888580322266,
       "initial": 0,
       "n": 0,
       "ncols": null,
       "nrows": 30,
       "postfix": null,
       "prefix": "",
       "rate": null,
       "total": null,
       "unit": "it",
       "unit_divisor": 1000,
       "unit_scale": false
      },
      "application/vnd.jupyter.widget-view+json": {
       "model_id": "1bd584584d934aea93fc4ae56fde4643",
       "version_major": 2,
       "version_minor": 0
      },
      "text/plain": [
       "0it [00:00, ?it/s]"
      ]
     },
     "metadata": {},
     "output_type": "display_data"
    },
    {
     "data": {
      "application/json": {
       "ascii": false,
       "bar_format": null,
       "colour": null,
       "elapsed": 0.01246786117553711,
       "initial": 0,
       "n": 0,
       "ncols": null,
       "nrows": 30,
       "postfix": null,
       "prefix": "",
       "rate": null,
       "total": 71,
       "unit": "it",
       "unit_divisor": 1000,
       "unit_scale": false
      },
      "application/vnd.jupyter.widget-view+json": {
       "model_id": "e3a76beaec7a4fa28a1c51dcb3d63184",
       "version_major": 2,
       "version_minor": 0
      },
      "text/plain": [
       "  0%|          | 0/71 [00:00<?, ?it/s]"
      ]
     },
     "metadata": {},
     "output_type": "display_data"
    },
    {
     "name": "stdout",
     "output_type": "stream",
     "text": [
      "loading annotations into memory...\n",
      "Done (t=0.19s)\n",
      "creating index...\n",
      "index created!\n",
      "Loading and preparing results...\n",
      "DONE (t=0.05s)\n",
      "creating index...\n",
      "index created!\n",
      "\n",
      "Evaluating for category uprightwood\n",
      "Running per image evaluation...\n",
      "Evaluate annotation type *segm*\n",
      "DONE (t=0.73s).\n",
      "Accumulating evaluation results...\n",
      "DONE (t=0.02s).\n",
      " Average Precision  (AP) @[ IoU=0.50:0.95 | area=   all | maxDets=10000 ] = 0.321\n",
      " Average Precision  (AP) @[ IoU=0.50      | area=   all | maxDets=10000 ] = 0.591\n",
      " Average Precision  (AP) @[ IoU=0.75      | area=   all | maxDets=10000 ] = 0.331\n",
      " Average Precision  (AP) @[ IoU=0.50:0.95 | area= small | maxDets=10000 ] = 0.145\n",
      " Average Precision  (AP) @[ IoU=0.50:0.95 | area=medium | maxDets=10000 ] = 0.422\n",
      " Average Precision  (AP) @[ IoU=0.50:0.95 | area= large | maxDets=10000 ] = 0.362\n",
      " Average Recall     (AR) @[ IoU=0.50:0.95 | area=   all | maxDets=1000 ] = 0.398\n",
      " Average Recall     (AR) @[ IoU=0.50:0.95 | area= small | maxDets=1000 ] = 0.237\n",
      " Average Recall     (AR) @[ IoU=0.50:0.95 | area=medium | maxDets=1000 ] = 0.495\n",
      " Average Recall     (AR) @[ IoU=0.50:0.95 | area= large | maxDets=1000 ] = 0.657\n",
      "\n",
      "Evaluating for category groundwood\n",
      "Running per image evaluation...\n",
      "Evaluate annotation type *segm*\n",
      "DONE (t=9.72s).\n",
      "Accumulating evaluation results...\n",
      "DONE (t=0.05s).\n",
      " Average Precision  (AP) @[ IoU=0.50:0.95 | area=   all | maxDets=10000 ] = 0.158\n",
      " Average Precision  (AP) @[ IoU=0.50      | area=   all | maxDets=10000 ] = 0.438\n",
      " Average Precision  (AP) @[ IoU=0.75      | area=   all | maxDets=10000 ] = 0.063\n",
      " Average Precision  (AP) @[ IoU=0.50:0.95 | area= small | maxDets=10000 ] = 0.155\n",
      " Average Precision  (AP) @[ IoU=0.50:0.95 | area=medium | maxDets=10000 ] = 0.233\n",
      " Average Precision  (AP) @[ IoU=0.50:0.95 | area= large | maxDets=10000 ] = -1.000\n",
      " Average Recall     (AR) @[ IoU=0.50:0.95 | area=   all | maxDets=1000 ] = 0.252\n",
      " Average Recall     (AR) @[ IoU=0.50:0.95 | area= small | maxDets=1000 ] = 0.251\n",
      " Average Recall     (AR) @[ IoU=0.50:0.95 | area=medium | maxDets=1000 ] = 0.284\n",
      " Average Recall     (AR) @[ IoU=0.50:0.95 | area= large | maxDets=1000 ] = -1.000\n",
      "\n",
      "Evaluating for full data...\n",
      "Running per image evaluation...\n",
      "Evaluate annotation type *segm*\n",
      "DONE (t=10.63s).\n",
      "Accumulating evaluation results...\n",
      "DONE (t=0.07s).\n",
      " Average Precision  (AP) @[ IoU=0.50:0.95 | area=   all | maxDets=10000 ] = 0.239\n",
      " Average Precision  (AP) @[ IoU=0.50      | area=   all | maxDets=10000 ] = 0.514\n",
      " Average Precision  (AP) @[ IoU=0.75      | area=   all | maxDets=10000 ] = 0.197\n",
      " Average Precision  (AP) @[ IoU=0.50:0.95 | area= small | maxDets=10000 ] = 0.150\n",
      " Average Precision  (AP) @[ IoU=0.50:0.95 | area=medium | maxDets=10000 ] = 0.327\n",
      " Average Precision  (AP) @[ IoU=0.50:0.95 | area= large | maxDets=10000 ] = 0.362\n",
      " Average Recall     (AR) @[ IoU=0.50:0.95 | area=   all | maxDets=1000 ] = 0.325\n",
      " Average Recall     (AR) @[ IoU=0.50:0.95 | area= small | maxDets=1000 ] = 0.244\n",
      " Average Recall     (AR) @[ IoU=0.50:0.95 | area=medium | maxDets=1000 ] = 0.390\n",
      " Average Recall     (AR) @[ IoU=0.50:0.95 | area= large | maxDets=1000 ] = 0.657\n"
     ]
    }
   ],
   "source": [
    "deadwood_categories = [{'supercategory': 'deadwood', 'id':1, 'name':'uprightwood'},\n",
    "                 \n",
    "                       {'supercategory': 'deadwood', 'id':2, 'name':'groundwood'}]\n",
    "\n",
    "spk_coco_eval = GisCOCOeval(spk_res_path, spk_res_path, \n",
    "                           None, None, deadwood_categories)\n",
    "spk_coco_eval.prepare_data(gt_label_col='label')\n",
    "spk_coco_eval.prepare_eval()\n",
    "spk_coco_eval.coco_eval.params.maxDets = [1000, 10000]\n",
    "spk_coco_eval.evaluate()"
   ]
  },
  {
   "cell_type": "markdown",
   "id": "f008b3c9-ba5b-4989-a3db-038cfd911ccf",
   "metadata": {},
   "source": [
    "The overall AP50 score is close to the patch-level results here."
   ]
  },
  {
   "cell_type": "code",
   "execution_count": null,
   "id": "8dfc3a2d",
   "metadata": {},
   "outputs": [
    {
     "data": {
      "application/json": {
       "ascii": false,
       "bar_format": null,
       "colour": null,
       "elapsed": 0.01336216926574707,
       "initial": 0,
       "n": 0,
       "ncols": null,
       "nrows": 30,
       "postfix": null,
       "prefix": "",
       "rate": null,
       "total": 5334,
       "unit": "it",
       "unit_divisor": 1000,
       "unit_scale": false
      },
      "application/vnd.jupyter.widget-view+json": {
       "model_id": "618ea08d8540471a95737beb5330a560",
       "version_major": 2,
       "version_minor": 0
      },
      "text/plain": [
       "  0%|          | 0/5334 [00:00<?, ?it/s]"
      ]
     },
     "metadata": {},
     "output_type": "display_data"
    },
    {
     "data": {
      "application/json": {
       "ascii": false,
       "bar_format": null,
       "colour": null,
       "elapsed": 0.012086629867553711,
       "initial": 0,
       "n": 0,
       "ncols": null,
       "nrows": 30,
       "postfix": null,
       "prefix": "",
       "rate": null,
       "total": 6511,
       "unit": "it",
       "unit_divisor": 1000,
       "unit_scale": false
      },
      "application/vnd.jupyter.widget-view+json": {
       "model_id": "3bd08bb0ec0740c698589598b9042414",
       "version_major": 2,
       "version_minor": 0
      },
      "text/plain": [
       "  0%|          | 0/6511 [00:00<?, ?it/s]"
      ]
     },
     "metadata": {},
     "output_type": "display_data"
    }
   ],
   "source": [
    "tp_truths = truths.copy()\n",
    "tp_truths['label'] = tp_truths.layer.apply(lambda row: 1 if row=='uprightwood' else 2)\n",
    "truth_sindex = tp_truths.sindex\n",
    "fp_preds = preds.copy()\n",
    "pred_sindex = fp_preds.sindex\n",
    "tp_truths[tp_cols] = tp_truths.progress_apply(lambda row: is_true_positive(row, fp_preds, pred_sindex), \n",
    "                                              axis=1, result_type='expand')\n",
    "fp_preds[fp_cols] = fp_preds.progress_apply(lambda row: is_false_positive(row, tp_truths, truth_sindex,\n",
    "                                                                            fp_preds, pred_sindex),\n",
    "                                            axis=1, result_type='expand')"
   ]
  },
  {
   "cell_type": "code",
   "execution_count": null,
   "id": "c9be510b",
   "metadata": {},
   "outputs": [
    {
     "data": {
      "text/html": [
       "<div>\n",
       "<style scoped>\n",
       "    .dataframe tbody tr th:only-of-type {\n",
       "        vertical-align: middle;\n",
       "    }\n",
       "\n",
       "    .dataframe tbody tr th {\n",
       "        vertical-align: top;\n",
       "    }\n",
       "\n",
       "    .dataframe thead th {\n",
       "        text-align: right;\n",
       "    }\n",
       "</style>\n",
       "<table border=\"1\" class=\"dataframe\">\n",
       "  <thead>\n",
       "    <tr style=\"text-align: right;\">\n",
       "      <th>FP_0.5</th>\n",
       "      <th>FP</th>\n",
       "      <th>TP</th>\n",
       "      <th>All</th>\n",
       "    </tr>\n",
       "    <tr>\n",
       "      <th>layer</th>\n",
       "      <th></th>\n",
       "      <th></th>\n",
       "      <th></th>\n",
       "    </tr>\n",
       "  </thead>\n",
       "  <tbody>\n",
       "    <tr>\n",
       "      <th>groundwood</th>\n",
       "      <td>3034</td>\n",
       "      <td>2170</td>\n",
       "      <td>5204</td>\n",
       "    </tr>\n",
       "    <tr>\n",
       "      <th>uprightwood</th>\n",
       "      <td>378</td>\n",
       "      <td>929</td>\n",
       "      <td>1307</td>\n",
       "    </tr>\n",
       "    <tr>\n",
       "      <th>All</th>\n",
       "      <td>3412</td>\n",
       "      <td>3099</td>\n",
       "      <td>6511</td>\n",
       "    </tr>\n",
       "  </tbody>\n",
       "</table>\n",
       "</div>"
      ],
      "text/plain": [
       "FP_0.5         FP    TP   All\n",
       "layer                        \n",
       "groundwood   3034  2170  5204\n",
       "uprightwood   378   929  1307\n",
       "All          3412  3099  6511"
      ]
     },
     "execution_count": null,
     "metadata": {},
     "output_type": "execute_result"
    }
   ],
   "source": [
    "pd.crosstab(fp_preds.layer, fp_preds['FP_0.5'], margins=True)"
   ]
  },
  {
   "cell_type": "code",
   "execution_count": null,
   "id": "b696a6a1",
   "metadata": {},
   "outputs": [
    {
     "data": {
      "text/html": [
       "<div>\n",
       "<style scoped>\n",
       "    .dataframe tbody tr th:only-of-type {\n",
       "        vertical-align: middle;\n",
       "    }\n",
       "\n",
       "    .dataframe tbody tr th {\n",
       "        vertical-align: top;\n",
       "    }\n",
       "\n",
       "    .dataframe thead th {\n",
       "        text-align: right;\n",
       "    }\n",
       "</style>\n",
       "<table border=\"1\" class=\"dataframe\">\n",
       "  <thead>\n",
       "    <tr style=\"text-align: right;\">\n",
       "      <th>TP_0.5</th>\n",
       "      <th>FN</th>\n",
       "      <th>TP</th>\n",
       "      <th>All</th>\n",
       "    </tr>\n",
       "    <tr>\n",
       "      <th>layer</th>\n",
       "      <th></th>\n",
       "      <th></th>\n",
       "      <th></th>\n",
       "    </tr>\n",
       "  </thead>\n",
       "  <tbody>\n",
       "    <tr>\n",
       "      <th>groundwood</th>\n",
       "      <td>1745</td>\n",
       "      <td>2170</td>\n",
       "      <td>3915</td>\n",
       "    </tr>\n",
       "    <tr>\n",
       "      <th>uprightwood</th>\n",
       "      <td>489</td>\n",
       "      <td>930</td>\n",
       "      <td>1419</td>\n",
       "    </tr>\n",
       "    <tr>\n",
       "      <th>All</th>\n",
       "      <td>2234</td>\n",
       "      <td>3100</td>\n",
       "      <td>5334</td>\n",
       "    </tr>\n",
       "  </tbody>\n",
       "</table>\n",
       "</div>"
      ],
      "text/plain": [
       "TP_0.5         FN    TP   All\n",
       "layer                        \n",
       "groundwood   1745  2170  3915\n",
       "uprightwood   489   930  1419\n",
       "All          2234  3100  5334"
      ]
     },
     "execution_count": null,
     "metadata": {},
     "output_type": "execute_result"
    }
   ],
   "source": [
    "pd.crosstab(tp_truths.layer, tp_truths['TP_0.5'], margins=True)"
   ]
  },
  {
   "cell_type": "markdown",
   "id": "37430157",
   "metadata": {},
   "source": [
    "$Precision = \\frac{tp}{tp+fp}, Recall = \\frac{tp}{tp+fn}$"
   ]
  },
  {
   "cell_type": "code",
   "execution_count": null,
   "id": "2cac7543",
   "metadata": {},
   "outputs": [
    {
     "name": "stdout",
     "output_type": "stream",
     "text": [
      "Precision for fallen deadwood with IoU threshold of 0.5 is 0.42\n",
      "Recall for fallen deadwood with IoU threshold of 0.5 is 0.55\n"
     ]
    }
   ],
   "source": [
    "print(f'Precision for fallen deadwood with IoU threshold of 0.5 is {(2170/5204):.2f}')\n",
    "print(f'Recall for fallen deadwood with IoU threshold of 0.5 is {(2170/3915):.2f}')"
   ]
  },
  {
   "cell_type": "code",
   "execution_count": null,
   "id": "0f6ca3c8",
   "metadata": {},
   "outputs": [
    {
     "name": "stdout",
     "output_type": "stream",
     "text": [
      "Precision for standing deadwood with IoU threshold of 0.5 is 0.71\n",
      "Recall for standing deadwood with IoU threshold of 0.5 is 0.66\n"
     ]
    }
   ],
   "source": [
    "print(f'Precision for standing deadwood with IoU threshold of 0.5 is {(929/1307):.2f}')\n",
    "print(f'Recall for standing deadwood with IoU threshold of 0.5 is {(930/1419):.2f}')"
   ]
  },
  {
   "cell_type": "code",
   "execution_count": null,
   "id": "1376d903",
   "metadata": {},
   "outputs": [
    {
     "name": "stdout",
     "output_type": "stream",
     "text": [
      "Overall precision with IoU threshold of 0.5 is 0.48\n",
      "Overall recall with IoU threshold of 0.5 is 0.58\n"
     ]
    }
   ],
   "source": [
    "print(f'Overall precision with IoU threshold of 0.5 is {(3099/6511):.2f}')\n",
    "print(f'Overall recall with IoU threshold of 0.5 is {(3100/5334):.2f}')"
   ]
  },
  {
   "cell_type": "markdown",
   "id": "5caf42ce",
   "metadata": {},
   "source": [
    "## Overlap, edge filtering and mask merging"
   ]
  },
  {
   "cell_type": "code",
   "execution_count": null,
   "id": "e4f0a736",
   "metadata": {},
   "outputs": [],
   "source": [
    "merge_outpath = Path('../results/spk_benchmark/r101_merge/')\n",
    "if not os.path.exists(merge_outpath):\n",
    "    shutil.copytree('../results/spk_template/', merge_outpath, symlinks=True)"
   ]
  },
  {
   "cell_type": "markdown",
   "id": "610e3c03",
   "metadata": {},
   "source": [
    "Two iterations of merging is usually enough."
   ]
  },
  {
   "cell_type": "code",
   "execution_count": null,
   "id": "19a8e245",
   "metadata": {},
   "outputs": [],
   "source": [
    "#| output: false\n",
    "\n",
    "for r in pred_shps:\n",
    "    gdf_temp = gpd.read_file(r)\n",
    "    standing = gdf_temp[gdf_temp.label==1].copy()\n",
    "    fallen = gdf_temp[gdf_temp.label==2].copy()\n",
    "    if len(standing) > 0:\n",
    "        standing = merge_polys(standing, 0.2)\n",
    "        standing = merge_polys(standing, 0.2)\n",
    "    if len(fallen) > 0:\n",
    "        fallen = merge_polys(fallen, 0.2)\n",
    "        fallen = merge_polys(fallen, 0.2)\n",
    "    gdf_merged = pd.concat((standing, fallen))\n",
    "    gdf_merged.to_file(merge_outpath/'predicted_vectors'/r.name, driver='GeoJSON')\n",
    "    gdf_merged = None\n",
    "    gdf_temp = None"
   ]
  },
  {
   "cell_type": "code",
   "execution_count": null,
   "id": "e1308ef3",
   "metadata": {},
   "outputs": [
    {
     "data": {
      "application/json": {
       "ascii": false,
       "bar_format": null,
       "colour": null,
       "elapsed": 0.01288294792175293,
       "initial": 0,
       "n": 0,
       "ncols": null,
       "nrows": 30,
       "postfix": null,
       "prefix": "",
       "rate": null,
       "total": null,
       "unit": "it",
       "unit_divisor": 1000,
       "unit_scale": false
      },
      "application/vnd.jupyter.widget-view+json": {
       "model_id": "e4f2ff85c3df435294e062e14ffc2315",
       "version_major": 2,
       "version_minor": 0
      },
      "text/plain": [
       "0it [00:00, ?it/s]"
      ]
     },
     "metadata": {},
     "output_type": "display_data"
    },
    {
     "data": {
      "application/json": {
       "ascii": false,
       "bar_format": null,
       "colour": null,
       "elapsed": 0.011353731155395508,
       "initial": 0,
       "n": 0,
       "ncols": null,
       "nrows": 30,
       "postfix": null,
       "prefix": "",
       "rate": null,
       "total": 71,
       "unit": "it",
       "unit_divisor": 1000,
       "unit_scale": false
      },
      "application/vnd.jupyter.widget-view+json": {
       "model_id": "3430858b58d14e2fba675a7d124c93d0",
       "version_major": 2,
       "version_minor": 0
      },
      "text/plain": [
       "  0%|          | 0/71 [00:00<?, ?it/s]"
      ]
     },
     "metadata": {},
     "output_type": "display_data"
    },
    {
     "name": "stdout",
     "output_type": "stream",
     "text": [
      "loading annotations into memory...\n",
      "Done (t=0.20s)\n",
      "creating index...\n",
      "index created!\n",
      "Loading and preparing results...\n",
      "DONE (t=0.31s)\n",
      "creating index...\n",
      "index created!\n",
      "\n",
      "Evaluating for category uprightwood\n",
      "Running per image evaluation...\n",
      "Evaluate annotation type *segm*\n",
      "DONE (t=0.68s).\n",
      "Accumulating evaluation results...\n",
      "DONE (t=0.02s).\n",
      " Average Precision  (AP) @[ IoU=0.50:0.95 | area=   all | maxDets=1000 ] = 0.311\n",
      " Average Precision  (AP) @[ IoU=0.50      | area=   all | maxDets=1000 ] = 0.572\n",
      " Average Precision  (AP) @[ IoU=0.75      | area=   all | maxDets=1000 ] = 0.321\n",
      " Average Precision  (AP) @[ IoU=0.50:0.95 | area= small | maxDets=1000 ] = 0.142\n",
      " Average Precision  (AP) @[ IoU=0.50:0.95 | area=medium | maxDets=1000 ] = 0.408\n",
      " Average Precision  (AP) @[ IoU=0.50:0.95 | area= large | maxDets=1000 ] = 0.420\n",
      " Average Recall     (AR) @[ IoU=0.50:0.95 | area=   all | maxDets=100 ] = 0.378\n",
      " Average Recall     (AR) @[ IoU=0.50:0.95 | area= small | maxDets=100 ] = 0.228\n",
      " Average Recall     (AR) @[ IoU=0.50:0.95 | area=medium | maxDets=100 ] = 0.469\n",
      " Average Recall     (AR) @[ IoU=0.50:0.95 | area= large | maxDets=100 ] = 0.636\n",
      "\n",
      "Evaluating for category groundwood\n",
      "Running per image evaluation...\n",
      "Evaluate annotation type *segm*\n",
      "DONE (t=7.82s).\n",
      "Accumulating evaluation results...\n",
      "DONE (t=0.04s).\n",
      " Average Precision  (AP) @[ IoU=0.50:0.95 | area=   all | maxDets=1000 ] = 0.160\n",
      " Average Precision  (AP) @[ IoU=0.50      | area=   all | maxDets=1000 ] = 0.450\n",
      " Average Precision  (AP) @[ IoU=0.75      | area=   all | maxDets=1000 ] = 0.064\n",
      " Average Precision  (AP) @[ IoU=0.50:0.95 | area= small | maxDets=1000 ] = 0.157\n",
      " Average Precision  (AP) @[ IoU=0.50:0.95 | area=medium | maxDets=1000 ] = 0.258\n",
      " Average Precision  (AP) @[ IoU=0.50:0.95 | area= large | maxDets=1000 ] = -1.000\n",
      " Average Recall     (AR) @[ IoU=0.50:0.95 | area=   all | maxDets=100 ] = 0.205\n",
      " Average Recall     (AR) @[ IoU=0.50:0.95 | area= small | maxDets=100 ] = 0.203\n",
      " Average Recall     (AR) @[ IoU=0.50:0.95 | area=medium | maxDets=100 ] = 0.275\n",
      " Average Recall     (AR) @[ IoU=0.50:0.95 | area= large | maxDets=100 ] = -1.000\n",
      "\n",
      "Evaluating for full data...\n",
      "Running per image evaluation...\n",
      "Evaluate annotation type *segm*\n",
      "DONE (t=8.47s).\n",
      "Accumulating evaluation results...\n",
      "DONE (t=0.06s).\n",
      " Average Precision  (AP) @[ IoU=0.50:0.95 | area=   all | maxDets=1000 ] = 0.236\n",
      " Average Precision  (AP) @[ IoU=0.50      | area=   all | maxDets=1000 ] = 0.511\n",
      " Average Precision  (AP) @[ IoU=0.75      | area=   all | maxDets=1000 ] = 0.192\n",
      " Average Precision  (AP) @[ IoU=0.50:0.95 | area= small | maxDets=1000 ] = 0.149\n",
      " Average Precision  (AP) @[ IoU=0.50:0.95 | area=medium | maxDets=1000 ] = 0.333\n",
      " Average Precision  (AP) @[ IoU=0.50:0.95 | area= large | maxDets=1000 ] = 0.420\n",
      " Average Recall     (AR) @[ IoU=0.50:0.95 | area=   all | maxDets=100 ] = 0.292\n",
      " Average Recall     (AR) @[ IoU=0.50:0.95 | area= small | maxDets=100 ] = 0.215\n",
      " Average Recall     (AR) @[ IoU=0.50:0.95 | area=medium | maxDets=100 ] = 0.372\n",
      " Average Recall     (AR) @[ IoU=0.50:0.95 | area= large | maxDets=100 ] = 0.636\n"
     ]
    }
   ],
   "source": [
    "merged_coco_eval = GisCOCOeval(merge_outpath, merge_outpath, None, None, deadwood_categories)\n",
    "merged_coco_eval.prepare_data(gt_label_col='label')\n",
    "merged_coco_eval.prepare_eval()\n",
    "merged_coco_eval.evaluate()"
   ]
  },
  {
   "cell_type": "code",
   "execution_count": null,
   "id": "0b984e1a",
   "metadata": {},
   "outputs": [],
   "source": [
    "preds.reset_index(drop=True, inplace=True)\n",
    "standing = merge_polys(preds[preds.label == 1].copy(), 0.2)\n",
    "fallen = merge_polys(preds[preds.label == 2].copy(), 0.2)\n",
    "standing = merge_polys(standing, 0.2)\n",
    "fallen = merge_polys(fallen, 0.2)\n",
    "preds_merged = pd.concat((standing, fallen))"
   ]
  },
  {
   "cell_type": "code",
   "execution_count": null,
   "id": "78a0023f",
   "metadata": {},
   "outputs": [
    {
     "data": {
      "text/plain": [
       "groundwood     4130\n",
       "uprightwood    1190\n",
       "Name: layer, dtype: int64"
      ]
     },
     "execution_count": null,
     "metadata": {},
     "output_type": "execute_result"
    }
   ],
   "source": [
    "preds_merged['layer'] = preds_merged.apply(lambda row: 'groundwood' if row.label == 2 else 'uprightwood', axis=1)\n",
    "preds_merged.layer.value_counts()"
   ]
  },
  {
   "cell_type": "code",
   "execution_count": null,
   "id": "10256c1b",
   "metadata": {},
   "outputs": [
    {
     "data": {
      "application/json": {
       "ascii": false,
       "bar_format": null,
       "colour": null,
       "elapsed": 0.011974573135375977,
       "initial": 0,
       "n": 0,
       "ncols": null,
       "nrows": 30,
       "postfix": null,
       "prefix": "",
       "rate": null,
       "total": 5334,
       "unit": "it",
       "unit_divisor": 1000,
       "unit_scale": false
      },
      "application/vnd.jupyter.widget-view+json": {
       "model_id": "3a1d4bc5003b4dba85ab2111b7c27666",
       "version_major": 2,
       "version_minor": 0
      },
      "text/plain": [
       "  0%|          | 0/5334 [00:00<?, ?it/s]"
      ]
     },
     "metadata": {},
     "output_type": "display_data"
    },
    {
     "data": {
      "application/json": {
       "ascii": false,
       "bar_format": null,
       "colour": null,
       "elapsed": 0.01158905029296875,
       "initial": 0,
       "n": 0,
       "ncols": null,
       "nrows": 30,
       "postfix": null,
       "prefix": "",
       "rate": null,
       "total": 5320,
       "unit": "it",
       "unit_divisor": 1000,
       "unit_scale": false
      },
      "application/vnd.jupyter.widget-view+json": {
       "model_id": "c8306eec529c4f9aa461a9b219493c4b",
       "version_major": 2,
       "version_minor": 0
      },
      "text/plain": [
       "  0%|          | 0/5320 [00:00<?, ?it/s]"
      ]
     },
     "metadata": {},
     "output_type": "display_data"
    }
   ],
   "source": [
    "tp_truths = truths.copy()\n",
    "tp_truths['label'] = tp_truths.layer.apply(lambda row: 1 if row=='uprightwood' else 2)\n",
    "truth_sindex = tp_truths.sindex\n",
    "fp_preds_merged = preds_merged.copy()\n",
    "pred_sindex = fp_preds_merged.sindex\n",
    "tp_truths[tp_cols] = tp_truths.progress_apply(lambda row: is_true_positive(row, fp_preds_merged, pred_sindex), \n",
    "                                              axis=1, result_type='expand')\n",
    "fp_preds_merged[fp_cols] = fp_preds_merged.progress_apply(lambda row: is_false_positive(row, tp_truths, truth_sindex,\n",
    "                                                                            fp_preds_merged, pred_sindex),\n",
    "                                            axis=1, result_type='expand')"
   ]
  },
  {
   "cell_type": "code",
   "execution_count": null,
   "id": "386ef78d",
   "metadata": {},
   "outputs": [
    {
     "data": {
      "text/html": [
       "<div>\n",
       "<style scoped>\n",
       "    .dataframe tbody tr th:only-of-type {\n",
       "        vertical-align: middle;\n",
       "    }\n",
       "\n",
       "    .dataframe tbody tr th {\n",
       "        vertical-align: top;\n",
       "    }\n",
       "\n",
       "    .dataframe thead th {\n",
       "        text-align: right;\n",
       "    }\n",
       "</style>\n",
       "<table border=\"1\" class=\"dataframe\">\n",
       "  <thead>\n",
       "    <tr style=\"text-align: right;\">\n",
       "      <th>FP_0.5</th>\n",
       "      <th>FP</th>\n",
       "      <th>TP</th>\n",
       "      <th>All</th>\n",
       "    </tr>\n",
       "    <tr>\n",
       "      <th>layer</th>\n",
       "      <th></th>\n",
       "      <th></th>\n",
       "      <th></th>\n",
       "    </tr>\n",
       "  </thead>\n",
       "  <tbody>\n",
       "    <tr>\n",
       "      <th>groundwood</th>\n",
       "      <td>2014</td>\n",
       "      <td>2116</td>\n",
       "      <td>4130</td>\n",
       "    </tr>\n",
       "    <tr>\n",
       "      <th>uprightwood</th>\n",
       "      <td>306</td>\n",
       "      <td>884</td>\n",
       "      <td>1190</td>\n",
       "    </tr>\n",
       "    <tr>\n",
       "      <th>All</th>\n",
       "      <td>2320</td>\n",
       "      <td>3000</td>\n",
       "      <td>5320</td>\n",
       "    </tr>\n",
       "  </tbody>\n",
       "</table>\n",
       "</div>"
      ],
      "text/plain": [
       "FP_0.5         FP    TP   All\n",
       "layer                        \n",
       "groundwood   2014  2116  4130\n",
       "uprightwood   306   884  1190\n",
       "All          2320  3000  5320"
      ]
     },
     "execution_count": null,
     "metadata": {},
     "output_type": "execute_result"
    }
   ],
   "source": [
    "pd.crosstab(fp_preds_merged.layer, fp_preds_merged['FP_0.5'], margins=True)"
   ]
  },
  {
   "cell_type": "code",
   "execution_count": null,
   "id": "6bf26ea2",
   "metadata": {},
   "outputs": [
    {
     "data": {
      "text/html": [
       "<div>\n",
       "<style scoped>\n",
       "    .dataframe tbody tr th:only-of-type {\n",
       "        vertical-align: middle;\n",
       "    }\n",
       "\n",
       "    .dataframe tbody tr th {\n",
       "        vertical-align: top;\n",
       "    }\n",
       "\n",
       "    .dataframe thead th {\n",
       "        text-align: right;\n",
       "    }\n",
       "</style>\n",
       "<table border=\"1\" class=\"dataframe\">\n",
       "  <thead>\n",
       "    <tr style=\"text-align: right;\">\n",
       "      <th>TP_0.5</th>\n",
       "      <th>FN</th>\n",
       "      <th>TP</th>\n",
       "      <th>All</th>\n",
       "    </tr>\n",
       "    <tr>\n",
       "      <th>layer</th>\n",
       "      <th></th>\n",
       "      <th></th>\n",
       "      <th></th>\n",
       "    </tr>\n",
       "  </thead>\n",
       "  <tbody>\n",
       "    <tr>\n",
       "      <th>groundwood</th>\n",
       "      <td>1800</td>\n",
       "      <td>2115</td>\n",
       "      <td>3915</td>\n",
       "    </tr>\n",
       "    <tr>\n",
       "      <th>uprightwood</th>\n",
       "      <td>534</td>\n",
       "      <td>885</td>\n",
       "      <td>1419</td>\n",
       "    </tr>\n",
       "    <tr>\n",
       "      <th>All</th>\n",
       "      <td>2334</td>\n",
       "      <td>3000</td>\n",
       "      <td>5334</td>\n",
       "    </tr>\n",
       "  </tbody>\n",
       "</table>\n",
       "</div>"
      ],
      "text/plain": [
       "TP_0.5         FN    TP   All\n",
       "layer                        \n",
       "groundwood   1800  2115  3915\n",
       "uprightwood   534   885  1419\n",
       "All          2334  3000  5334"
      ]
     },
     "execution_count": null,
     "metadata": {},
     "output_type": "execute_result"
    }
   ],
   "source": [
    "pd.crosstab(tp_truths.layer, tp_truths['TP_0.5'], margins=True)"
   ]
  },
  {
   "cell_type": "markdown",
   "id": "001f74a5",
   "metadata": {},
   "source": [
    "$Precision = \\frac{tp}{tp+fp}, Recall = \\frac{tp}{tp+fn}$"
   ]
  },
  {
   "cell_type": "code",
   "execution_count": null,
   "id": "ab96de72",
   "metadata": {},
   "outputs": [
    {
     "name": "stdout",
     "output_type": "stream",
     "text": [
      "Precision for fallen deadwood with IoU threshold of 0.5 is 0.51\n",
      "Recall for fallen deadwood with IoU threshold of 0.5 is 0.54\n"
     ]
    }
   ],
   "source": [
    "print(f'Precision for fallen deadwood with IoU threshold of 0.5 is {(2116/4130):.2f}')\n",
    "print(f'Recall for fallen deadwood with IoU threshold of 0.5 is {(2115/3915):.2f}')"
   ]
  },
  {
   "cell_type": "code",
   "execution_count": null,
   "id": "b1848df3",
   "metadata": {},
   "outputs": [
    {
     "name": "stdout",
     "output_type": "stream",
     "text": [
      "Precision for standing deadwood with IoU threshold of 0.5 is 0.74\n",
      "Recall for standing deadwood with IoU threshold of 0.5 is 0.62\n"
     ]
    }
   ],
   "source": [
    "print(f'Precision for standing deadwood with IoU threshold of 0.5 is {(884/1190):.2f}')\n",
    "print(f'Recall for standing deadwood with IoU threshold of 0.5 is {(885/1419):.2f}')"
   ]
  },
  {
   "cell_type": "code",
   "execution_count": null,
   "id": "ac60b313",
   "metadata": {},
   "outputs": [
    {
     "name": "stdout",
     "output_type": "stream",
     "text": [
      "Overall precision with IoU threshold of 0.5 is 0.56\n",
      "Overall recall with IoU threshold of 0.5 is 0.56\n"
     ]
    }
   ],
   "source": [
    "print(f'Overall precision with IoU threshold of 0.5 is {(3000/5320):.2f}')\n",
    "print(f'Overall recall with IoU threshold of 0.5 is {(3000/5334):.2f}')"
   ]
  },
  {
   "cell_type": "code",
   "execution_count": null,
   "id": "4f7a8642",
   "metadata": {},
   "outputs": [],
   "source": [
    "#| echo: false\n",
    "preds_merged.to_file('../results/sudenpesankangas/spk_merged_20220825.geojson')"
   ]
  }
 ],
 "metadata": {
  "kernelspec": {
   "display_name": "Python 3",
   "language": "python",
   "name": "python3"
  }
 },
 "nbformat": 4,
 "nbformat_minor": 5
}
